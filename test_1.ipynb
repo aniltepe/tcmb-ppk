{
 "cells": [
  {
   "cell_type": "code",
   "execution_count": 1,
   "metadata": {},
   "outputs": [
    {
     "name": "stderr",
     "output_type": "stream",
     "text": [
      "[nltk_data] Downloading package punkt_tab to\n",
      "[nltk_data]     /Users/nazimaniltepe/nltk_data...\n",
      "[nltk_data]   Package punkt_tab is already up-to-date!\n"
     ]
    }
   ],
   "source": [
    "import os\n",
    "import json\n",
    "import re\n",
    "import nltk\n",
    "nltk.download('punkt_tab')\n",
    "from nltk.tokenize import sent_tokenize, word_tokenize, PunktTokenizer\n",
    "from gensim.models import Word2Vec"
   ]
  },
  {
   "cell_type": "code",
   "execution_count": 2,
   "metadata": {},
   "outputs": [
    {
     "name": "stdout",
     "output_type": "stream",
     "text": [
      "number of documents: 215\n"
     ]
    }
   ],
   "source": [
    "json_data = []\n",
    "for path, dirs, files in os.walk(f\"./output\"):\n",
    "    for file in files:\n",
    "        if file.endswith(\".json\"):\n",
    "            f = open(os.path.join(path, file), encoding=\"utf-8-sig\")\n",
    "            json_data.append(json.load(f))\n",
    "            f.close()\n",
    "print(\"number of documents:\", len(json_data))"
   ]
  },
  {
   "cell_type": "code",
   "execution_count": 3,
   "metadata": {},
   "outputs": [
    {
     "data": {
      "text/plain": [
       "215"
      ]
     },
     "execution_count": 3,
     "metadata": {},
     "output_type": "execute_result"
    }
   ],
   "source": [
    "text_data = [f\"{' '.join([i['text'] for topic in j['topics'] for i in topic['items']])} {j['abstract']}\" for j in json_data]\n",
    "len(text_data)"
   ]
  },
  {
   "cell_type": "code",
   "execution_count": 4,
   "metadata": {},
   "outputs": [],
   "source": [
    "sw_file = open('./stopwords.txt')\n",
    "stop_words = sw_file.read()\n",
    "stop_words = stop_words.split(\"\\n\")\n",
    "sw_file.close()"
   ]
  },
  {
   "cell_type": "code",
   "execution_count": 5,
   "metadata": {},
   "outputs": [],
   "source": [
    "regexes = [\n",
    "    (r\"([’’])\", \"'\"),\n",
    "    (r\"([“”\\\"])\", \"\"),\n",
    "    (r\"â\", \"a\"),\n",
    "    (r\"î\", \"i\"),\n",
    "    (r\"û\", \"u\"),\n",
    "    (r\"Â\", \"A\"),\n",
    "    (r\"Î\", \"İ\"),\n",
    "    (r\"Û\", \"U\"),\n",
    "]"
   ]
  },
  {
   "cell_type": "code",
   "execution_count": 6,
   "metadata": {},
   "outputs": [],
   "source": [
    "text_clean = text_data\n",
    "for reg in regexes:\n",
    "    text_clean = [re.sub(reg[0], reg[1], t) for t in text_clean]\n",
    "\n",
    "text_lower = [t.replace(\"İ\", \"i\").replace(\"I\", \"ı\").lower() for t in text_clean]\n",
    "\n",
    "# text_lower = [t for t in text_lower if t not in stop_words]"
   ]
  },
  {
   "cell_type": "code",
   "execution_count": 7,
   "metadata": {},
   "outputs": [],
   "source": [
    "regexes2 = [\n",
    "    (r\"(,\\s)\", \" \"),\n",
    "    (r\"([\\.\\(])\", \"\"), \n",
    "    (r\"'\", \" \"),\n",
    "]\n",
    "unique_words = []\n",
    "text_test = text_lower\n",
    "for reg in regexes2:\n",
    "    text_test = [re.sub(reg[0], reg[1], t) for t in text_test]\n",
    "for w in \" \".join(text_test).split(\" \"):\n",
    "    if w not in [ww[0] for ww in unique_words]:\n",
    "        unique_words.append((w, 1))\n",
    "    else:\n",
    "        w_idx = [i for i, ww in enumerate(unique_words) if ww[0] == w][0]\n",
    "        unique_words[w_idx] = (w, unique_words[w_idx][1] + 1)"
   ]
  },
  {
   "cell_type": "code",
   "execution_count": 14,
   "metadata": {},
   "outputs": [],
   "source": [
    "unique_words_sorted = unique_words\n",
    "unique_words_sorted.sort(reverse=True, key=lambda w: w[1])\n",
    "unique_words_sorted = [w for w in unique_words_sorted if len(w[0]) < 5]"
   ]
  },
  {
   "cell_type": "code",
   "execution_count": 8,
   "metadata": {},
   "outputs": [
    {
     "name": "stdout",
     "output_type": "stream",
     "text": [
      "mayıs ayında tüketici fiyatları yüzde 0,15 oranında artarken yıllık enflasyon yüzde 6,51'e yükselmiştir. bu artışta enerji fiyatlarından kaynaklanan baz etkisi belirleyici olurken temel enflasyon göstergeleri ılımlı seyrini korumuştur. gıda ve alkolsüz içecekler grubunda yıllık enflasyon yüzde 7,07'ye yükselmiştir. işlenmiş gıda grubunda fiyatlar mayıs ayında yüzde 0,55 oranında artarken yıllık enflasyon yüzde 8,19'a gerilemiştir. grup enflasyonunda aylık bazda gözlenen artışın temel belirleyicisi ekmek ve tahıllar alt grubu olurken, diğer işlenmiş gıda fiyatlarının katkısı sınırlı kalmıştır. işlenmemiş gıda fiyatları ise mayıs ayında temelde taze sebze kaynaklı olarak yüzde 5,33 oranında gerilemiş, ancak baz etkisi nedeniyle grup yıllık enflasyonu artış kaydetmiştir. haziran ayına ilişkin öncü göstergeler bu grupta yıllık enflasyonunun belirgin olarak yükseleceğine işaret etmektedir. uluslararası petrol fiyatlarındaki düşüşün enerji enflasyonuna olumlu yansıması sürmüş, grup fiyatları mayıs ayında yüzde 0,69 oranında azalmıştır. buna karşılık geçtiğimiz iki aydaki olumlu baz etkilerinin ortadan kalkmasıyla birlikte yıllık enerji enflasyonu 1,30 puan yükselerek yüzde 6,24 olmuştur. baz etkisinin, haziran ayında enerji enflasyonunu yukarı çekeceği, ağustos ayından itibaren ise enflasyondaki düşüşe oldukça önemli bir katkı sağlayacağı öngörülmektedir. hizmet fiyatları mayıs ayında yüzde 0,76 oranında artarken grup yıllık enflasyonu yüzde 7,45'e yükselmiştir. yıllık enflasyondaki artış temelde kira ve haberleşme hizmetlerinden kaynaklanmıştır. mevsimsellikten arındırılmış verilerle, başta kira olmak üzere, hizmet grubu genelinde enflasyonun artış eğiliminde olduğu görülmektedir. yayılım endeksinde ise bir önceki aya kıyasla belirgin bir değişiklik kaydedilmemiştir. temel mal grubunda yıllık enflasyon mayıs ayında belirgin bir değişiklik göstermeyerek yüzde 3,66 olmuştur. giyim grubunda yıllık enflasyon son üç aydaki gerilemenin ardından mayıs ayında sınırlı bir artış kaydederken giyim ve dayanıklı mallar hariç temel mal enflasyonundaki istikrarlı yavaşlama eğilimi ise sürmüştür. temel mal fiyatlarının mevsimsellikten arındırılmış artış eğilimi ise bu dönemde aşağı yönlü bir seyir izlemiştir. bu doğrultuda, hizmet enflasyonunun eğilimindeki yükselişe rağmen, temel enflasyon göstergelerinin mevsimsellikten arındırılmış eğilimlerinde düşüş kaydedilmiştir. sonuç olarak kurul, baz etkilerinin haziran ayında da enerji enflasyonunu yukarı çekeceği öngörüsünü yinelemiş, işlenmemiş gıda fiyatlarındaki seyrin haziran ayı yıllık enflasyonunda belirgin bir artışa neden olacağının altını çizmiştir. son dönemde açıklanan veriler iç ve dış talep gelişmelerinin öngörüldüğü şekilde seyrettiğini göstermektedir. tüik tarafından açıklanan 2013 yılı ilk çeyreğine ilişkin milli gelir verilerine göre iktisadi faaliyet beklentilerimize paralel olarak artmıştır. bu dönemde büyümeye en yüksek katkı yapan bileşenin temelde kamu yatırımları ve özel tüketim kaynaklı olmak üzere nihai yurt içi talep olduğu görülmektedir. öte yandan, zayıf küresel talebe paralel olarak ihracat yatay seyrederken ithalat talebinin artması sonucunda net ihracat büyümeyi düşürücü yönde etkilemiştir. böylelikle, talep bileşenleri arasındaki dengelenme eğilimi ilk çeyrekte bir miktar bozulmuştur. ikinci çeyreğe ilişkin veriler yurt içi nihai talebin sağlıklı bir toparlanma sergilediğine işaret etmektedir. sanayi üretimi nisan ayında ilk çeyrek ortalamasına göre artmıştır. tüketim malları üretimi ve ithalatı, otomobil satışları, krediler ve tüketici güven endeksleri de yurt içi talepteki artışın devam edeceğine işaret etmektedir. yatırıma ilişkin göstergeler olumlu bir görünüm çizmekle beraber ikinci çeyrekte özel yatırımların büyümeye katkısının sınırlı olacağı öngörülmektedir. dış ticaret ve cari dengeye ilişkin veriler öngörüler doğrultusunda gerçekleşmektedir. ihracat zayıf küresel talebin etkisiyle yavaşlamaktadır. ithalatta ise iç talepteki canlanmaya ve altın ithalat talebindeki yükselişe bağlı olarak artış gözlenmektedir. bu durumun cari işlemler açığında bir miktar yükselişe neden olacağı öngörülmektedir. bununla birlikte kurul, mevcut politika çerçevesi ve emtia fiyatlarında gözlenen düşüşün iktisadi faaliyetteki artışın cari işlemler açığına yansımasını sınırlayacağı görüşünü korumuştur. mevsimsellikten arındırılmış verilerle, 2013 yılı mart döneminde tarım dışı istihdam artışı makul bir oranda gerçekleşmiş ancak işgücüne katılımdaki artışı karşılamakta yetersiz kalmış ve işsizlik oranları yükselmiştir. tarım dışı istihdam artışı asıl olarak hizmetler ve 2012 yılı son çeyreğiyle birlikte toparlanma eğilimine giren sanayi sektöründen kaynaklanmış, inşaat sektöründe ise istihdam yatay seyrini korumuştur. anket göstergeleri yılın ikinci çeyreğinde sanayi istihdamında artışın sürdüğüne işaret etmektedir. kurul, önümüzdeki dönemde toplam istihdamın ılımlı artışlar sergileyeceğini öngörmektedir. öte yandan, küresel ekonomiye dair belirsizlikler önümüzdeki dönemde istihdam artışını sınırlayabilecek bir unsur olarak önem arz etmektedir. yakın dönemde küresel para politikalarına ilişkin artan belirsizlik nedeniyle sermaye akımlarında zayıflama gözlenmiştir. özellikle önde gelen gelişmiş ülke merkez bankalarının uyguladığı destekleyici para politikalarının önemli bir parçası olan miktarsal genişleme politikalarından çıkışa yönelik belirsizliklerin belirginleşmesi gelişmekte olan ülkelerden sermaye çıkışları yaşanmasına yol açmıştır. para politikalarına dair belirsizliklerin yanında, gelişmiş ülkelerde bilanço düzeltme sürecinin devam ediyor olması ve parasal aktarım mekanizmasının işleyişindeki aksaklıkların sürmesi küresel düzeyde oynaklığın yüksek seyretmesine neden olmaktadır. kurul, rezerv opsiyonu mekanizmasının (rom'un) sermaye hareketlerindeki oynaklığa karşı otomatik dengeleyici olarak çalıştığını değerlendirmiştir. sermaye girişlerinin güçlü olduğu dönemlerde rom aracılığı ile tuttukları döviz rezervi miktarlarını artıran bankalar sermaye çıkışı döneminde de rom çerçevesinde merkez bankası nezdinde tuttukları bu döviz rezervlerini kullanmışlardır. böylelikle rom, döviz kurlarında yaşanan oynaklığı sınırlayıcı yönde katkıda bulunmuştur. kurul artan oynaklığa karşı gerekli görüldüğünde kısa süreli ek parasal sıkılaştırma ve döviz satım ihalelerinin de uygulanabileceğini belirtmiş ve para politikası araçlarında herhangi bir değişikliğe gitmemiştir. öte yandan kurul, kredi büyüme oranlarının, hem tüketici hem de ticari kredilerde olmak üzere, referans değerlerin üzerinde artmaya devam ettiğini belirtmiştir. kurul, sağlıklı bir şekilde toparlanan iç talep, referans değer üzerinde artan krediler ve küresel belirsizlik sonucu oluşan döviz kuru hareketlerinin fiyatlama davranışı üzerindeki etkilerinin yakından izlendiğini ifade etmiştir. küresel ekonomiye dair belirsizliklerin ve sermaye akımlarındaki oynaklığın sürmesi nedeniyle para politikasında her iki yönde de esnekliğin korunmasının uygun olacağı belirtilmiştir. kurul, bu doğrultuda merkez bankası tarafından sağlanan türk lirası likiditesinin kompozisyonunda gereken ayarlamaların yapılacağını belirtmiştir. kompozisyon ayarlamasındaki en önemli araç net dış varlıklardan net iç varlıklara ve kalıcı likiditeden kısa vadeli fonlamaya kaymayı sağlayan döviz satım ihaleleridir. kurul, döviz satım ihalelerinin hem döviz kurlarındaki aşırı değer kaybı baskısını piyasa şartları içinde sınırlayacağını, hem de tl likiditesini çok daha kısa vadelere kaydırarak aşırı hızlı kredi genişlemesini yumuşatacağını değerlendirmiştir. kurul, maliye politikasına ve vergi düzenlemelerine ilişkin gelişmeleri enflasyon görünümüne etkileri bakımından yakından takip etmektedir. para politikası oluşturulurken orta vadeli program'da belirlenen çerçeve esas alınmaktadır. dolayısıyla önümüzdeki dönemde mali disiplinin korunacağı ve yönetilen/yönlendirilen fiyatlarda öngörülmeyen bir artış gerçekleşmeyeceği varsayılmaktadır. maliye politikasının söz konusu çerçeveden belirgin olarak sapması ve bu durumun orta vadeli enflasyon görünümünü olumsuz etkilemesi halinde para politikası duruşunun da güncellenmesi söz konusu olabilecektir. küresel dengesizlikler karşısında ekonomimizin dayanıklılığını koruması açısından maliye ve finansal sektör politikalarındaki temkinli duruşun sürdürülmesi kritik önem taşımaktadır. orta vadede ise mali disiplini kalıcı hale getirecek ve tasarruf açığını azaltacak yapısal reformların güçlendirilmesi, makroekonomik istikrarı destekleyecektir. bu yönde atılacak adımlar aynı zamanda para politikasının hareket alanını genişletecek ve uzun vadeli kamu borçlanma faizlerinin düşük düzeylerde kalıcı olmasını sağlayarak toplumsal refaha olumlu katkıda bulunacaktır. bu çerçevede, orta vadeli program'ın gerektirdiği yapısal düzenlemelerin hayata geçirilmesi büyük önem taşımaktadır. para politikası kurulu (kurul), politika faizi olan bir hafta vadeli repo ihale faiz oranı ile bankamız bünyesindeki bankalararası para piyasası ve borsa istanbul repo-ters repo pazarı'nda uygulanmakta olan faiz oranlarının aşağıdaki gibi sabit tutulmasına karar vermiştir: a) politika faizi olan bir hafta vadeli repo ihale faiz oranı yüzde 4,5, b) gecelik faiz oranları: merkez bankası borçlanma faiz oranı yüzde 3,5; borç verme faiz oranı yüzde 6,5, açık piyasa işlemleri çerçevesinde piyasa yapıcısı bankalara repo işlemleri yoluyla tanınan borçlanma imkanı faiz oranı ise yüzde 6, c) geç likidite penceresi faiz oranları: geç likidite penceresi uygulaması çerçevesinde, bankalararası para piyasası'nda saat 16.00-17.00 arası gecelik vadede uygulanan merkez bankası borçlanma faiz oranı yüzde 0, borç verme faiz oranı yüzde 9,5. son dönemde açıklanan veriler iç ve dış talep gelişmelerinin öngörüldüğü şekilde seyrettiğini göstermektedir. yurt içi nihai talep sağlıklı bir toparlanma sergilerken, ihracat zayıf küresel talebin etkisiyle yavaşlamaktadır. mevcut politika çerçevesi ve emtia fiyatlarının seyri iktisadi faaliyetteki artışın cari işlemler açığına yansımasını sınırlamaktadır. yakın dönemde küresel düzeyde para politikalarına ilişkin artan belirsizlik nedeniyle sermaye akımlarında zayıflama gözlenmiştir. öte yandan kredi artış oranları referans değerin üzerinde seyretmeye devam etmektedir. bu çerçevede, iç talep ve kredilerdeki artışlar ile döviz kuru hareketlerinin fiyatlama davranışları üzerindeki etkileri yakından izlenmektedir. küresel ekonomiye dair belirsizliklerin ve sermaye akımlarındaki oynaklığın sürmesi nedeniyle para politikasında her iki yönde de esnekliğin korunmasının uygun olacağı belirtilmiştir. bu doğrultuda merkez bankası tarafından sağlanan türk lirası likiditesinin kompozisyonunda gereken ayarlamalar yapılacaktır. açıklanacak her türlü yeni verinin ve haberin kurul'un geleceğe yönelik politika duruşunu değiştirmesine neden olabileceği önemle vurgulanmalıdır. para politikası kurulu toplantı özeti beş iş günü içinde yayımlanacaktır.\n"
     ]
    }
   ],
   "source": [
    "print(text_lower[0])"
   ]
  },
  {
   "cell_type": "code",
   "execution_count": 52,
   "metadata": {},
   "outputs": [],
   "source": [
    "sent_detector = PunktTokenizer()\n",
    "sentences = sent_detector.tokenize(\" \".join(text_data))"
   ]
  },
  {
   "cell_type": "code",
   "execution_count": 91,
   "metadata": {},
   "outputs": [],
   "source": [
    "sent_tokenize(\" \".join(text_data), \"turkish\")\n",
    "data = [word_tokenize(t, \"turkish\") for t in sent_tokenize(\" \".join(text_lower))] "
   ]
  },
  {
   "cell_type": "code",
   "execution_count": 92,
   "metadata": {},
   "outputs": [],
   "source": [
    "model = Word2Vec(data, vector_size=100, window=10, min_count=1, workers=4)"
   ]
  },
  {
   "cell_type": "code",
   "execution_count": 93,
   "metadata": {},
   "outputs": [
    {
     "data": {
      "text/plain": [
       "12138"
      ]
     },
     "execution_count": 93,
     "metadata": {},
     "output_type": "execute_result"
    }
   ],
   "source": [
    "len(model.wv.key_to_index)"
   ]
  },
  {
   "cell_type": "code",
   "execution_count": 112,
   "metadata": {},
   "outputs": [
    {
     "data": {
      "text/plain": [
       "[('gerileme', 0.7931217551231384),\n",
       " ('azalış', 0.7836350798606873),\n",
       " ('yükseliş', 0.7253963947296143),\n",
       " ('artışa', 0.7001250982284546),\n",
       " ('sergileyen', 0.6701776385307312),\n",
       " ('yavaşlama', 0.666239857673645),\n",
       " ('bazda', 0.6590507626533508),\n",
       " ('gösteren', 0.6586082577705383),\n",
       " ('artışı', 0.6577882170677185),\n",
       " ('endeksindeki', 0.6574394702911377)]"
      ]
     },
     "execution_count": 112,
     "metadata": {},
     "output_type": "execute_result"
    }
   ],
   "source": [
    "model.wv.similar_by_word(\"artış\")"
   ]
  },
  {
   "cell_type": "code",
   "execution_count": 113,
   "metadata": {},
   "outputs": [
    {
     "data": {
      "text/plain": [
       "[('verilerinin', 0.7286842465400696),\n",
       " ('firmaların', 0.704422116279602),\n",
       " ('yatırım', 0.698823094367981),\n",
       " ('imalât', 0.6820348501205444),\n",
       " ('firmalarının', 0.6810845136642456),\n",
       " ('değerlendirildiğinde', 0.6803269386291504),\n",
       " ('imalat', 0.6727310419082642),\n",
       " ('mallarına', 0.6698333621025085),\n",
       " ('satış', 0.6661445498466492),\n",
       " ('anket', 0.6617270112037659)]"
      ]
     },
     "execution_count": 113,
     "metadata": {},
     "output_type": "execute_result"
    }
   ],
   "source": [
    "model.wv.most_similar(positive=[\"artış\", \"üretim\"], negative=[\"gerileme\"])"
   ]
  }
 ],
 "metadata": {
  "kernelspec": {
   "display_name": "venv",
   "language": "python",
   "name": "python3"
  },
  "language_info": {
   "codemirror_mode": {
    "name": "ipython",
    "version": 3
   },
   "file_extension": ".py",
   "mimetype": "text/x-python",
   "name": "python",
   "nbconvert_exporter": "python",
   "pygments_lexer": "ipython3",
   "version": "3.9.6"
  }
 },
 "nbformat": 4,
 "nbformat_minor": 2
}
