{
 "cells": [
  {
   "cell_type": "code",
   "execution_count": 94,
   "metadata": {},
   "outputs": [
    {
     "name": "stderr",
     "output_type": "stream",
     "text": [
      "[nltk_data] Downloading package punkt_tab to\n",
      "[nltk_data]     /Users/nazimaniltepe/nltk_data...\n",
      "[nltk_data]   Package punkt_tab is already up-to-date!\n"
     ]
    }
   ],
   "source": [
    "import os\n",
    "import json\n",
    "import re\n",
    "from datetime import datetime\n",
    "import nltk\n",
    "nltk.download('punkt_tab')\n",
    "from nltk.tokenize import sent_tokenize, word_tokenize\n",
    "from gensim.models import Word2Vec"
   ]
  },
  {
   "cell_type": "code",
   "execution_count": 101,
   "metadata": {},
   "outputs": [
    {
     "name": "stdout",
     "output_type": "stream",
     "text": [
      "number of documents: 215\n"
     ]
    }
   ],
   "source": [
    "json_data = []\n",
    "for path, dirs, files in os.walk(f\"./output\"):\n",
    "    for file in files:\n",
    "        if file.endswith(\".json\"):\n",
    "            f = open(os.path.join(path, file), encoding=\"utf-8-sig\")\n",
    "            json_data.append(json.load(f))\n",
    "            f.close()\n",
    "print(\"number of documents:\", len(json_data))"
   ]
  },
  {
   "cell_type": "code",
   "execution_count": 102,
   "metadata": {},
   "outputs": [
    {
     "data": {
      "text/plain": [
       "215"
      ]
     },
     "execution_count": 102,
     "metadata": {},
     "output_type": "execute_result"
    }
   ],
   "source": [
    "text_data = [f\"{' '.join([i['text'] for topic in j['topics'] for i in topic['items']])} {j['abstract']}\" for j in json_data]\n",
    "len(text_data)"
   ]
  },
  {
   "cell_type": "code",
   "execution_count": 103,
   "metadata": {},
   "outputs": [
    {
     "name": "stdout",
     "output_type": "stream",
     "text": [
      "stop words count: 74\n"
     ]
    }
   ],
   "source": [
    "sw_file = open('./stopwords.txt')\n",
    "stop_words = sw_file.read()\n",
    "stop_words = stop_words.split(\"\\n\")\n",
    "sw_file.close()\n",
    "print(\"stop words count:\", len(stop_words))"
   ]
  },
  {
   "cell_type": "code",
   "execution_count": 104,
   "metadata": {},
   "outputs": [],
   "source": [
    "regexes = [\n",
    "    (r\"([’’])\", \"'\"),\n",
    "    (r\"([“”\\\"])\", \"\"),\n",
    "    (r\"â\", \"a\"),\n",
    "    (r\"î\", \"i\"),\n",
    "    (r\"û\", \"u\"),\n",
    "    (r\"Â\", \"A\"),\n",
    "    (r\"Î\", \"İ\"),\n",
    "    (r\"Û\", \"U\"),\n",
    "]"
   ]
  },
  {
   "cell_type": "code",
   "execution_count": 105,
   "metadata": {},
   "outputs": [],
   "source": [
    "text_clean = text_data\n",
    "for reg in regexes:\n",
    "    text_clean = [re.sub(reg[0], reg[1], t) for t in text_clean]\n",
    "\n",
    "text_lower = [t.replace(\"İ\", \"i\").replace(\"I\", \"ı\").lower() for t in text_clean]\n",
    "\n",
    "text_lower = [\" \".join([word for word in sent.split(\" \") if word not in stop_words]) for sent in text_lower]"
   ]
  },
  {
   "cell_type": "code",
   "execution_count": 106,
   "metadata": {},
   "outputs": [],
   "source": [
    "regexes2 = [\n",
    "    (r\"(,\\s)\", \" \"),\n",
    "    (r\"([\\.;\\(\\)])\", \"\"), \n",
    "    (r\"['\\-]\", \" \"),\n",
    "]"
   ]
  },
  {
   "cell_type": "code",
   "execution_count": 107,
   "metadata": {},
   "outputs": [],
   "source": [
    "for reg in regexes2:\n",
    "    text_lower = [re.sub(reg[0], reg[1], t) for t in text_lower]\n",
    "\n",
    "text_lower = [\" \".join([word for word in sent.split(\" \") if word not in stop_words and word != \"\"]) for sent in text_lower]"
   ]
  },
  {
   "cell_type": "code",
   "execution_count": 144,
   "metadata": {},
   "outputs": [],
   "source": [
    "unique_words = {}\n",
    "text_test = text_lower\n",
    "for w in \" \".join(text_test).split(\" \"):\n",
    "    unique_words[w] = unique_words[w] + 1 if w in unique_words else 1"
   ]
  },
  {
   "cell_type": "code",
   "execution_count": 145,
   "metadata": {},
   "outputs": [
    {
     "data": {
      "text/plain": [
       "11820"
      ]
     },
     "execution_count": 145,
     "metadata": {},
     "output_type": "execute_result"
    }
   ],
   "source": [
    "len(unique_words)"
   ]
  },
  {
   "cell_type": "code",
   "execution_count": 154,
   "metadata": {},
   "outputs": [],
   "source": [
    "unique_words_sorted = [(k, unique_words[k]) for k in unique_words]\n",
    "unique_words_sorted.sort(reverse=True, key=lambda w: w[1])\n",
    "unique_words_sorted = [w for w in unique_words_sorted if len(w[0]) < 5]"
   ]
  },
  {
   "cell_type": "code",
   "execution_count": 112,
   "metadata": {},
   "outputs": [
    {
     "name": "stdout",
     "output_type": "stream",
     "text": [
      "215\n",
      "mayıs ayında tüketici fiyatları yüzde 0,15 oranında artarken yıllık enflasyon yüzde 6,51 yükselmiştir artışta enerji fiyatlarından kaynaklanan baz etkisi belirleyici olurken temel enflasyon göstergeleri ılımlı seyrini korumuştur gıda alkolsüz içecekler grubunda yıllık enflasyon yüzde 7,07 yükselmiştir işlenmiş gıda grubunda fiyatlar mayıs ayında yüzde 0,55 oranında artarken yıllık enflasyon yüzde 8,19 gerilemiştir grup enflasyonunda aylık bazda gözlenen artışın temel belirleyicisi ekmek tahıllar alt grubu olurken diğer işlenmiş gıda fiyatlarının katkısı sınırlı kalmıştır işlenmemiş gıda fiyatları mayıs ayında temelde taze sebze kaynaklı olarak yüzde 5,33 oranında gerilemiş baz etkisi nedeniyle grup yıllık enflasyonu artış kaydetmiştir haziran ayına ilişkin öncü göstergeler grupta yıllık enflasyonunun belirgin olarak yükseleceğine işaret etmektedir uluslararası petrol fiyatlarındaki düşüşün enerji enflasyonuna olumlu yansıması sürmüş grup fiyatları mayıs ayında yüzde 0,69 oranında azalmıştır buna karşılık geçtiğimiz iki aydaki olumlu baz etkilerinin ortadan kalkmasıyla birlikte yıllık enerji enflasyonu 1,30 puan yükselerek yüzde 6,24 olmuştur baz etkisinin haziran ayında enerji enflasyonunu yukarı çekeceği ağustos ayından itibaren enflasyondaki düşüşe oldukça önemli katkı sağlayacağı öngörülmektedir hizmet fiyatları mayıs ayında yüzde 0,76 oranında artarken grup yıllık enflasyonu yüzde 7,45 yükselmiştir yıllık enflasyondaki artış temelde kira haberleşme hizmetlerinden kaynaklanmıştır mevsimsellikten arındırılmış verilerle başta kira olmak üzere hizmet grubu genelinde enflasyonun artış eğiliminde olduğu görülmektedir yayılım endeksinde önceki aya kıyasla belirgin değişiklik kaydedilmemiştir temel mal grubunda yıllık enflasyon mayıs ayında belirgin değişiklik göstermeyerek yüzde 3,66 olmuştur giyim grubunda yıllık enflasyon son üç aydaki gerilemenin ardından mayıs ayında sınırlı artış kaydederken giyim dayanıklı mallar hariç temel mal enflasyonundaki istikrarlı yavaşlama eğilimi sürmüştür temel mal fiyatlarının mevsimsellikten arındırılmış artış eğilimi dönemde aşağı yönlü seyir izlemiştir doğrultuda hizmet enflasyonunun eğilimindeki yükselişe rağmen temel enflasyon göstergelerinin mevsimsellikten arındırılmış eğilimlerinde düşüş kaydedilmiştir sonuç olarak kurul baz etkilerinin haziran ayında enerji enflasyonunu yukarı çekeceği öngörüsünü yinelemiş işlenmemiş gıda fiyatlarındaki seyrin haziran ayı yıllık enflasyonunda belirgin artışa neden olacağının altını çizmiştir son dönemde açıklanan veriler iç dış talep gelişmelerinin öngörüldüğü şekilde seyrettiğini göstermektedir tüik tarafından açıklanan 2013 yılı ilk çeyreğine ilişkin milli gelir verilerine iktisadi faaliyet beklentilerimize paralel olarak artmıştır dönemde büyümeye en yüksek katkı yapan bileşenin temelde kamu yatırımları özel tüketim kaynaklı olmak üzere nihai yurt içi talep olduğu görülmektedir öte yandan zayıf küresel talebe paralel olarak ihracat yatay seyrederken ithalat talebinin artması sonucunda net ihracat büyümeyi düşürücü yönde etkilemiştir böylelikle talep bileşenleri arasındaki dengelenme eğilimi ilk çeyrekte miktar bozulmuştur ikinci çeyreğe ilişkin veriler yurt içi nihai talebin sağlıklı toparlanma sergilediğine işaret etmektedir sanayi üretimi nisan ayında ilk çeyrek ortalamasına artmıştır tüketim malları üretimi ithalatı otomobil satışları krediler tüketici güven endeksleri yurt içi talepteki artışın devam edeceğine işaret etmektedir yatırıma ilişkin göstergeler olumlu görünüm çizmekle beraber ikinci çeyrekte özel yatırımların büyümeye katkısının sınırlı olacağı öngörülmektedir dış ticaret cari dengeye ilişkin veriler öngörüler doğrultusunda gerçekleşmektedir ihracat zayıf küresel talebin etkisiyle yavaşlamaktadır ithalatta iç talepteki canlanmaya altın ithalat talebindeki yükselişe bağlı olarak artış gözlenmektedir durumun cari işlemler açığında miktar yükselişe neden olacağı öngörülmektedir bununla birlikte kurul mevcut politika çerçevesi emtia fiyatlarında gözlenen düşüşün iktisadi faaliyetteki artışın cari işlemler açığına yansımasını sınırlayacağı görüşünü korumuştur mevsimsellikten arındırılmış verilerle 2013 yılı mart döneminde tarım dışı istihdam artışı makul oranda gerçekleşmiş işgücüne katılımdaki artışı karşılamakta yetersiz kalmış işsizlik oranları yükselmiştir tarım dışı istihdam artışı asıl olarak hizmetler 2012 yılı son çeyreğiyle birlikte toparlanma eğilimine giren sanayi sektöründen kaynaklanmış inşaat sektöründe istihdam yatay seyrini korumuştur anket göstergeleri yılın ikinci çeyreğinde sanayi istihdamında artışın sürdüğüne işaret etmektedir kurul önümüzdeki dönemde toplam istihdamın ılımlı artışlar sergileyeceğini öngörmektedir öte yandan küresel ekonomiye belirsizlikler önümüzdeki dönemde istihdam artışını sınırlayabilecek unsur olarak önem arz etmektedir yakın dönemde küresel para politikalarına ilişkin artan belirsizlik nedeniyle sermaye akımlarında zayıflama gözlenmiştir özellikle önde gelen gelişmiş ülke merkez bankalarının uyguladığı destekleyici para politikalarının önemli parçası olan miktarsal genişleme politikalarından çıkışa yönelik belirsizliklerin belirginleşmesi gelişmekte olan ülkelerden sermaye çıkışları yaşanmasına yol açmıştır para politikalarına belirsizliklerin yanında gelişmiş ülkelerde bilanço düzeltme sürecinin devam ediyor olması parasal aktarım mekanizmasının işleyişindeki aksaklıkların sürmesi küresel düzeyde oynaklığın yüksek seyretmesine neden olmaktadır kurul rezerv opsiyonu mekanizmasının rom sermaye hareketlerindeki oynaklığa karşı otomatik dengeleyici olarak çalıştığını değerlendirmiştir sermaye girişlerinin güçlü olduğu dönemlerde rom aracılığı tuttukları döviz rezervi miktarlarını artıran bankalar sermaye çıkışı döneminde rom çerçevesinde merkez bankası nezdinde tuttukları döviz rezervlerini kullanmışlardır böylelikle rom döviz kurlarında yaşanan oynaklığı sınırlayıcı yönde katkıda bulunmuştur kurul artan oynaklığa karşı gerekli görüldüğünde kısa süreli ek parasal sıkılaştırma döviz satım ihalelerinin uygulanabileceğini belirtmiş para politikası araçlarında herhangi değişikliğe gitmemiştir öte yandan kurul kredi büyüme oranlarının tüketici ticari kredilerde olmak üzere referans değerlerin üzerinde artmaya devam ettiğini belirtmiştir kurul sağlıklı şekilde toparlanan iç talep referans değer üzerinde artan krediler küresel belirsizlik sonucu oluşan döviz kuru hareketlerinin fiyatlama davranışı üzerindeki etkilerinin yakından izlendiğini ifade etmiştir küresel ekonomiye belirsizliklerin sermaye akımlarındaki oynaklığın sürmesi nedeniyle para politikasında her iki yönde esnekliğin korunmasının uygun olacağı belirtilmiştir kurul doğrultuda merkez bankası tarafından sağlanan türk lirası likiditesinin kompozisyonunda gereken ayarlamaların yapılacağını belirtmiştir kompozisyon ayarlamasındaki en önemli araç net dış varlıklardan net iç varlıklara kalıcı likiditeden kısa vadeli fonlamaya kaymayı sağlayan döviz satım ihaleleridir kurul döviz satım ihalelerinin döviz kurlarındaki aşırı değer kaybı baskısını piyasa şartları içinde sınırlayacağını tl likiditesini çok daha kısa vadelere kaydırarak aşırı hızlı kredi genişlemesini yumuşatacağını değerlendirmiştir kurul maliye politikasına vergi düzenlemelerine ilişkin gelişmeleri enflasyon görünümüne etkileri bakımından yakından takip etmektedir para politikası oluşturulurken orta vadeli program belirlenen çerçeve esas alınmaktadır dolayısıyla önümüzdeki dönemde mali disiplinin korunacağı yönetilen/yönlendirilen fiyatlarda öngörülmeyen artış gerçekleşmeyeceği varsayılmaktadır maliye politikasının söz konusu çerçeveden belirgin olarak sapması durumun orta vadeli enflasyon görünümünü olumsuz etkilemesi halinde para politikası duruşunun güncellenmesi söz konusu olabilecektir küresel dengesizlikler karşısında ekonomimizin dayanıklılığını koruması açısından maliye finansal sektör politikalarındaki temkinli duruşun sürdürülmesi kritik önem taşımaktadır orta vadede mali disiplini kalıcı hale getirecek tasarruf açığını azaltacak yapısal reformların güçlendirilmesi makroekonomik istikrarı destekleyecektir yönde atılacak adımlar aynı zamanda para politikasının hareket alanını genişletecek uzun vadeli kamu borçlanma faizlerinin düşük düzeylerde kalıcı olmasını sağlayarak toplumsal refaha olumlu katkıda bulunacaktır çerçevede orta vadeli program gerektirdiği yapısal düzenlemelerin hayata geçirilmesi büyük önem taşımaktadır para politikası kurulu kurul politika faizi olan hafta vadeli repo ihale faiz oranı bankamız bünyesindeki bankalararası para piyasası borsa istanbul repo ters repo pazarı uygulanmakta olan faiz oranlarının aşağıdaki sabit tutulmasına karar vermiştir: politika faizi olan hafta vadeli repo ihale faiz oranı yüzde 4,5 gecelik faiz oranları: merkez bankası borçlanma faiz oranı yüzde 3,5 borç verme faiz oranı yüzde 6,5 açık piyasa işlemleri çerçevesinde piyasa yapıcısı bankalara repo işlemleri yoluyla tanınan borçlanma imkanı faiz oranı yüzde 6 geç likidite penceresi faiz oranları: geç likidite penceresi uygulaması çerçevesinde bankalararası para piyasası saat 1600 1700 arası gecelik vadede uygulanan merkez bankası borçlanma faiz oranı yüzde 0 borç verme faiz oranı yüzde 9,5 son dönemde açıklanan veriler iç dış talep gelişmelerinin öngörüldüğü şekilde seyrettiğini göstermektedir yurt içi nihai talep sağlıklı toparlanma sergilerken ihracat zayıf küresel talebin etkisiyle yavaşlamaktadır mevcut politika çerçevesi emtia fiyatlarının seyri iktisadi faaliyetteki artışın cari işlemler açığına yansımasını sınırlamaktadır yakın dönemde küresel düzeyde para politikalarına ilişkin artan belirsizlik nedeniyle sermaye akımlarında zayıflama gözlenmiştir öte yandan kredi artış oranları referans değerin üzerinde seyretmeye devam etmektedir çerçevede iç talep kredilerdeki artışlar döviz kuru hareketlerinin fiyatlama davranışları üzerindeki etkileri yakından izlenmektedir küresel ekonomiye belirsizliklerin sermaye akımlarındaki oynaklığın sürmesi nedeniyle para politikasında her iki yönde esnekliğin korunmasının uygun olacağı belirtilmiştir doğrultuda merkez bankası tarafından sağlanan türk lirası likiditesinin kompozisyonunda gereken ayarlamalar yapılacaktır açıklanacak her türlü yeni verinin haberin kurul geleceğe yönelik politika duruşunu değiştirmesine neden olabileceği önemle vurgulanmalıdır para politikası kurulu toplantı özeti beş iş günü içinde yayımlanacaktır\n"
     ]
    }
   ],
   "source": [
    "print(len(text_lower))\n",
    "print(text_lower[0])"
   ]
  },
  {
   "cell_type": "code",
   "execution_count": 155,
   "metadata": {},
   "outputs": [],
   "source": [
    "data = [word_tokenize(t, \"turkish\") for t in sent_tokenize(\" \".join(text_lower), \"turkish\")] "
   ]
  },
  {
   "cell_type": "code",
   "execution_count": 156,
   "metadata": {},
   "outputs": [
    {
     "data": {
      "text/plain": [
       "374136"
      ]
     },
     "execution_count": 156,
     "metadata": {},
     "output_type": "execute_result"
    }
   ],
   "source": [
    "len(data[0])"
   ]
  },
  {
   "cell_type": "code",
   "execution_count": 157,
   "metadata": {},
   "outputs": [],
   "source": [
    "model = Word2Vec(data, vector_size=500, window=20, epochs=100)"
   ]
  },
  {
   "cell_type": "code",
   "execution_count": 153,
   "metadata": {},
   "outputs": [],
   "source": [
    "timestamp = datetime.now().strftime(\"%y%m%d%H%M\")\n",
    "model.save(f\"word2vec_{timestamp}.model\")\n",
    "model.wv.save(f\"word2vec_{timestamp}.vectors\")"
   ]
  },
  {
   "cell_type": "code",
   "execution_count": 147,
   "metadata": {},
   "outputs": [
    {
     "data": {
      "text/plain": [
       "4725"
      ]
     },
     "execution_count": 147,
     "metadata": {},
     "output_type": "execute_result"
    }
   ],
   "source": [
    "len(model.wv.key_to_index)"
   ]
  },
  {
   "cell_type": "code",
   "execution_count": 158,
   "metadata": {},
   "outputs": [
    {
     "data": {
      "text/plain": [
       "[('etmektedir', 0.9437370896339417),\n",
       " ('ilk', 0.8237730264663696),\n",
       " ('süreceğine', 0.7789953947067261),\n",
       " ('edeceğine', 0.7697752118110657),\n",
       " ('sürdüğüne', 0.7660500407218933),\n",
       " ('anket', 0.7598369121551514),\n",
       " ('endeksleri', 0.7588145732879639),\n",
       " ('ikinci', 0.7570627927780151),\n",
       " ('çeyreğine', 0.7512868046760559),\n",
       " ('verileri', 0.7422521710395813)]"
      ]
     },
     "execution_count": 158,
     "metadata": {},
     "output_type": "execute_result"
    }
   ],
   "source": [
    "model.wv.similar_by_word(\"işaret\")"
   ]
  },
  {
   "cell_type": "code",
   "execution_count": 149,
   "metadata": {},
   "outputs": [
    {
     "data": {
      "text/plain": [
       "[('görülmüştür', 0.37992048263549805),\n",
       " ('gösterse', 0.3269602060317993),\n",
       " ('yavaşlamakla', 0.3120673596858978),\n",
       " ('büyümesi', 0.2894984483718872),\n",
       " ('ederken', 0.28884491324424744),\n",
       " ('desteklemiştir', 0.2886334955692291),\n",
       " ('gözlense', 0.2858155369758606),\n",
       " ('endekslerinde', 0.2820065915584564),\n",
       " ('firmaların', 0.2740427255630493),\n",
       " ('gelişme', 0.27259358763694763)]"
      ]
     },
     "execution_count": 149,
     "metadata": {},
     "output_type": "execute_result"
    }
   ],
   "source": [
    "model.wv.most_similar(positive=[\"banka\", \"üretim\"], negative=[\"gerileme\"])"
   ]
  },
  {
   "cell_type": "code",
   "execution_count": 152,
   "metadata": {},
   "outputs": [
    {
     "data": {
      "text/plain": [
       "[('gıda', 0.6684607267379761),\n",
       " ('işlenmemiş', 0.6664918065071106),\n",
       " ('sürmüştür', 0.660183846950531),\n",
       " ('temel', 0.6598487496376038),\n",
       " ('yıllık', 0.6546868681907654),\n",
       " ('kalan', 0.6543123126029968),\n",
       " ('yükseliş', 0.6447461247444153),\n",
       " ('etkili', 0.6388684511184692),\n",
       " ('fiyatlarındaki', 0.6241285800933838),\n",
       " ('ardından', 0.6206164360046387)]"
      ]
     },
     "execution_count": 152,
     "metadata": {},
     "output_type": "execute_result"
    }
   ],
   "source": [
    "model.wv.most_similar(positive=[\"2022\", \"mart\", \"enflasyon\"])"
   ]
  }
 ],
 "metadata": {
  "kernelspec": {
   "display_name": "venv",
   "language": "python",
   "name": "python3"
  },
  "language_info": {
   "codemirror_mode": {
    "name": "ipython",
    "version": 3
   },
   "file_extension": ".py",
   "mimetype": "text/x-python",
   "name": "python",
   "nbconvert_exporter": "python",
   "pygments_lexer": "ipython3",
   "version": "3.9.6"
  }
 },
 "nbformat": 4,
 "nbformat_minor": 2
}
