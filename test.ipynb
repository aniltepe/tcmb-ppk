{
 "cells": [
  {
   "cell_type": "code",
   "execution_count": 2,
   "metadata": {},
   "outputs": [],
   "source": [
    "import pdfreader\n",
    "from pdfreader import PDFDocument, SimplePDFViewer\n",
    "import os\n",
    "import re\n",
    "import json"
   ]
  },
  {
   "cell_type": "code",
   "execution_count": 3,
   "metadata": {},
   "outputs": [],
   "source": [
    "def open_pdf(path):\n",
    "    fd = open(path, \"rb\")\n",
    "    viewer = SimplePDFViewer(fd)\n",
    "    doc = PDFDocument(fd)\n",
    "    no_of_pages = len([p for p in doc.pages()])\n",
    "    doc_text = \"\"\n",
    "    for i in range(no_of_pages):\n",
    "        viewer.navigate(i + 1)\n",
    "        viewer.render()\n",
    "        doc_text += \"\".join(viewer.canvas.strings)\n",
    "    return doc_text, no_of_pages"
   ]
  },
  {
   "cell_type": "code",
   "execution_count": 4,
   "metadata": {},
   "outputs": [],
   "source": [
    "REGEX_0 = \" ;;;;; \"   # simple placeholder"
   ]
  },
  {
   "cell_type": "code",
   "execution_count": 78,
   "metadata": {},
   "outputs": [],
   "source": [
    "def correct_encoding(text):\n",
    "    re_grp_1 = [\n",
    "        (r\"(\\u2013)\", \"-\"),\n",
    "        (r\"õ\", \"ı\"),\n",
    "        (r\"Đ\", \"İ\"),\n",
    "        (r\"_{2,}\", \" \"),\n",
    "        (r\"\\-{2,}\", \" \"),\n",
    "        (r\"(\\xa0)\", \" \"),\n",
    "        (r\"(\\u2010)\", \"-\"),\n",
    "        (\"Türkiye Cumhuriyet Merkez Bankası İdare Merkezi İstiklal Caddesi 10 06100 Ulus / Ankara 0312 507 50 00 www.tcmb.gov.tr\", \"\"),\n",
    "        (\"Türkiye Cumhuriyet Merkez Bankası İdare Merkezi Anafartalar Mah. İstiklal Cad. No:10 06050 Ulus Altındağ Ankara 0312 507 50 00 www.tcmb.gov.tr\", \"\"),\n",
    "        (\"Türkiye Cumhuriyet Merkez Bankası İdare Merkezi Hacı Bayram Mah. İstiklal Cad. No:10 06050 Ulus Altındağ Ankara 0312 507 50 00 www.tcmb.gov.tr\", \"\"),\n",
    "        (\"Türkiye Cumhuriyet Merkez Bankası İdare Merkezi Hacı Bayram Mah. İstiklal Cad. No:10 06050  Ulus Altındağ Ankara 0312 507 50 00  www.tcmb.gov.tr\", \"\")\n",
    "    ]\n",
    "\n",
    "    re_grp_2 = [\n",
    "        (r\"([a-zğüşıöçâîû])\\x01|\\x01([a-zğüşıöçâîû])\", \"\\\\1ş\\\\2\"),\n",
    "        (r\"([A-ZĞÜŞİÖÇÂÎÛ])\\x01|\\x01([A-ZĞÜŞİÖÇÂÎÛ])\", \"\\\\1İ\\\\2\"),\n",
    "        (r\"(\\x02)\", \"ğ\"),\n",
    "        (r\"(\\x03)\", \"İ\")\n",
    "    ]\n",
    "\n",
    "    re_grp_3 = [\n",
    "        (r\"(\\x01)\", \"Ş\"),\n",
    "        (r\"([a-zğüşıöçâîû])\\x02|\\x02([a-zğüşıöçâîû])\", \"\\\\1ş\\\\2\"),\n",
    "        (r\"([A-ZĞÜŞİÖÇÂÎÛ])\\x02|\\x02([A-ZĞÜŞİÖÇÂÎÛ])\", \"\\\\1İ\\\\2\"),\n",
    "        (r\"(\\x03)\", \"İ\"),\n",
    "        (r\"(\\x04)\", \"ğ\")\n",
    "    ]\n",
    "\n",
    "    re_grp_4 = [\n",
    "        (r\"([a-zğüşıöçâîû])\\x01|\\x01([a-zğüşıöçâîû])\", \"\\\\1ğ\\\\2\"),\n",
    "        (r\"([A-ZĞÜŞİÖÇÂÎÛ])\\x01|\\x01([A-ZĞÜŞİÖÇÂÎÛ])\", \"\\\\1İ\\\\2\"),\n",
    "        (r\"(\\x02)\", \"ş\"),\n",
    "        (r\"(\\x03)\", \"İ\")\n",
    "    ]\n",
    "\n",
    "    re_grp_5 = [\n",
    "        (r\"([a-zğüşıöçâîû])\\x01|\\x01([a-zğüşıöçâîû])\", \"\\\\1ş\\\\2\"),\n",
    "        (r\"([A-ZĞÜŞİÖÇÂÎÛ])\\x01|\\x01([A-ZĞÜŞİÖÇÂÎÛ])\", \"\\\\1İ\\\\2\"),\n",
    "        (r\"(\\x02)\", \"İ\"),\n",
    "        (r\"(\\x03)\", \"ğ\")\n",
    "    ]\n",
    "\n",
    "    for regex in re_grp_1:\n",
    "        text = re.sub(regex[0], regex[1], text)\n",
    "\n",
    "    if len(re.findall(r\"(\\x04)\", text)) > 0:\n",
    "        for regex in re_grp_3:\n",
    "            text = re.sub(regex[0], regex[1], text)\n",
    "    else:\n",
    "        if text.startswith(\" 1Sayı:2007-32\"):\n",
    "            for regex in re_grp_4:\n",
    "                text = re.sub(regex[0], regex[1], text)\n",
    "        elif text.startswith(\"Sayı:2007-24\") or text.startswith(\"Sayı:2007-08\"):\n",
    "            for regex in re_grp_5:\n",
    "                text = re.sub(regex[0], regex[1], text)\n",
    "        else:\n",
    "            for regex in re_grp_2:\n",
    "                text = re.sub(regex[0], regex[1], text)\n",
    "\n",
    "    return text"
   ]
  },
  {
   "cell_type": "code",
   "execution_count": 6,
   "metadata": {},
   "outputs": [],
   "source": [
    "def discard_metadata(text, doc_name=None):\n",
    "    regex3 = r\"((Sayı|No)\\s?:?\\s?(\\d{4}\\s?\\-\\s?)?\\d{1,2})\"\n",
    "    regex4 = r\"((Para Politikası Kurulu Toplantı Özeti)|(PARA POLİTİKASI KURULU (TOPLANTI|DEĞERLENDİRMELERİ) ÖZETİ))\"\n",
    "    regex5 = r\"(Toplantı Tarih(ler)?i: (\\d{1,2} ve )?\\d{1,2} [a-zA-ZşığüŞİĞÜ]{4,7} \\d{4})\"\n",
    "    regex6 = r\"(\\d{1,2}\\s{,2}[a-zA-ZşığüŞİĞÜ]{4,7}\\s\\d{4})\"\n",
    "    regex7 = r\"BASIN DUYURUSU\"\n",
    "\n",
    "    res_0 = re.findall(regex3, text)\n",
    "    res_1 = re.findall(regex4, text)\n",
    "    res_2 = re.findall(regex5, text)\n",
    "    res_4 = re.findall(regex7, text)\n",
    "    # print(res_0)\n",
    "    # print(res_1)\n",
    "    # print(res_2)\n",
    "    # print(res_4)\n",
    "\n",
    "    text = re.sub(regex3, \" \", text)\n",
    "    text = re.sub(regex4, \" \", text)\n",
    "    text = re.sub(regex5, \" \", text)\n",
    "\n",
    "    res_3 = re.findall(regex6, text)\n",
    "    # print(res_3[0])\n",
    "    \n",
    "    text = re.sub(regex6, \" \", text, 1)\n",
    "    text = re.sub(regex7, \" \", text)\n",
    "\n",
    "    if len(res_0) > 0:\n",
    "        number = res_0[0][0].split(\":\")[1].replace(\" \", \"\") if \":\" in res_0[0][0] else res_0[0][0].replace(\"Sayı\", \"\").replace(\" \", \"\")\n",
    "    else:\n",
    "        number = doc_name.split(\".\")[0].replace(\"DUY\", \"\")\n",
    "    date = \" \".join([r for r in res_2[0][0].split(\":\")[1].strip().split(\" \") if r != \"\"])\n",
    "    published = \" \".join([r for r in res_3[0].strip().split(\" \") if r != \"\"]) if len(res_3) > 0 else \"\"\n",
    "    \n",
    "    return text, (number, date, published)"
   ]
  },
  {
   "cell_type": "code",
   "execution_count": 115,
   "metadata": {},
   "outputs": [],
   "source": [
    "def discard_page_numbers(text, no_of_pages, doc_name=None):\n",
    "    re_1 = r\"(^\\s?1)\"\n",
    "    re_2 = r\"((^\\s?1)|(\\s([2-9]|[1-9][0-9]))\\s\\s)\"\n",
    "    re_3 = r\"((^\\s?1\\s\\s)|((\\s([2-9]|[1-9][0-9])\\s\\s)|(\\s\\s([2-9]|[1-9][0-9])\\s)))\"\n",
    "    re_4 = r\"((\\s([1-9]|[1-9][0-9])\\s\\s)|(\\s\\s([2-9]|[1-9][0-9])\\s)|(\\s\" + str(no_of_pages) + \"\\s$))\"\n",
    "    result = re.findall(re_2, text)\n",
    "    test_numbers = \"\".join([r[0].strip()for r in result])\n",
    "    test_truth = \"\".join([str(i + 1) for i in range(no_of_pages)])\n",
    "    # print(result)\n",
    "    if test_truth != test_numbers:\n",
    "        result = re.findall(re_3, text)\n",
    "        test_numbers = \"\".join([r[0].strip()for r in result])\n",
    "        re_2 = re_3\n",
    "        # print(result)\n",
    "    if test_truth != test_numbers:\n",
    "        result = re.findall(re_4, text)\n",
    "        test_numbers = \"\".join([r[0].strip()for r in result])\n",
    "        re_2 = re_4\n",
    "        # print(result)\n",
    "\n",
    "    if test_truth == test_numbers:\n",
    "        print(doc_name, \"got page numbers, matched\")\n",
    "        text = re.sub(re_2, REGEX_0, text)\n",
    "    elif len(re.findall(re_1, text)) > 0:\n",
    "        print(doc_name, \"got page numbers, not matched\")\n",
    "        text = re.sub(r\"(^\\s?1)\", \"\", text)\n",
    "        for page in range(1, no_of_pages):\n",
    "            res_seq = re.findall(\"(  %s)\" % str(page + 1), text)\n",
    "            print(res_seq)\n",
    "            text = re.sub(\"(  %s)\" % str(page + 1), REGEX_0, text, 1)\n",
    "\n",
    "    # print(doc_name, test_truth, test_numbers)\n",
    "\n",
    "    return text"
   ]
  },
  {
   "cell_type": "code",
   "execution_count": 114,
   "metadata": {},
   "outputs": [],
   "source": [
    "def discard_references(text):\n",
    "    re_1 = r\"(([a-zğüşıöçâîû])(\\.\\d|\\d\\.)\\s)\"\n",
    "    res_1 = re.findall(re_1, text)\n",
    "    print(res_1)\n",
    "    text = re.sub(re_1, \"\\\\2. \", text)\n",
    "\n",
    "    # discard footnotes\n",
    "\n",
    "    if len(res_1) > 0:    \n",
    "        # re_0 = r\"(\\s{2,}\\d\\s[^;]+(?=\" + REGEX_0.strip() + \"))\"\n",
    "        # res_0 = re.findall(re_0, text)\n",
    "        # # print(res_0)\n",
    "        # text = re.sub(re_0, \"\", text)\n",
    "\n",
    "        re_0 = r\"((\\s){2,}[1-9][0-9]?\\s[a-zA-Z0-9ğüşıöçĞÜŞİÖÇ:,\\s\\.“”]{50,}(\\s([2-9]|[1-9][0-9])\\s\\s))\"\n",
    "        text = re.sub(re_0, \"\\\\4\", text)\n",
    "    \n",
    "    text = text.replace(REGEX_0.strip(), \"\")\n",
    "    return text"
   ]
  },
  {
   "cell_type": "code",
   "execution_count": 62,
   "metadata": {},
   "outputs": [],
   "source": [
    "def parse_document(text):\n",
    "    regex1 = r\"(\\d{1,2}\\.\\s{1,2}(?=[A-ZĞÜŞİÖÇÂÎÛ\\d]))\"\n",
    "    regex2 = r\"((^|\\.)\\s+([A-ZĞÜŞİÖÇÂÎÛ\\d][a-zğüşıöçâîû\\d]+\\s{1,2})+(?=[a-zğüşıöçâîû]))\"\n",
    "    regex3 = r\"([a-zA-Z0-9ğüşıöçĞÜŞİÖÇÂâÎîÛû:,;\\-\\*\\+/'’’“”\\\"\\(\\)\\s]{2,}(\\.|:))\"\n",
    "    regex4 = r\"(^(Toplantıya Katılan Kurul Üyeleri)([a-zA-Z0-9ğüşıöçĞÜŞİÖÇÂâÎîÛû,\\s\\[\\]]+)(\\.|(\\([^\\)]+\\))))\"\n",
    "    res = re.findall(regex1, text)\n",
    "    \n",
    "    print(res)\n",
    "\n",
    "    topics = [] \n",
    "    \n",
    "    if len(res) > 0:\n",
    "        text = re.sub(regex1, REGEX_0 + \"\\\\1\", text)\n",
    "        parts = text.split(REGEX_0)\n",
    "\n",
    "        topic = re.sub(r\"(^,)\", \"\", re.sub(regex4, \"\", parts[0].strip())).strip()     # in case of DUY2009-48.pdf and DUY2018-06.pdf\n",
    "        topic_items = []\n",
    "\n",
    "        for i in range(1, len(parts)):\n",
    "            p = parts[i]\n",
    "            p = re.sub(regex1, \"\", p)\n",
    "            res2 = re.findall(regex3, p)\n",
    "            p = re.sub(regex3, \"\", p)\n",
    "            # print(p)\n",
    "            item_idx = int(res[i - 1].split(\".\")[0])\n",
    "            item_text = \" \".join([r[0].strip() for r in res2])\n",
    "            item_text = re.sub(r\"\\s{2,}\", \" \", item_text)\n",
    "            topic_items.append({\"index\": item_idx, \"text\": item_text})\n",
    "\n",
    "            if p.strip() == \"\":\n",
    "                if i == len(parts) - 1:\n",
    "                    topics.append({\"title\": topic, \"items\": topic_items})\n",
    "            else:\n",
    "                topics.append({\"title\": topic, \"items\": topic_items})\n",
    "                topic = p.strip()\n",
    "                topic_items = []\n",
    "            \n",
    "            \n",
    "    else:\n",
    "        res2 = re.findall(regex2, text)\n",
    "        print(res2)\n",
    "        temp1 = [re.sub(r\"\\s{2,}\", \" \", r[0].replace(\".\", \"\").strip()) for r in res2]\n",
    "        temp2 = [\" \".join(r.split(\" \")[0:-1]) for r in temp1 if len(r.split(\" \")) > 1]\n",
    "        temp3 = []\n",
    "        \n",
    "        for r in temp2:\n",
    "            r_p = r.split(\" \")\n",
    "            if len(r_p) % 2 == 1:\n",
    "                temp3.append(r)\n",
    "                continue\n",
    "            no_dup = False\n",
    "            for j in range(int(len(r_p)/2)):\n",
    "                if r_p[j] != r_p[j + int(len(r_p)/2)]:\n",
    "                    no_dup = True\n",
    "                    break\n",
    "            if no_dup:\n",
    "                temp3.append(r)\n",
    "                continue\n",
    "            r_n = \" \".join([r_p[j] for j in range(int(len(r_p)/2))])\n",
    "            temp3.append(r_n)\n",
    "            \n",
    "        print(len(temp3), temp3)\n",
    "\n",
    "        for r in res2:\n",
    "            simplified = re.sub(r\"\\s{2,}\", \" \", r[0].replace(\".\", \"\").strip())\n",
    "            if len(simplified.split(\" \")) > 1:\n",
    "                text = re.sub(r[0], r[1] + REGEX_0 + simplified + \" \", text, 1)\n",
    "            \n",
    "        parts = text.split(REGEX_0)\n",
    "        print(len(parts), parts)\n",
    "        for i, r in enumerate(parts):\n",
    "            if i == 0:\n",
    "                continue\n",
    "            topics.append({\"title\": temp3[i - 1], \"items\": [{\"index\": 0, \"text\": re.sub(r\"\\s{2,}\", \" \", re.sub(temp3[i - 1], \" \", r, 1)).strip()}]})\n",
    "        \n",
    "\n",
    "    print([t[\"title\"] for t in topics])\n",
    "\n",
    "    return topics"
   ]
  },
  {
   "cell_type": "code",
   "execution_count": 79,
   "metadata": {},
   "outputs": [],
   "source": [
    "def minor_changes(text, reverse=False):\n",
    "    changes = [\n",
    "        (\"Beklenti Anketi\", \"Beklenti anketi\"),\n",
    "        (\"Riskler ve Para Politikası\", \"Riskler Ve Para Politikası\"),\n",
    "        (\"İktisadi Yönelim Anketi\", \"İktisadi yönelim anketi\"),\n",
    "        (\"Para Politikası Kurulu,\", \"Para Politikası Kurulu\"),\n",
    "        (\"Para Politikası Kurulu 23 Şubat\", \"Para Politikası Kurulu, 23 Şubat\"),\n",
    "        (\"M. İbrahim Turhan\", \"İbrahim Mustafa Turhan\"),\n",
    "        (\"(Başkan)\", \"[Başkan]\"),\n",
    "        (\"tutulmasınakarar\", \"tutulmasına karar\"),\n",
    "        (\"Ocak-Nisan 2006 10.\", \"10. Ocak-Nisan 2006:\"),\n",
    "        (\"Mayıs 2006 ve Sonrası 11.\", \"11. Mayıs 2006 ve Sonrası:\"),\n",
    "        (\"Mehmet Yörükoğlu  Para Politikası\", \"Mehmet Yörükoğlu.  Para Politikası\"),\n",
    "        (\"Mehmet Yörükoğlu      Enflasyon Gelişmeleri\", \"Mehmet Yörükoğlu.      Enflasyon Gelişmeleri\"),\n",
    "        (\"İbrahim Mustafa Turhan Abdullah Yavaş\", \"İbrahim Mustafa Turhan, Abdullah Yavaş\"),\n",
    "        (\"Mehmet Yörükoğlu Katılmayan\", \"Mehmet Yörükoğlu. Katılmayan\"),\n",
    "        (\"Mehmet Yörükoğlu  Toplantıya\", \"Mehmet Yörükoğlu.  Toplantıya\"),\n",
    "        (\"6. Özetle, enflasyonda Ağustos ayından itibaren düşüşün başlayacağı öngörülmekle birlikte, fiyatlama davranışları dikkatle takip edilmektedir\", \"6. Özetle, enflasyonda Ağustos ayından itibaren düşüşün başlayacağı öngörülmekle birlikte, fiyatlama davranışları dikkatle takip edilmektedir.\"),\n",
    "        (\"Yatırım eğiliminin düşük seviyelerde seyretmesi ve sanayi üretimindeki ılımlı artış eğilimi istihdam piyasasındaki iyileşmenin zaman alabileceğine işaret etmektedir\", \"Yatırım eğiliminin düşük seviyelerde seyretmesi ve sanayi üretimindeki ılımlı artış eğilimi istihdam piyasasındaki iyileşmenin zaman alabileceğine işaret etmektedir.\"),\n",
    "        (\"Toplantıya Katılan Kurul ÜyeleriToplantıya Katılan Kurul ÜyeleriToplantıya Katılan Kurul ÜyeleriToplantıya Katılan Kurul Üyeleri\", \"Toplantıya Katılan Kurul Üyeleri\")\n",
    "    ]\n",
    "    for ch in changes:\n",
    "        text = text.replace(ch[0], ch[1]) if not reverse else text.replace(ch[1], ch[0])\n",
    "\n",
    "    return text"
   ]
  },
  {
   "cell_type": "code",
   "execution_count": 76,
   "metadata": {},
   "outputs": [],
   "source": [
    "def process_document(text, no_of_pages, doc_name):\n",
    "    text = correct_encoding(text)\n",
    "    text, meta = discard_metadata(text, doc_name)\n",
    "    print(meta)\n",
    "    text = discard_page_numbers(text, no_of_pages, doc_name)\n",
    "    text = discard_references(text)\n",
    "    text = minor_changes(text)\n",
    "    topics = parse_document(text)\n",
    "    \n",
    "    return {\n",
    "        \"number\": meta[0],\n",
    "        \"date\": meta[1],\n",
    "        \"published\": meta[2],\n",
    "        \"topics\": topics\n",
    "    }"
   ]
  },
  {
   "cell_type": "code",
   "execution_count": 51,
   "metadata": {},
   "outputs": [],
   "source": [
    "def process_brief(text, no_of_pages, doc_name=None):\n",
    "    text = correct_encoding(text)\n",
    "    text = minor_changes(text)\n",
    "    \n",
    "    print(text)\n",
    "\n",
    "    re_0 = r\"((^\\s?1)|(\\s[2-9])\\s\\s)\"\n",
    "    result = re.findall(re_0, text)\n",
    "    \n",
    "    print(no_of_pages, len(result), doc_name)\n",
    "\n",
    "    text = re.sub(re_0, \"\", text)\n",
    "\n",
    "    regex1 = \"[Başkan]\"\n",
    "    regex3 = r\"((Sayı|No)\\s?:?\\s?(\\d{4}\\s?\\-\\s?)?\\d{1,2})\"\n",
    "    regex4 = r\"((Para Politikası Kurulu Kararı)|(PARA POLİTİKASI KURULU KARARI))\" \n",
    "    regex6 = r\"(\\d{1,2}\\s{1,2}[a-zA-ZşığüŞİĞÜ]{4,7}\\s\\d{4})\"\n",
    "    regex7 = r\"BASIN DUYURUSU\"\n",
    "    regex8 = r\"((Toplantıya Katılan Kurul Üyeleri)([a-zA-Z0-9ğüşıöçĞÜŞİÖÇÂâÎîÛû,\\s\\[\\]]+)(\\.|(\\([^\\)]+\\))))\"\n",
    "    regex9 = r\"(^\\([^\\)]+\\))\"\n",
    "    regex10 = r\"(^((Toplantıya )?Katıla?mayan Kurul Üyesi:?)([a-zA-Z0-9ğüşıöçĞÜŞİÖÇÂâÎîÛû,\\s\\[\\]]+)(\\([^\\)]+\\)))\"\n",
    "\n",
    "    res = re.findall(regex8, text)\n",
    "    print(res)\n",
    "    new_text = re.sub(regex8, REGEX_0 + \"\\\\1\", text)\n",
    "    new_text_parts = new_text.split(REGEX_0)\n",
    "    parsed = {\n",
    "        \"number\": \"\",\n",
    "        \"text\": \"\",\n",
    "        \"date\": \"\",\n",
    "        \"governor\": \"\",\n",
    "        \"board\": []\n",
    "    }\n",
    "    ress_0 = re.findall(regex4, new_text_parts[0])\n",
    "    print(ress_0)\n",
    "    new_text_parts[0] = re.sub(regex4, \"\", new_text_parts[0])\n",
    "\n",
    "    ress_1 = re.findall(regex7, new_text_parts[0])\n",
    "    print(ress_1)\n",
    "    new_text_parts[0] = re.sub(regex7, \"\", new_text_parts[0])\n",
    "\n",
    "    if doc_name == \"DUY2018-01.pdf\":\n",
    "        parsed[\"number\"] = \"2018-01\"\n",
    "        parsed[\"date\"] = \"18 Ocak 2018\"\n",
    "    elif doc_name == \"DUY2018-10.pdf\":\n",
    "        parsed[\"number\"] = \"2018-10\"\n",
    "        parsed[\"date\"] = \"25 Nisan 2018\"\n",
    "    else:\n",
    "        res_0_0 = re.findall(regex3, new_text_parts[0])\n",
    "        if len(res_0_0) > 0:\n",
    "            print(res_0_0)\n",
    "            parsed[\"number\"] = res_0_0[0][0].split(\":\")[1].replace(\" \", \"\") if \":\" in res_0_0[0][0] else res_0_0[0][0].replace(\"Sayı\", \"\").replace(\" \", \"\")\n",
    "            new_text_parts[0] = re.sub(regex3, \"\", new_text_parts[0])\n",
    "        else:\n",
    "            res_1_0 = re.findall(regex3, new_text_parts[1])\n",
    "            print(res_1_0)\n",
    "            if len(res_1_0) > 0:\n",
    "                parsed[\"number\"] = res_1_0[0][0].split(\":\")[1].replace(\" \", \"\") if \":\" in res_1_0[0][0] else res_1_0[0][0].replace(\"Sayı\", \"\").replace(\" \", \"\")\n",
    "                new_text_parts[1] = re.sub(regex3, \"\", new_text_parts[1])\n",
    "                new_text_parts[1] = re.sub(regex6, \"\", new_text_parts[1])\n",
    "            else:\n",
    "                parsed[\"number\"] = doc_name.split(\".\")[0].replace(\"DUY\", \"\")\n",
    "    \n",
    "\n",
    "        res_0_1 = re.findall(regex6, new_text_parts[0])\n",
    "        print(res_0_1)\n",
    "        parsed[\"date\"] = \" \".join([r for r in res_0_1[0].strip().split(\" \") if r != \"\"])\n",
    "    \n",
    "    \n",
    "    new_text_parts[1] = re.sub(regex8, \"\", new_text_parts[1])\n",
    "    members = res[0][2]\n",
    "    remainder = re.sub(r\"(^\\.)\", \"\", re.sub(regex10, \"\", re.sub(regex9, \"\", new_text_parts[1].strip())))   # in case of karar/2010/1.pdf karar/2010/1.pdf karar/2010/2.pdf karar/2010/5.pdf\n",
    "    parsed[\"text\"] = re.sub(r\"\\s{2,}\", \" \", remainder).strip()\n",
    "    parsed[\"governor\"] = [m.replace(regex1, \"\").strip() for m in members.split(\",\") if regex1 in m][0]\n",
    "    parsed[\"board\"] = [m.strip() for m in members.split(\",\") if regex1 not in m]\n",
    "    print(parsed[\"governor\"], parsed[\"board\"])\n",
    "    print(parsed[\"text\"])\n",
    "\n",
    "    return parsed"
   ]
  },
  {
   "cell_type": "code",
   "execution_count": 13,
   "metadata": {},
   "outputs": [],
   "source": [
    "def export_json(path, file, text):\n",
    "    output_path = path.replace(FOLDER_NAME, OUTPUT_FOLDER).replace(PATH_EXT_1, \"\")\n",
    "    if not os.path.isdir(output_path):\n",
    "        os.makedirs(output_path)\n",
    "    with open(os.path.join(output_path, file.replace(\"pdf\", \"json\")), \"w\", encoding=\"utf-8\") as f:\n",
    "        json.dump(text, f, ensure_ascii=False, indent=4)"
   ]
  },
  {
   "cell_type": "code",
   "execution_count": 120,
   "metadata": {},
   "outputs": [],
   "source": [
    "FOLDER_NAME = \"ppk\"\n",
    "OUTPUT_FOLDER = \"ppk_json\"\n",
    "PATH_EXT_0 = \"karar\"\n",
    "PATH_EXT_1 = \"özet\"\n",
    "PATH_YEAR = \"2024\""
   ]
  },
  {
   "cell_type": "code",
   "execution_count": null,
   "metadata": {},
   "outputs": [],
   "source": [
    "pdf_data = []\n",
    "for path, dirs, files in os.walk(f\"{FOLDER_NAME}/{PATH_EXT_1}/{PATH_YEAR}\"):\n",
    "    for file in files:\n",
    "        if not file.endswith(\".pdf\"):\n",
    "            continue\n",
    "        print(file)\n",
    "        doc_text, no_of_pages = open_pdf(os.path.join(path, file))\n",
    "        processed = process_document(doc_text, no_of_pages, file)\n",
    "        pdf_data.append(processed)"
   ]
  },
  {
   "cell_type": "code",
   "execution_count": 121,
   "metadata": {},
   "outputs": [
    {
     "name": "stdout",
     "output_type": "stream",
     "text": [
      "\n",
      "\n",
      "\n",
      "1  Para Politikası Kurulu Kararı 22 Şubat 2024 Sayı: 2024-09   Toplantıya Katılan Kurul Üyeleri Yaşar Fatih Karahan [Başkan], Osman Cevdet Akçay, Elif Haykır Hobikoğlu, Hatice Karahan, Fatma Özkul. Para Politikası Kurulu (Kurul) politika faizi olan bir hafta vadeli repo ihale faiz oranının yüzde 45 düzeyinde sabit tutulmasına karar vermiştir. Ocak ayında aylık enflasyonun ana eğilimi yılın ilk ayına özgü zamana-bağlı fiyat ve ücret güncellemeleri sonucunda, enflasyon tahmin patikasında öngörülen şekilde yükselmiş ve manşet enflasyon sınırlı bir artış kaydetmiştir. Yakın döneme ilişkin göstergeler, yurt içi talepteki dengelenmenin sürdüğüne işaret etmektedir. Söz konusu dengelenme süreci, tüketim malı ve altın ithalatında güçlü, diğer tüketim harcamalarına ilişkin göstergelerde ise öngörülene kıyasla yavaş seyretmektedir. Buna ek olarak, hizmet fiyatlarındaki katılık, jeopolitik riskler ve gıda fiyatları enflasyon baskılarını canlı tutmaktadır. Kurul, enflasyon beklentileri ve fiyatlama davranışlarının öngörüler ile uyumunu ve ücret artışlarının enflasyon üzerindeki etkilerini yakından takip edecektir.  Dış finansman koşulları, rezervlerin seviyesi, cari dengedeki iyileşme ve Türk lirası varlıklara talep, döviz kuru istikrarına ve para politikasının etkinliğine katkıda bulunmaya devam etmektedir. Para politikasındaki kararlı duruş, dezenflasyonun ana unsurlarından olan Türk lirası reel değerlenme sürecine katkı vermeyi sürdürecektir. Kurul, politika faizinin mevcut seviyesinin aylık enflasyonun ana eğiliminde belirgin ve kalıcı bir düşüş sağlanana ve enflasyon beklentileri öngörülen tahmin aralığına yakınsayana kadar sürdürüleceğini değerlendirmiştir. Enflasyon görünümünde belirgin ve kalıcı bir bozulma öngörülmesi durumunda ise para politikası duruşu sıkılaştırılacaktır. Kurul, makroihtiyati politikaları piyasa mekanizmasının işlevselliğini ve makro finansal istikrarı koruyacak nitelikte uygulamayı sürdürecektir. Bu çerçevede, kredi büyümesi ve mevduat faizinde öngörülenin dışında gelişmeler olması durumunda parasal aktarım mekanizması desteklenecektir. Parasal sıkılığı desteklemek amacıyla likidite gelişmeleri yakından takip edilerek, sterilizasyon araçları etkin şekilde kullanılacaktır. Kurul, politika kararlarını parasal sıkılaştırmanın gecikmeli etkilerini de dikkate alarak, enflasyonun ana eğilimini geriletecek ve orta vadede yüzde 5 hedefine ulaştıracak parasal ve finansal koşulları sağlayacak şekilde belirleyecektir. Enflasyon ve enflasyonun ana eğilimine ilişkin göstergeler yakından takip edilecek ve Kurul, fiyat istikrarı temel amacı doğrultusunda elindeki tüm araçları kararlılıkla kullanacaktır. Kurul, kararlarını öngörülebilir, veri odaklı ve şeffaf bir çerçevede alacaktır. Para Politikası Kurulu Toplantı Özeti beş iş günü içinde yayımlanacaktır. \n",
      "1 1 DUY2024-09.pdf\n",
      "[('Toplantıya Katılan Kurul Üyeleri Yaşar Fatih Karahan [Başkan], Osman Cevdet Akçay, Elif Haykır Hobikoğlu, Hatice Karahan, Fatma Özkul.', 'Toplantıya Katılan Kurul Üyeleri', ' Yaşar Fatih Karahan [Başkan], Osman Cevdet Akçay, Elif Haykır Hobikoğlu, Hatice Karahan, Fatma Özkul', '.', '')]\n",
      "[('Para Politikası Kurulu Kararı', 'Para Politikası Kurulu Kararı', '')]\n",
      "[]\n",
      "[('Sayı: 2024-09', 'Sayı', '2024-')]\n",
      "['22 Şubat 2024']\n",
      "Yaşar Fatih Karahan ['Osman Cevdet Akçay', 'Elif Haykır Hobikoğlu', 'Hatice Karahan', 'Fatma Özkul']\n",
      "Para Politikası Kurulu (Kurul) politika faizi olan bir hafta vadeli repo ihale faiz oranının yüzde 45 düzeyinde sabit tutulmasına karar vermiştir. Ocak ayında aylık enflasyonun ana eğilimi yılın ilk ayına özgü zamana-bağlı fiyat ve ücret güncellemeleri sonucunda, enflasyon tahmin patikasında öngörülen şekilde yükselmiş ve manşet enflasyon sınırlı bir artış kaydetmiştir. Yakın döneme ilişkin göstergeler, yurt içi talepteki dengelenmenin sürdüğüne işaret etmektedir. Söz konusu dengelenme süreci, tüketim malı ve altın ithalatında güçlü, diğer tüketim harcamalarına ilişkin göstergelerde ise öngörülene kıyasla yavaş seyretmektedir. Buna ek olarak, hizmet fiyatlarındaki katılık, jeopolitik riskler ve gıda fiyatları enflasyon baskılarını canlı tutmaktadır. Kurul, enflasyon beklentileri ve fiyatlama davranışlarının öngörüler ile uyumunu ve ücret artışlarının enflasyon üzerindeki etkilerini yakından takip edecektir. Dış finansman koşulları, rezervlerin seviyesi, cari dengedeki iyileşme ve Türk lirası varlıklara talep, döviz kuru istikrarına ve para politikasının etkinliğine katkıda bulunmaya devam etmektedir. Para politikasındaki kararlı duruş, dezenflasyonun ana unsurlarından olan Türk lirası reel değerlenme sürecine katkı vermeyi sürdürecektir. Kurul, politika faizinin mevcut seviyesinin aylık enflasyonun ana eğiliminde belirgin ve kalıcı bir düşüş sağlanana ve enflasyon beklentileri öngörülen tahmin aralığına yakınsayana kadar sürdürüleceğini değerlendirmiştir. Enflasyon görünümünde belirgin ve kalıcı bir bozulma öngörülmesi durumunda ise para politikası duruşu sıkılaştırılacaktır. Kurul, makroihtiyati politikaları piyasa mekanizmasının işlevselliğini ve makro finansal istikrarı koruyacak nitelikte uygulamayı sürdürecektir. Bu çerçevede, kredi büyümesi ve mevduat faizinde öngörülenin dışında gelişmeler olması durumunda parasal aktarım mekanizması desteklenecektir. Parasal sıkılığı desteklemek amacıyla likidite gelişmeleri yakından takip edilerek, sterilizasyon araçları etkin şekilde kullanılacaktır. Kurul, politika kararlarını parasal sıkılaştırmanın gecikmeli etkilerini de dikkate alarak, enflasyonun ana eğilimini geriletecek ve orta vadede yüzde 5 hedefine ulaştıracak parasal ve finansal koşulları sağlayacak şekilde belirleyecektir. Enflasyon ve enflasyonun ana eğilimine ilişkin göstergeler yakından takip edilecek ve Kurul, fiyat istikrarı temel amacı doğrultusunda elindeki tüm araçları kararlılıkla kullanacaktır. Kurul, kararlarını öngörülebilir, veri odaklı ve şeffaf bir çerçevede alacaktır. Para Politikası Kurulu Toplantı Özeti beş iş günü içinde yayımlanacaktır.\n",
      "\n",
      "\n",
      "\n",
      "1  Para Politikası Kurulu Kararı 25 Nisan 2024 Sayı: 2024-22   Toplantıya Katılan Kurul Üyeleri Yaşar Fatih Karahan [Başkan], Osman Cevdet Akçay, Elif Haykır Hobikoğlu, Hatice Karahan, Fatma Özkul. Para Politikası Kurulu (Kurul), politika faizi olan bir hafta vadeli repo ihale faiz oranının yüzde 50 düzeyinde sabit tutulmasına karar vermiştir. Mart ayında aylık enflasyonun ana eğilimi, devam eden zayıflamaya rağmen öngörülenden yüksek gerçekleşmiştir. Tüketim malı ve altın ithalatındaki seyir cari dengedeki iyileşmeye katkı verirken, yakın döneme ilişkin diğer göstergeler yurt içi talepte direncin sürdüğüne işaret etmektedir. Hizmet enflasyonundaki yüksek seyir ve katılık, enflasyon beklentileri, jeopolitik riskler ve gıda fiyatları enflasyonist baskıları canlı tutmaktadır. Kurul, enflasyon beklentileri ve fiyatlama davranışlarının öngörüler ile uyumunu yakından takip etmektedir.  Mart ayında atılan adımların etkisiyle finansal koşullar önemli ölçüde sıkılaşmıştır. Parasal sıkılaştırmanın krediler ve iç talep üzerindeki etkileri yakından izlenmektedir. Kurul, parasal sıkılaştırmanın gecikmeli etkilerini de göz önünde bulundurarak politika faizinin sabit tutulmasına karar vermekle birlikte, enflasyon üzerindeki yukarı yönlü risklere karşı ihtiyatlı duruşunu yinelemiştir. Aylık enflasyonun ana eğiliminde belirgin ve kalıcı bir düşüş sağlanana ve enflasyon beklentileri öngörülen tahmin aralığına yakınsayana kadar sıkı para politikası duruşu sürdürülecektir. Enflasyonda belirgin ve kalıcı bir bozulma öngörülmesi durumunda ise para politikası duruşu sıkılaştırılacaktır. Para politikasındaki kararlı duruş; yurt içi talepte dengelenme, Türk lirasında reel değerlenme ve enflasyon beklentilerinde düzelme vasıtası ile aylık enflasyonun ana eğilimini düşürecek ve dezenflasyon 2024 yılının ikinci yarısında tesis edilecektir.  Kurul; makroihtiyati politikaları, piyasa mekanizmasının işlevselliğini ve makro finansal istikrarı koruyacak nitelikte uygulamayı sürdürmektedir. Bu çerçevede, kredi büyümesi ve mevduat faizinde öngörülenin dışında gelişmeler olması durumunda parasal aktarım mekanizması desteklenmeye devam edilecektir. Likidite gelişmeleri yakından takip edilerek, gerektiğinde sterilizasyon araçlarının etkin şekilde kullanılması sürdürülecektir.  Kurul, politika kararlarını parasal sıkılaştırmanın gecikmeli etkilerini de dikkate alarak, enflasyonun ana eğilimini geriletecek ve enflasyonu orta vadede yüzde 5 hedefine ulaştıracak parasal ve finansal koşulları sağlayacak şekilde belirleyecektir. Enflasyon ve enflasyonun ana eğilimine ilişkin göstergeler yakından takip edilecek ve Kurul, fiyat istikrarı temel amacı doğrultusunda elindeki tüm araçları kararlılıkla kullanacaktır. Kurul, kararlarını öngörülebilir, veri odaklı ve şeffaf bir çerçevede alacaktır. Para Politikası Kurulu Toplantı Özeti beş iş günü içinde yayımlanacaktır. \n",
      "1 1 DUY2024-22.pdf\n",
      "[('Toplantıya Katılan Kurul Üyeleri Yaşar Fatih Karahan [Başkan], Osman Cevdet Akçay, Elif Haykır Hobikoğlu, Hatice Karahan, Fatma Özkul.', 'Toplantıya Katılan Kurul Üyeleri', ' Yaşar Fatih Karahan [Başkan], Osman Cevdet Akçay, Elif Haykır Hobikoğlu, Hatice Karahan, Fatma Özkul', '.', '')]\n",
      "[('Para Politikası Kurulu Kararı', 'Para Politikası Kurulu Kararı', '')]\n",
      "[]\n",
      "[('Sayı: 2024-22', 'Sayı', '2024-')]\n",
      "['25 Nisan 2024']\n",
      "Yaşar Fatih Karahan ['Osman Cevdet Akçay', 'Elif Haykır Hobikoğlu', 'Hatice Karahan', 'Fatma Özkul']\n",
      "Para Politikası Kurulu (Kurul), politika faizi olan bir hafta vadeli repo ihale faiz oranının yüzde 50 düzeyinde sabit tutulmasına karar vermiştir. Mart ayında aylık enflasyonun ana eğilimi, devam eden zayıflamaya rağmen öngörülenden yüksek gerçekleşmiştir. Tüketim malı ve altın ithalatındaki seyir cari dengedeki iyileşmeye katkı verirken, yakın döneme ilişkin diğer göstergeler yurt içi talepte direncin sürdüğüne işaret etmektedir. Hizmet enflasyonundaki yüksek seyir ve katılık, enflasyon beklentileri, jeopolitik riskler ve gıda fiyatları enflasyonist baskıları canlı tutmaktadır. Kurul, enflasyon beklentileri ve fiyatlama davranışlarının öngörüler ile uyumunu yakından takip etmektedir. Mart ayında atılan adımların etkisiyle finansal koşullar önemli ölçüde sıkılaşmıştır. Parasal sıkılaştırmanın krediler ve iç talep üzerindeki etkileri yakından izlenmektedir. Kurul, parasal sıkılaştırmanın gecikmeli etkilerini de göz önünde bulundurarak politika faizinin sabit tutulmasına karar vermekle birlikte, enflasyon üzerindeki yukarı yönlü risklere karşı ihtiyatlı duruşunu yinelemiştir. Aylık enflasyonun ana eğiliminde belirgin ve kalıcı bir düşüş sağlanana ve enflasyon beklentileri öngörülen tahmin aralığına yakınsayana kadar sıkı para politikası duruşu sürdürülecektir. Enflasyonda belirgin ve kalıcı bir bozulma öngörülmesi durumunda ise para politikası duruşu sıkılaştırılacaktır. Para politikasındaki kararlı duruş; yurt içi talepte dengelenme, Türk lirasında reel değerlenme ve enflasyon beklentilerinde düzelme vasıtası ile aylık enflasyonun ana eğilimini düşürecek ve dezenflasyon 2024 yılının ikinci yarısında tesis edilecektir. Kurul; makroihtiyati politikaları, piyasa mekanizmasının işlevselliğini ve makro finansal istikrarı koruyacak nitelikte uygulamayı sürdürmektedir. Bu çerçevede, kredi büyümesi ve mevduat faizinde öngörülenin dışında gelişmeler olması durumunda parasal aktarım mekanizması desteklenmeye devam edilecektir. Likidite gelişmeleri yakından takip edilerek, gerektiğinde sterilizasyon araçlarının etkin şekilde kullanılması sürdürülecektir. Kurul, politika kararlarını parasal sıkılaştırmanın gecikmeli etkilerini de dikkate alarak, enflasyonun ana eğilimini geriletecek ve enflasyonu orta vadede yüzde 5 hedefine ulaştıracak parasal ve finansal koşulları sağlayacak şekilde belirleyecektir. Enflasyon ve enflasyonun ana eğilimine ilişkin göstergeler yakından takip edilecek ve Kurul, fiyat istikrarı temel amacı doğrultusunda elindeki tüm araçları kararlılıkla kullanacaktır. Kurul, kararlarını öngörülebilir, veri odaklı ve şeffaf bir çerçevede alacaktır. Para Politikası Kurulu Toplantı Özeti beş iş günü içinde yayımlanacaktır.\n",
      "\n",
      "\n",
      "\n",
      "1  Para Politikası Kurulu Kararı 27 Haziran 2024 Sayı: 2024-33   Toplantıya Katılan Kurul Üyeleri Yaşar Fatih Karahan [Başkan], Osman Cevdet Akçay, Elif Haykır Hobikoğlu, Hatice Karahan, Fatma Özkul. Para Politikası Kurulu (Kurul), politika faizi olan bir hafta vadeli repo ihale faiz oranının yüzde 50’de sabit tutulmasına karar vermiştir. Aylık enflasyonun ana eğilimindeki zayıflama mayıs ayında geçici bir kesintiye uğramıştır. Yakın döneme ilişkin göstergeler yurt içi talebin, halen enflasyonist düzeyde olmakla birlikte, yavaşladığını teyit etmektedir. Hizmet enflasyonundaki yüksek seyir ve katılık, enflasyon beklentileri, jeopolitik riskler ve gıda fiyatları enflasyonist baskıları canlı tutmaktadır. Kurul, enflasyon beklentileri ve fiyatlama davranışlarının öngörüler ile uyumunu yakından takip etmektedir. Parasal sıkılaştırmanın krediler ve iç talep üzerindeki etkileri yakından izlenmektedir. Kurul, parasal sıkılaştırmanın gecikmeli etkilerini de göz önünde bulundurarak politika faizinin sabit tutulmasına karar vermekle birlikte, enflasyon üzerindeki yukarı yönlü risklere karşı ihtiyatlı duruşunu yinelemiştir. Aylık enflasyonun ana eğiliminde belirgin ve kalıcı bir düşüş sağlanana ve enflasyon beklentileri öngörülen tahmin aralığına yakınsayana kadar sıkı para politikası duruşu sürdürülecektir. Enflasyonda belirgin ve kalıcı bir bozulma öngörülmesi durumunda ise para politikası duruşu sıkılaştırılacaktır. Para politikasındaki kararlı duruş; yurt içi talepte dengelenme, Türk lirasında reel değerlenme ve enflasyon beklentilerinde düzelme vasıtası ile aylık enflasyonun ana eğilimini düşürecek ve dezenflasyon yılın ikinci yarısında tesis edilecektir. Kredi ve mevduat piyasalarında öngörülenin dışında gelişmeler olması durumunda parasal aktarım mekanizması ilave makroihtiyati adımlarla desteklenecektir. Likidite gelişmeleri yakından izlenmektedir. Sterilizasyon araçları, gerektiğinde çeşitlendirilerek etkin şekilde kullanılacaktır. Kurul, politika kararlarını parasal sıkılaştırmanın gecikmeli etkilerini de dikkate alarak, enflasyonun ana eğilimini geriletecek ve enflasyonu orta vadede yüzde 5 hedefine ulaştıracak parasal ve finansal koşulları sağlayacak şekilde belirleyecektir. Enflasyon ve enflasyonun ana eğilimine ilişkin göstergeler yakından takip edilecek ve Kurul, fiyat istikrarı temel amacı doğrultusunda elindeki tüm araçları kararlılıkla kullanacaktır. Kurul, kararlarını öngörülebilir, veri odaklı ve şeffaf bir çerçevede alacaktır. Para Politikası Kurulu Toplantı Özeti beş iş günü içinde yayımlanacaktır. \n",
      "1 1 DUY2024-33.pdf\n",
      "[('Toplantıya Katılan Kurul Üyeleri Yaşar Fatih Karahan [Başkan], Osman Cevdet Akçay, Elif Haykır Hobikoğlu, Hatice Karahan, Fatma Özkul.', 'Toplantıya Katılan Kurul Üyeleri', ' Yaşar Fatih Karahan [Başkan], Osman Cevdet Akçay, Elif Haykır Hobikoğlu, Hatice Karahan, Fatma Özkul', '.', '')]\n",
      "[('Para Politikası Kurulu Kararı', 'Para Politikası Kurulu Kararı', '')]\n",
      "[]\n",
      "[('Sayı: 2024-33', 'Sayı', '2024-')]\n",
      "['27 Haziran 2024']\n",
      "Yaşar Fatih Karahan ['Osman Cevdet Akçay', 'Elif Haykır Hobikoğlu', 'Hatice Karahan', 'Fatma Özkul']\n",
      "Para Politikası Kurulu (Kurul), politika faizi olan bir hafta vadeli repo ihale faiz oranının yüzde 50’de sabit tutulmasına karar vermiştir. Aylık enflasyonun ana eğilimindeki zayıflama mayıs ayında geçici bir kesintiye uğramıştır. Yakın döneme ilişkin göstergeler yurt içi talebin, halen enflasyonist düzeyde olmakla birlikte, yavaşladığını teyit etmektedir. Hizmet enflasyonundaki yüksek seyir ve katılık, enflasyon beklentileri, jeopolitik riskler ve gıda fiyatları enflasyonist baskıları canlı tutmaktadır. Kurul, enflasyon beklentileri ve fiyatlama davranışlarının öngörüler ile uyumunu yakından takip etmektedir. Parasal sıkılaştırmanın krediler ve iç talep üzerindeki etkileri yakından izlenmektedir. Kurul, parasal sıkılaştırmanın gecikmeli etkilerini de göz önünde bulundurarak politika faizinin sabit tutulmasına karar vermekle birlikte, enflasyon üzerindeki yukarı yönlü risklere karşı ihtiyatlı duruşunu yinelemiştir. Aylık enflasyonun ana eğiliminde belirgin ve kalıcı bir düşüş sağlanana ve enflasyon beklentileri öngörülen tahmin aralığına yakınsayana kadar sıkı para politikası duruşu sürdürülecektir. Enflasyonda belirgin ve kalıcı bir bozulma öngörülmesi durumunda ise para politikası duruşu sıkılaştırılacaktır. Para politikasındaki kararlı duruş; yurt içi talepte dengelenme, Türk lirasında reel değerlenme ve enflasyon beklentilerinde düzelme vasıtası ile aylık enflasyonun ana eğilimini düşürecek ve dezenflasyon yılın ikinci yarısında tesis edilecektir. Kredi ve mevduat piyasalarında öngörülenin dışında gelişmeler olması durumunda parasal aktarım mekanizması ilave makroihtiyati adımlarla desteklenecektir. Likidite gelişmeleri yakından izlenmektedir. Sterilizasyon araçları, gerektiğinde çeşitlendirilerek etkin şekilde kullanılacaktır. Kurul, politika kararlarını parasal sıkılaştırmanın gecikmeli etkilerini de dikkate alarak, enflasyonun ana eğilimini geriletecek ve enflasyonu orta vadede yüzde 5 hedefine ulaştıracak parasal ve finansal koşulları sağlayacak şekilde belirleyecektir. Enflasyon ve enflasyonun ana eğilimine ilişkin göstergeler yakından takip edilecek ve Kurul, fiyat istikrarı temel amacı doğrultusunda elindeki tüm araçları kararlılıkla kullanacaktır. Kurul, kararlarını öngörülebilir, veri odaklı ve şeffaf bir çerçevede alacaktır. Para Politikası Kurulu Toplantı Özeti beş iş günü içinde yayımlanacaktır.\n",
      "\n",
      "\n",
      "\n",
      "1  Para Politikası Kurulu Kararı 25 Ocak 2024 Sayı: 2024-01   Toplantıya Katılan Kurul Üyeleri Hafize Gaye Erkan [Başkan], Osman Cevdet Akçay, Elif Haykır Hobikoğlu, Yaşar Fatih Karahan, Hatice Karahan, Fatma Özkul. Para Politikası Kurulu (Kurul) politika faizi olan bir hafta vadeli repo ihale faiz oranının yüzde 42,5’ten yüzde 45 düzeyine yükseltilmesine karar vermiştir. Aralık ayında manşet enflasyon son Enflasyon Raporu’nda sunulan görünümle uyumlu bir artış kaydetmiştir. Yurt içi talebin mevcut seviyesi, hizmet fiyatlarındaki katılık ve jeopolitik riskler enflasyon baskılarını canlı tutmaktadır. Öte yandan, yakın döneme ilişkin göstergeler, parasal sıkılaştırmanın finansal koşullara yansımasıyla yurt içi talepteki dengelenmenin, öngörülen dezenflasyon süreci ile tutarlı seyrettiğine işaret etmektedir. Kurul, enflasyon beklentileri ve fiyatlama davranışlarında başlayan sınırlı iyileşmenin devam ettiğini değerlendirmektedir. Dış finansman koşulları, rezervlerdeki güçlenme, cari dengedeki iyileşme ve Türk lirası varlıklara talep, döviz kuru istikrarına ve para politikasının etkinliğine katkıda bulunmaya devam etmektedir. Bu çerçevede, aylık enflasyonun ana eğilimindeki düşüş sürmüştür.  Kurul, parasal sıkılaştırmanın gecikmeli etkilerini de göz önünde bulundurarak, dezenflasyonun tesisi için gerekli parasal sıkılık düzeyine ulaşıldığını ve bu düzeyin gerektiği müddetçe sürdürüleceğini değerlendirmiştir. Kurul, politika faizinin mevcut seviyesinin aylık enflasyonun ana eğiliminde belirgin bir düşüş sağlanana ve enflasyon beklentileri öngörülen tahmin aralığına yakınsayana kadar sürdürüleceğini değerlendirmiştir. Enflasyon görünümü üzerinde belirgin ve kalıcı riskler oluşması durumunda ise parasal sıkılık gözden geçirilecektir. Kurul, mevcut mikro- ve makroihtiyati çerçeveyi, piyasa mekanizmasının işlevselliğini artıracak ve makro finansal istikrarı güçlendirecek şekilde sadeleştirmektedir. Kurul, sadeleştirme süreciyle uyumlu şekilde, kredi arzında ve mevduat faizinde gözlenebilecek oynaklıklara karşın, makroihtiyati kararlarla parasal aktarım mekanizmasını destekleyecektir. Kurul, faiz kararlarının yanı sıra, parasal sıkılaştırma sürecini destekleme amacıyla, kullandığı sterilizasyon araçlarının çeşitliliğini artırarak miktarsal sıkılaştırmaya devam edecektir.  Kurul, politika kararlarını parasal sıkılaştırmanın gecikmeli etkilerini de dikkate alarak, enflasyonun ana eğilimini geriletecek ve orta vadede yüzde 5 hedefine ulaştıracak parasal ve finansal koşulları sağlayacak şekilde belirlemeye devam edecektir. Enflasyon ve enflasyonun ana eğilimine ilişkin göstergeler yakından takip edilecek ve Kurul, fiyat istikrarı temel amacı doğrultusunda elindeki tüm araçları kararlılıkla kullanmaya devam edecektir. Kurul, kararlarını öngörülebilir, veri odaklı ve şeffaf bir çerçevede almaya devam edecektir. Para Politikası Kurulu Toplantı Özeti beş iş günü içinde yayımlanacaktır. \n",
      "1 1 DUY2024-01.pdf\n",
      "[('Toplantıya Katılan Kurul Üyeleri Hafize Gaye Erkan [Başkan], Osman Cevdet Akçay, Elif Haykır Hobikoğlu, Yaşar Fatih Karahan, Hatice Karahan, Fatma Özkul.', 'Toplantıya Katılan Kurul Üyeleri', ' Hafize Gaye Erkan [Başkan], Osman Cevdet Akçay, Elif Haykır Hobikoğlu, Yaşar Fatih Karahan, Hatice Karahan, Fatma Özkul', '.', '')]\n",
      "[('Para Politikası Kurulu Kararı', 'Para Politikası Kurulu Kararı', '')]\n",
      "[]\n",
      "[('Sayı: 2024-01', 'Sayı', '2024-')]\n",
      "['25 Ocak 2024']\n",
      "Hafize Gaye Erkan ['Osman Cevdet Akçay', 'Elif Haykır Hobikoğlu', 'Yaşar Fatih Karahan', 'Hatice Karahan', 'Fatma Özkul']\n",
      "Para Politikası Kurulu (Kurul) politika faizi olan bir hafta vadeli repo ihale faiz oranının yüzde 42,5’ten yüzde 45 düzeyine yükseltilmesine karar vermiştir. Aralık ayında manşet enflasyon son Enflasyon Raporu’nda sunulan görünümle uyumlu bir artış kaydetmiştir. Yurt içi talebin mevcut seviyesi, hizmet fiyatlarındaki katılık ve jeopolitik riskler enflasyon baskılarını canlı tutmaktadır. Öte yandan, yakın döneme ilişkin göstergeler, parasal sıkılaştırmanın finansal koşullara yansımasıyla yurt içi talepteki dengelenmenin, öngörülen dezenflasyon süreci ile tutarlı seyrettiğine işaret etmektedir. Kurul, enflasyon beklentileri ve fiyatlama davranışlarında başlayan sınırlı iyileşmenin devam ettiğini değerlendirmektedir. Dış finansman koşulları, rezervlerdeki güçlenme, cari dengedeki iyileşme ve Türk lirası varlıklara talep, döviz kuru istikrarına ve para politikasının etkinliğine katkıda bulunmaya devam etmektedir. Bu çerçevede, aylık enflasyonun ana eğilimindeki düşüş sürmüştür. Kurul, parasal sıkılaştırmanın gecikmeli etkilerini de göz önünde bulundurarak, dezenflasyonun tesisi için gerekli parasal sıkılık düzeyine ulaşıldığını ve bu düzeyin gerektiği müddetçe sürdürüleceğini değerlendirmiştir. Kurul, politika faizinin mevcut seviyesinin aylık enflasyonun ana eğiliminde belirgin bir düşüş sağlanana ve enflasyon beklentileri öngörülen tahmin aralığına yakınsayana kadar sürdürüleceğini değerlendirmiştir. Enflasyon görünümü üzerinde belirgin ve kalıcı riskler oluşması durumunda ise parasal sıkılık gözden geçirilecektir. Kurul, mevcut mikro- ve makroihtiyati çerçeveyi, piyasa mekanizmasının işlevselliğini artıracak ve makro finansal istikrarı güçlendirecek şekilde sadeleştirmektedir. Kurul, sadeleştirme süreciyle uyumlu şekilde, kredi arzında ve mevduat faizinde gözlenebilecek oynaklıklara karşın, makroihtiyati kararlarla parasal aktarım mekanizmasını destekleyecektir. Kurul, faiz kararlarının yanı sıra, parasal sıkılaştırma sürecini destekleme amacıyla, kullandığı sterilizasyon araçlarının çeşitliliğini artırarak miktarsal sıkılaştırmaya devam edecektir. Kurul, politika kararlarını parasal sıkılaştırmanın gecikmeli etkilerini de dikkate alarak, enflasyonun ana eğilimini geriletecek ve orta vadede yüzde 5 hedefine ulaştıracak parasal ve finansal koşulları sağlayacak şekilde belirlemeye devam edecektir. Enflasyon ve enflasyonun ana eğilimine ilişkin göstergeler yakından takip edilecek ve Kurul, fiyat istikrarı temel amacı doğrultusunda elindeki tüm araçları kararlılıkla kullanmaya devam edecektir. Kurul, kararlarını öngörülebilir, veri odaklı ve şeffaf bir çerçevede almaya devam edecektir. Para Politikası Kurulu Toplantı Özeti beş iş günü içinde yayımlanacaktır.\n",
      "\n",
      "\n",
      "\n",
      " 1  Para Politikası Kurulu Kararı 23 Mayıs 2024 Sayı: 2024-28   Toplantıya Katılan Kurul Üyeleri Yaşar Fatih Karahan [Başkan], Osman Cevdet Akçay, Elif Haykır Hobikoğlu, Hatice Karahan, Fatma Özkul. Para Politikası Kurulu (Kurul), politika faizi olan bir hafta vadeli repo ihale faiz oranının yüzde 50’de sabit tutulmasına karar vermiştir. Nisan ayında aylık enflasyonun ana eğilimi sınırlı bir zayıflama kaydetmiştir. Yakın döneme ilişkin göstergeler yurt içi talepte ilk çeyreğe kıyasla yavaşlamaya işaret etmiştir. Bununla birlikte, tüketim malı ithalatı nisan ayında artarak cari işlemler dengesindeki iyileşmeyi sınırlamıştır. Hizmet enflasyonundaki yüksek seyir ve katılık, enflasyon beklentileri, jeopolitik riskler ve gıda fiyatları enflasyonist baskıları canlı tutmaktadır. Kurul, enflasyon beklentileri ve fiyatlama davranışlarının öngörüler ile uyumunu yakından takip etmektedir.  Parasal sıkılaştırmanın krediler ve iç talep üzerindeki etkileri yakından izlenmektedir. Kurul, parasal sıkılaştırmanın gecikmeli etkilerini de göz önünde bulundurarak politika faizinin sabit tutulmasına karar vermekle birlikte, enflasyon üzerindeki yukarı yönlü risklere karşı ihtiyatlı duruşunu yinelemiştir. Aylık enflasyonun ana eğiliminde belirgin ve kalıcı bir düşüş sağlanana ve enflasyon beklentileri öngörülen tahmin aralığına yakınsayana kadar sıkı para politikası duruşu sürdürülecektir. Enflasyonda belirgin ve kalıcı bir bozulma öngörülmesi durumunda ise para politikası duruşu sıkılaştırılacaktır. Para politikasındaki kararlı duruş; yurt içi talepte dengelenme, Türk lirasında reel değerlenme ve enflasyon beklentilerinde düzelme vasıtası ile aylık enflasyonun ana eğilimini düşürecek ve dezenflasyon yılın ikinci yarısında tesis edilecektir. Makroihtiyati çerçevede sadeleşme ve piyasa mekanizmasının işlevselliğini artırma amacı kapsamında, menkul kıymet tesisi uygulaması sonlandırılmıştır. Son dönem kredi büyümesi ve mevduat gelişmeleri göz önünde bulundurularak, makro finansal istikrarı koruyacak ve parasal aktarım mekanizmasını destekleyecek ek adımlar atılacaktır. Yurt içi ve yurt dışı yerleşiklerin Türk lirası finansal varlıklara talebiyle oluşan likidite fazlası ilave tedbirlerle sterilize edilecektir.  Kurul, politika kararlarını parasal sıkılaştırmanın gecikmeli etkilerini de dikkate alarak, enflasyonun ana eğilimini geriletecek ve enflasyonu orta vadede yüzde 5 hedefine ulaştıracak parasal ve finansal koşulları sağlayacak şekilde belirleyecektir. Enflasyon ve enflasyonun ana eğilimine ilişkin göstergeler yakından takip edilecek ve Kurul, fiyat istikrarı temel amacı doğrultusunda elindeki tüm araçları kararlılıkla kullanacaktır. Kurul, kararlarını öngörülebilir, veri odaklı ve şeffaf bir çerçevede alacaktır. Para Politikası Kurulu Toplantı Özeti beş iş günü içinde yayımlanacaktır. \n",
      "1 1 DUY2024-28.pdf\n",
      "[('Toplantıya Katılan Kurul Üyeleri Yaşar Fatih Karahan [Başkan], Osman Cevdet Akçay, Elif Haykır Hobikoğlu, Hatice Karahan, Fatma Özkul.', 'Toplantıya Katılan Kurul Üyeleri', ' Yaşar Fatih Karahan [Başkan], Osman Cevdet Akçay, Elif Haykır Hobikoğlu, Hatice Karahan, Fatma Özkul', '.', '')]\n",
      "[('Para Politikası Kurulu Kararı', 'Para Politikası Kurulu Kararı', '')]\n",
      "[]\n",
      "[('Sayı: 2024-28', 'Sayı', '2024-')]\n",
      "['23 Mayıs 2024']\n",
      "Yaşar Fatih Karahan ['Osman Cevdet Akçay', 'Elif Haykır Hobikoğlu', 'Hatice Karahan', 'Fatma Özkul']\n",
      "Para Politikası Kurulu (Kurul), politika faizi olan bir hafta vadeli repo ihale faiz oranının yüzde 50’de sabit tutulmasına karar vermiştir. Nisan ayında aylık enflasyonun ana eğilimi sınırlı bir zayıflama kaydetmiştir. Yakın döneme ilişkin göstergeler yurt içi talepte ilk çeyreğe kıyasla yavaşlamaya işaret etmiştir. Bununla birlikte, tüketim malı ithalatı nisan ayında artarak cari işlemler dengesindeki iyileşmeyi sınırlamıştır. Hizmet enflasyonundaki yüksek seyir ve katılık, enflasyon beklentileri, jeopolitik riskler ve gıda fiyatları enflasyonist baskıları canlı tutmaktadır. Kurul, enflasyon beklentileri ve fiyatlama davranışlarının öngörüler ile uyumunu yakından takip etmektedir. Parasal sıkılaştırmanın krediler ve iç talep üzerindeki etkileri yakından izlenmektedir. Kurul, parasal sıkılaştırmanın gecikmeli etkilerini de göz önünde bulundurarak politika faizinin sabit tutulmasına karar vermekle birlikte, enflasyon üzerindeki yukarı yönlü risklere karşı ihtiyatlı duruşunu yinelemiştir. Aylık enflasyonun ana eğiliminde belirgin ve kalıcı bir düşüş sağlanana ve enflasyon beklentileri öngörülen tahmin aralığına yakınsayana kadar sıkı para politikası duruşu sürdürülecektir. Enflasyonda belirgin ve kalıcı bir bozulma öngörülmesi durumunda ise para politikası duruşu sıkılaştırılacaktır. Para politikasındaki kararlı duruş; yurt içi talepte dengelenme, Türk lirasında reel değerlenme ve enflasyon beklentilerinde düzelme vasıtası ile aylık enflasyonun ana eğilimini düşürecek ve dezenflasyon yılın ikinci yarısında tesis edilecektir. Makroihtiyati çerçevede sadeleşme ve piyasa mekanizmasının işlevselliğini artırma amacı kapsamında, menkul kıymet tesisi uygulaması sonlandırılmıştır. Son dönem kredi büyümesi ve mevduat gelişmeleri göz önünde bulundurularak, makro finansal istikrarı koruyacak ve parasal aktarım mekanizmasını destekleyecek ek adımlar atılacaktır. Yurt içi ve yurt dışı yerleşiklerin Türk lirası finansal varlıklara talebiyle oluşan likidite fazlası ilave tedbirlerle sterilize edilecektir. Kurul, politika kararlarını parasal sıkılaştırmanın gecikmeli etkilerini de dikkate alarak, enflasyonun ana eğilimini geriletecek ve enflasyonu orta vadede yüzde 5 hedefine ulaştıracak parasal ve finansal koşulları sağlayacak şekilde belirleyecektir. Enflasyon ve enflasyonun ana eğilimine ilişkin göstergeler yakından takip edilecek ve Kurul, fiyat istikrarı temel amacı doğrultusunda elindeki tüm araçları kararlılıkla kullanacaktır. Kurul, kararlarını öngörülebilir, veri odaklı ve şeffaf bir çerçevede alacaktır. Para Politikası Kurulu Toplantı Özeti beş iş günü içinde yayımlanacaktır.\n",
      "\n",
      "\n",
      "\n",
      "1  Para Politikası Kurulu Kararı 21 Mart 2024 Sayı: 2024-14   Toplantıya Katılan Kurul Üyeleri Yaşar Fatih Karahan [Başkan], Osman Cevdet Akçay, Elif Haykır Hobikoğlu, Hatice Karahan, Fatma Özkul. Para Politikası Kurulu (Kurul), politika faizi olan bir hafta vadeli repo ihale faiz oranının yüzde 45’ten yüzde 50 düzeyine yükseltilmesine karar vermiştir. Kurul ayrıca, operasyonel çerçevede değişikliğe giderek, Merkez Bankası gecelik vadede borçlanma ve borç verme oranlarının bir hafta vadeli repo ihale faiz oranına kıyasla -/+ 300 baz puanlık bir marj ile belirlenmesine karar vermiştir. Şubat ayında aylık enflasyonun ana eğilimi, hizmet enflasyonu öncülüğünde, öngörülenden yüksek gerçekleşmiştir. Tüketim malı ve altın ithalatı yavaşlayarak cari dengedeki iyileşmeye katkı verirken, yakın döneme ilişkin diğer göstergeler yurt içi talepte dirençli seyrin sürdüğüne işaret etmektedir. Hizmet enflasyonundaki katılık, enflasyon beklentileri, jeopolitik riskler ve gıda fiyatları enflasyon baskılarını canlı tutmaktadır. Kurul, enflasyon beklentileri ve fiyatlama davranışlarının öngörüler ile uyumunu ve ücret artışlarının enflasyon üzerindeki etkilerini yakından takip etmektedir.  Kurul, enflasyon görünümündeki bozulmayı dikkate alarak politika faizinin artırılmasına karar vermiştir. Aylık enflasyonun ana eğiliminde belirgin ve kalıcı bir düşüş sağlanana ve enflasyon beklentileri öngörülen tahmin aralığına yakınsayana kadar sıkı para politikası duruşu sürdürülecektir. Enflasyonda belirgin ve kalıcı bir bozulma öngörülmesi durumunda ise para politikası duruşu sıkılaştırılacaktır. Para politikasındaki kararlı duruş; yurt içi talepte dengelenme, Türk lirasında reel değerlenme ve enflasyon beklentilerinde düzelme vasıtası ile aylık enflasyonun ana eğilimini düşürecek ve dezenflasyon 2024 yılının ikinci yarısında tesis edilecektir. Kurul, makroihtiyati politikaları piyasa mekanizmasının işlevselliğini ve makro finansal istikrarı koruyacak nitelikte uygulamayı sürdürmektedir. Bu çerçevede, ay içinde yapılan düzenlemelerle finansal koşullar sıkılaştırılmış, para politikası aktarımı desteklenmiştir. Kredi büyümesi ve mevduat faizinde öngörülenin dışında gelişmeler olması durumunda parasal aktarım mekanizması desteklenmeye devam edilecektir. Likidite gelişmeleri yakından takip edilerek, gerektiğinde sterilizasyon araçlarının etkin şekilde kullanılması sürdürülecektir. Kurul, politika kararlarını parasal sıkılaştırmanın gecikmeli etkilerini de dikkate alarak, enflasyonun ana eğilimini geriletecek ve enflasyonu orta vadede yüzde 5 hedefine ulaştıracak parasal ve finansal koşulları sağlayacak şekilde belirleyecektir. Enflasyon ve enflasyonun ana eğilimine ilişkin göstergeler yakından takip edilecek ve Kurul, fiyat istikrarı temel amacı doğrultusunda elindeki tüm araçları kararlılıkla kullanacaktır. Kurul, kararlarını öngörülebilir, veri odaklı ve şeffaf bir çerçevede alacaktır. Para Politikası Kurulu Toplantı Özeti beş iş günü içinde yayımlanacaktır. \n",
      "1 1 DUY2024-14.pdf\n",
      "[('Toplantıya Katılan Kurul Üyeleri Yaşar Fatih Karahan [Başkan], Osman Cevdet Akçay, Elif Haykır Hobikoğlu, Hatice Karahan, Fatma Özkul.', 'Toplantıya Katılan Kurul Üyeleri', ' Yaşar Fatih Karahan [Başkan], Osman Cevdet Akçay, Elif Haykır Hobikoğlu, Hatice Karahan, Fatma Özkul', '.', '')]\n",
      "[('Para Politikası Kurulu Kararı', 'Para Politikası Kurulu Kararı', '')]\n",
      "[]\n",
      "[('Sayı: 2024-14', 'Sayı', '2024-')]\n",
      "['21 Mart 2024']\n",
      "Yaşar Fatih Karahan ['Osman Cevdet Akçay', 'Elif Haykır Hobikoğlu', 'Hatice Karahan', 'Fatma Özkul']\n",
      "Para Politikası Kurulu (Kurul), politika faizi olan bir hafta vadeli repo ihale faiz oranının yüzde 45’ten yüzde 50 düzeyine yükseltilmesine karar vermiştir. Kurul ayrıca, operasyonel çerçevede değişikliğe giderek, Merkez Bankası gecelik vadede borçlanma ve borç verme oranlarının bir hafta vadeli repo ihale faiz oranına kıyasla -/+ 300 baz puanlık bir marj ile belirlenmesine karar vermiştir. Şubat ayında aylık enflasyonun ana eğilimi, hizmet enflasyonu öncülüğünde, öngörülenden yüksek gerçekleşmiştir. Tüketim malı ve altın ithalatı yavaşlayarak cari dengedeki iyileşmeye katkı verirken, yakın döneme ilişkin diğer göstergeler yurt içi talepte dirençli seyrin sürdüğüne işaret etmektedir. Hizmet enflasyonundaki katılık, enflasyon beklentileri, jeopolitik riskler ve gıda fiyatları enflasyon baskılarını canlı tutmaktadır. Kurul, enflasyon beklentileri ve fiyatlama davranışlarının öngörüler ile uyumunu ve ücret artışlarının enflasyon üzerindeki etkilerini yakından takip etmektedir. Kurul, enflasyon görünümündeki bozulmayı dikkate alarak politika faizinin artırılmasına karar vermiştir. Aylık enflasyonun ana eğiliminde belirgin ve kalıcı bir düşüş sağlanana ve enflasyon beklentileri öngörülen tahmin aralığına yakınsayana kadar sıkı para politikası duruşu sürdürülecektir. Enflasyonda belirgin ve kalıcı bir bozulma öngörülmesi durumunda ise para politikası duruşu sıkılaştırılacaktır. Para politikasındaki kararlı duruş; yurt içi talepte dengelenme, Türk lirasında reel değerlenme ve enflasyon beklentilerinde düzelme vasıtası ile aylık enflasyonun ana eğilimini düşürecek ve dezenflasyon 2024 yılının ikinci yarısında tesis edilecektir. Kurul, makroihtiyati politikaları piyasa mekanizmasının işlevselliğini ve makro finansal istikrarı koruyacak nitelikte uygulamayı sürdürmektedir. Bu çerçevede, ay içinde yapılan düzenlemelerle finansal koşullar sıkılaştırılmış, para politikası aktarımı desteklenmiştir. Kredi büyümesi ve mevduat faizinde öngörülenin dışında gelişmeler olması durumunda parasal aktarım mekanizması desteklenmeye devam edilecektir. Likidite gelişmeleri yakından takip edilerek, gerektiğinde sterilizasyon araçlarının etkin şekilde kullanılması sürdürülecektir. Kurul, politika kararlarını parasal sıkılaştırmanın gecikmeli etkilerini de dikkate alarak, enflasyonun ana eğilimini geriletecek ve enflasyonu orta vadede yüzde 5 hedefine ulaştıracak parasal ve finansal koşulları sağlayacak şekilde belirleyecektir. Enflasyon ve enflasyonun ana eğilimine ilişkin göstergeler yakından takip edilecek ve Kurul, fiyat istikrarı temel amacı doğrultusunda elindeki tüm araçları kararlılıkla kullanacaktır. Kurul, kararlarını öngörülebilir, veri odaklı ve şeffaf bir çerçevede alacaktır. Para Politikası Kurulu Toplantı Özeti beş iş günü içinde yayımlanacaktır.\n",
      "\n",
      "\n",
      "\n",
      "1  Para Politikası Kurulu Kararı 23 Temmuz 2024 Sayı: 2024-39   Toplantıya Katılan Kurul Üyeleri Yaşar Fatih Karahan [Başkan], Osman Cevdet Akçay, Elif Haykır Hobikoğlu, Hatice Karahan, Fatma Özkul. Para Politikası Kurulu (Kurul), politika faizi olan bir hafta vadeli repo ihale faiz oranının yüzde 50’de sabit tutulmasına karar vermiştir. Haziran ayında aylık enflasyonun ana eğilimi belirgin bir zayıflama kaydetmiştir. Öncü göstergeler temmuz ayında aylık enflasyonun, para politikasının görece etki alanı dışında kalan yönetilen-yönlendirilen fiyat ve vergi ayarlamaları ile işlenmemiş gıda fiyatlarındaki arz yönlü gelişmeler neticesinde geçici olarak artacağına işaret etmektedir. Buna karşın, ana eğilimdeki yükselişin nispeten sınırlı kalacağı öngörülmektedir. Yakın döneme ilişkin göstergeler yurt içi talebin, halen enflasyonist düzeyde olmakla birlikte, yavaşlamaya devam ettiğini teyit etmektedir. Hizmet enflasyonundaki yüksek seyir ve katılık, enflasyon beklentileri, jeopolitik riskler ve gıda fiyatları enflasyonist baskıları canlı tutmaktadır. Kurul, enflasyon beklentileri ve fiyatlama davranışlarının öngörüler ile uyumunu yakından takip etmektedir. Parasal sıkılaştırmanın krediler ve iç talep üzerindeki etkileri yakından izlenmektedir. Kurul, parasal sıkılaştırmanın gecikmeli etkilerini de göz önünde bulundurarak politika faizinin sabit tutulmasına karar vermekle birlikte, enflasyon üzerindeki yukarı yönlü risklere karşı ihtiyatlı duruşunu yinelemiştir. Aylık enflasyonun ana eğiliminde belirgin ve kalıcı bir düşüş sağlanana ve enflasyon beklentileri öngörülen tahmin aralığına yakınsayana kadar sıkı para politikası duruşu sürdürülecektir. Enflasyonda belirgin ve kalıcı bir bozulma öngörülmesi durumunda ise para politikası duruşu sıkılaştırılacaktır. Para politikasındaki kararlı duruş; yurt içi talepte dengelenme, Türk lirasında reel değerlenme ve enflasyon beklentilerinde düzelme vasıtası ile aylık enflasyonun ana eğilimini düşürecek ve dezenflasyon sürecini güçlendirecektir. Kredi büyümesi ve kompozisyonu göz önünde bulundurularak makro finansal istikrarı ve parasal aktarım mekanizmasını destekleyecek şekilde yabancı para kredilere yönelik ek önlemler alınmıştır. Kredi ve mevduat piyasalarında öngörülenin dışında gelişmeler olması durumunda parasal aktarım mekanizması ilave makroihtiyati adımlarla desteklenmeye devam edilecektir. Likidite koşulları muhtemel gelişmeler göz önünde bulundurularak yakından izlenmektedir. Sterilizasyon araçları, gerektiğinde çeşitlendirilerek etkin şekilde kullanılacaktır. Kurul, politika kararlarını parasal sıkılaştırmanın gecikmeli etkilerini de dikkate alarak, enflasyonun ana eğilimini geriletecek ve enflasyonu orta vadede yüzde 5 hedefine ulaştıracak parasal ve finansal koşulları sağlayacak şekilde belirleyecektir. Enflasyon ve enflasyonun ana eğilimine ilişkin göstergeler yakından takip edilecek ve Kurul, fiyat istikrarı temel amacı doğrultusunda elindeki tüm araçları kararlılıkla kullanacaktır. Kurul, kararlarını öngörülebilir, veri odaklı ve şeffaf bir çerçevede alacaktır. Para Politikası Kurulu Toplantı Özeti beş iş günü içinde yayımlanacaktır. \n",
      "1 1 DUY2024-39.pdf\n",
      "[('Toplantıya Katılan Kurul Üyeleri Yaşar Fatih Karahan [Başkan], Osman Cevdet Akçay, Elif Haykır Hobikoğlu, Hatice Karahan, Fatma Özkul.', 'Toplantıya Katılan Kurul Üyeleri', ' Yaşar Fatih Karahan [Başkan], Osman Cevdet Akçay, Elif Haykır Hobikoğlu, Hatice Karahan, Fatma Özkul', '.', '')]\n",
      "[('Para Politikası Kurulu Kararı', 'Para Politikası Kurulu Kararı', '')]\n",
      "[]\n",
      "[('Sayı: 2024-39', 'Sayı', '2024-')]\n",
      "['23 Temmuz 2024']\n",
      "Yaşar Fatih Karahan ['Osman Cevdet Akçay', 'Elif Haykır Hobikoğlu', 'Hatice Karahan', 'Fatma Özkul']\n",
      "Para Politikası Kurulu (Kurul), politika faizi olan bir hafta vadeli repo ihale faiz oranının yüzde 50’de sabit tutulmasına karar vermiştir. Haziran ayında aylık enflasyonun ana eğilimi belirgin bir zayıflama kaydetmiştir. Öncü göstergeler temmuz ayında aylık enflasyonun, para politikasının görece etki alanı dışında kalan yönetilen-yönlendirilen fiyat ve vergi ayarlamaları ile işlenmemiş gıda fiyatlarındaki arz yönlü gelişmeler neticesinde geçici olarak artacağına işaret etmektedir. Buna karşın, ana eğilimdeki yükselişin nispeten sınırlı kalacağı öngörülmektedir. Yakın döneme ilişkin göstergeler yurt içi talebin, halen enflasyonist düzeyde olmakla birlikte, yavaşlamaya devam ettiğini teyit etmektedir. Hizmet enflasyonundaki yüksek seyir ve katılık, enflasyon beklentileri, jeopolitik riskler ve gıda fiyatları enflasyonist baskıları canlı tutmaktadır. Kurul, enflasyon beklentileri ve fiyatlama davranışlarının öngörüler ile uyumunu yakından takip etmektedir. Parasal sıkılaştırmanın krediler ve iç talep üzerindeki etkileri yakından izlenmektedir. Kurul, parasal sıkılaştırmanın gecikmeli etkilerini de göz önünde bulundurarak politika faizinin sabit tutulmasına karar vermekle birlikte, enflasyon üzerindeki yukarı yönlü risklere karşı ihtiyatlı duruşunu yinelemiştir. Aylık enflasyonun ana eğiliminde belirgin ve kalıcı bir düşüş sağlanana ve enflasyon beklentileri öngörülen tahmin aralığına yakınsayana kadar sıkı para politikası duruşu sürdürülecektir. Enflasyonda belirgin ve kalıcı bir bozulma öngörülmesi durumunda ise para politikası duruşu sıkılaştırılacaktır. Para politikasındaki kararlı duruş; yurt içi talepte dengelenme, Türk lirasında reel değerlenme ve enflasyon beklentilerinde düzelme vasıtası ile aylık enflasyonun ana eğilimini düşürecek ve dezenflasyon sürecini güçlendirecektir. Kredi büyümesi ve kompozisyonu göz önünde bulundurularak makro finansal istikrarı ve parasal aktarım mekanizmasını destekleyecek şekilde yabancı para kredilere yönelik ek önlemler alınmıştır. Kredi ve mevduat piyasalarında öngörülenin dışında gelişmeler olması durumunda parasal aktarım mekanizması ilave makroihtiyati adımlarla desteklenmeye devam edilecektir. Likidite koşulları muhtemel gelişmeler göz önünde bulundurularak yakından izlenmektedir. Sterilizasyon araçları, gerektiğinde çeşitlendirilerek etkin şekilde kullanılacaktır. Kurul, politika kararlarını parasal sıkılaştırmanın gecikmeli etkilerini de dikkate alarak, enflasyonun ana eğilimini geriletecek ve enflasyonu orta vadede yüzde 5 hedefine ulaştıracak parasal ve finansal koşulları sağlayacak şekilde belirleyecektir. Enflasyon ve enflasyonun ana eğilimine ilişkin göstergeler yakından takip edilecek ve Kurul, fiyat istikrarı temel amacı doğrultusunda elindeki tüm araçları kararlılıkla kullanacaktır. Kurul, kararlarını öngörülebilir, veri odaklı ve şeffaf bir çerçevede alacaktır. Para Politikası Kurulu Toplantı Özeti beş iş günü içinde yayımlanacaktır.\n"
     ]
    }
   ],
   "source": [
    "brief_data = []\n",
    "for path, dirs, files in os.walk(f\"{FOLDER_NAME}/{PATH_EXT_0}/{PATH_YEAR}\"):\n",
    "    for file in files:\n",
    "        if not file.endswith(\".pdf\"):\n",
    "            continue\n",
    "        print(\"\\n\\n\")\n",
    "        doc_text, no_of_pages = open_pdf(os.path.join(path, file))\n",
    "        processed_text = process_brief(doc_text, no_of_pages, file)\n",
    "        brief_data.append(processed_text)"
   ]
  },
  {
   "cell_type": "code",
   "execution_count": 122,
   "metadata": {},
   "outputs": [
    {
     "name": "stdout",
     "output_type": "stream",
     "text": [
      "\n",
      " DUY2024-41.pdf\n",
      "('2024-41', '23 Temmuz 2024', '30 Temmuz 2024')\n",
      "DUY2024-41.pdf got page numbers, matched\n",
      "[]\n",
      "['1. ', '2. ', '3. ', '4. ', '5. ', '6. ', '7. ', '8. ', '9. ', '10. ', '11. ', '12. ', '13. ', '14. ', '15. ', '16. ', '17. ', '18. ', '19. ', '20. ', '21. ', '22. ', '23. ', '24. ', '25. ', '26. ', '27. ', '28. ', '29. ', '30. ']\n",
      "['Küresel Ekonomi', 'Parasal ve Finansal Koşullar', 'Talep ve Üretim', 'Enflasyon Gelişmeleri ve Beklentiler', 'Para Politikası']\n",
      "\n",
      " DUY2024-36.pdf\n",
      "('2024-36', '27 Haziran 2024', '3 Temmuz 2024')\n",
      "DUY2024-36.pdf got page numbers, matched\n",
      "[]\n",
      "['1. ', '2. ', '3. ', '4. ', '5. ', '6. ', '7. ', '8. ', '9. ', '10. ', '11. ', '12. ', '13. ', '14. ', '15. ', '16. ', '17. ', '18. ', '19. ', '20. ', '21. ', '22. ', '23. ', '24. ', '25. ', '26. ', '27. ', '28. ', '29. ', '30. ', '31. ']\n",
      "['Küresel Ekonomi', 'Parasal ve Finansal Koşullar', 'Talep ve Üretim', 'Enflasyon Gelişmeleri', 'Para Politikası']\n",
      "\n",
      " DUY2024-25.pdf\n",
      "('2024-25', '25 Nisan 2024', '3 Mayıs 2024')\n",
      "DUY2024-25.pdf got page numbers, matched\n",
      "[]\n",
      "['1. ', '2. ', '3. ', '4. ', '5. ', '6. ', '7. ', '8. ', '9. ', '10. ', '11. ', '12. ', '13. ', '14. ', '15. ', '16. ', '17. ', '18. ', '19. ', '20. ', '21. ', '22. ', '23. ', '24. ', '25. ', '26. ', '27. ', '28. ', '29. ', '30. ']\n",
      "['Küresel Ekonomi', 'Parasal ve Finansal Koşullar', 'KKM için tesis edilmesi gereken zorunlu karşılık tutarına yenileme ve TL’ye geçiş oranı seviyesine göre uygulanan faiz oranı üst sınırı ise politika faiz oranının %', 'Talep ve Üretim', 'Enflasyon Gelişmeleri', 'Para Politikası']\n",
      "\n",
      " DUY2024-30.pdf\n",
      "('2024-30', '23 Mayıs 2024', '30 Mayıs 2024')\n",
      "DUY2024-30.pdf got page numbers, matched\n",
      "[]\n",
      "['1. ', '2. ', '3. ', '4. ', '5. ', '6. ', '7. ', '8. ', '9. ', '10. ', '11. ', '12. ', '13. ', '14. ', '15. ', '16. ', '17. ', '18. ', '19. ', '20. ', '21. ', '22. ', '23. ', '24. ', '25. ', '26. ', '27. ', '28. ', '29. ', '30. ']\n",
      "['Küresel Ekonomi', 'Parasal ve Finansal Koşullar', 'Talep ve Üretim', 'Enflasyon Gelişmeleri', 'Para Politikası']\n",
      "\n",
      " DUY2024-15.pdf\n",
      "('2024-15', '21 Mart 2024', '28 Mart 2024')\n",
      "DUY2024-15.pdf got page numbers, matched\n",
      "[]\n",
      "['1. ', '2. ', '3. ', '4. ', '5. ', '6. ', '7. ', '8. ', '9. ', '10. ', '11. ', '12. ', '13. ', '14. ', '15. ', '16. ', '17. ', '18. ', '19. ', '20. ', '21. ', '22. ', '23. ', '24. ', '25. ', '26. ', '27. ', '28. ', '29. ', '30. ', '31. ']\n",
      "['Küresel Ekonomi', 'Parasal ve Finansal Koşullar', 'Talep ve Üretim', 'Bu çerçevede, yılın son çeyreğinde fiyat indirim kampanyaları ile beklenen ücret güncellemeleri kaynaklı öne çekilen talep güdüsünün talepteki dengelenmeyi zayıflattığı değerlendirilmektedir', 'Enflasyon Gelişmeleri', 'Para Politikası']\n",
      "\n",
      " DUY2024-03.pdf\n",
      "('2024-03', '25 Ocak 2024', '1 Şubat 2024')\n",
      "DUY2024-03.pdf got page numbers, matched\n",
      "[('r.1 ', 'r', '.1'), ('r.2 ', 'r', '.2')]\n",
      "['1. ', '2. ', '3. ', '4. ', '5. ', '6. ', '7. ', '8. ', '9. ', '10. ', '11. ', '12. ', '13. ', '14. ', '15. ', '16. ', '17. ', '18. ', '19. ', '20. ', '21. ', '22. ', '23. ', '24. ', '25. ', '26. ', '27. ', '28. ', '29. ', '30. ', '31. ', '32. ', '33. ', '34. ', '35. ', '36. ', '37. ', '38. ', '39. ', '40. ', '41. ', '42. ', '43. ', '44. ', '45. ', '46. ']\n",
      "['Küresel Ekonomi', 'Enflasyon Gelişmeleri', 'Talep ve Üretim', 'Maliyet Koşulları', 'Hizmet Enflasyonunda Katılık', 'Enflasyon Beklentileri', 'Parasal ve Finansal Koşullar', 'Para Politikası']\n",
      "\n",
      " DUY2024-11.pdf\n",
      "('2024-11', '22 Şubat 2024', '29 Şubat 2024')\n",
      "DUY2024-11.pdf got page numbers, matched\n",
      "[]\n",
      "['1. ', '2. ', '3. ', '4. ', '5. ', '6. ', '7. ', '8. ', '9. ', '10. ', '11. ', '12. ', '13. ', '14. ', '15. ', '16. ', '17. ', '18. ', '19. ', '20. ', '21. ', '22. ', '23. ', '24. ', '25. ', '26. ', '27. ', '28. ', '29. ', '30. ', '31. ']\n",
      "['Küresel Ekonomi', 'Parasal ve Finansal Koşullar', 'Talep ve Üretim', 'Enflasyon Gelişmeleri', 'Para Politikası']\n"
     ]
    }
   ],
   "source": [
    "pdf_data = []\n",
    "for path, dirs, files in os.walk(f\"{FOLDER_NAME}/{PATH_EXT_1}/{PATH_YEAR}\"):\n",
    "    for file in files:\n",
    "        if not file.endswith(\".pdf\"):\n",
    "            continue\n",
    "        # if file in [\"DUY2006-08.pdf\", \"DUY2006-11.pdf\", \"DUY2006-20.pdf\", \"DUY2006-29.pdf\", \"DUY2006-34.pdf\"]:\n",
    "        #     continue\n",
    "        print(\"\\n\",file)\n",
    "        doc_text, no_of_pages = open_pdf(os.path.join(path, file))\n",
    "        processed_text = process_document(doc_text, no_of_pages, file)\n",
    "        related_decision = [data for data in brief_data if data[\"date\"].endswith(processed_text[\"date\"]) or processed_text[\"date\"].endswith(data[\"date\"])][0]\n",
    "        processed_text[\"decision\"] = related_decision[\"number\"]\n",
    "        processed_text[\"governor\"] = related_decision[\"governor\"]\n",
    "        processed_text[\"board\"] = related_decision[\"board\"]\n",
    "        processed_text[\"abstract\"] = related_decision[\"text\"]\n",
    "        output_path = path.replace(FOLDER_NAME, OUTPUT_FOLDER).replace(PATH_EXT_1, \"\")\n",
    "        if not os.path.isdir(output_path):\n",
    "            os.makedirs(output_path)\n",
    "        with open(os.path.join(output_path, file.replace(\"pdf\", \"json\")), \"w\", encoding=\"utf-8\") as f:\n",
    "            json.dump(processed_text, f, ensure_ascii=False, indent=4)\n",
    "        pdf_data.append(processed_text)"
   ]
  },
  {
   "cell_type": "code",
   "execution_count": 111,
   "metadata": {},
   "outputs": [],
   "source": [
    "_doc_text, _no_of_pages = open_pdf(os.path.join(\"ppk/özet/2023\", \"DUY2023-29.pdf\"))"
   ]
  },
  {
   "cell_type": "code",
   "execution_count": 43,
   "metadata": {},
   "outputs": [],
   "source": [
    "_doc_text, _no_of_pages = open_pdf(os.path.join(\"ppk/karar/2018\", \"DUY2018-01.pdf\"))"
   ]
  },
  {
   "cell_type": "code",
   "execution_count": 116,
   "metadata": {},
   "outputs": [
    {
     "data": {
      "text/plain": [
       "' 1   Para Politikası Kurulu Toplantı Özeti 27 Temmuz 2023, Sayı: 2023-29    Toplantı Tarihi: 20 Temmuz 2023 Küresel Ekonomi 1. Küresel enflasyon düşerken, halen uzun dönem ortalamalarının ve merkez bankalarının hedeflerinin üzerinde seyretmektedir. Gelişmiş ve gelişmekte olan ekonomilerin tüketici enflasyonları bir önceki PPK dönemine göre yüzde 5,59 ve yüzde 5,82 düzeylerinden sırasıyla yüzde 4,91 ve yüzde 5,41 seviyelerine gerilemiştir. Son 10 yıllık dönemde ise ortalama enflasyon gelişmiş ekonomilerde yüzde 2,2 ve gelişmekte olan ekonomilerde yüzde 5,6 seviyesinde gerçekleşmiştir. Enflasyon, gelişmiş ülkelerde yüzde 2; gelişmekte olan ülkelerde ise ortalama yüzde 3,5 olan hedef oranların belirgin olarak üzerinde seyretmeye devam etmektedir. 2023 yılı son çeyrek ortalama yıllık enflasyonun gelişmiş ekonomilerde 3,1, gelişmekte olan ülkelerde ise yüzde 5,9 seviyesinde gerçekleşmesi beklenmektedir. Emtia fiyatlarında geçen yıl ortasından itibaren başlayan gerileme eğilimi sürmekle birlikte, Emtia Fiyat Endeksinin mevcut seviyesi son on yılın ortalamasının yüzde 26,2 üzerindedir. Endeks geçen yıl ulaştığı en yüksek seviyeye göre yüzde 28,7 gerilemiştir. Benzer şekilde geçen yıl ulaştığı tepe noktasına göre yüzde 11,2 gerileme kaydeden Tarımsal Emtia Fiyat Endeksi son on yılın ortalamasının yüzde 16,2 üzerindedir. Bu durum, gıdanın tüketici sepeti içerisindeki yüksek payı nedeniyle enflasyon üzerinde halen etkili olmaktadır. Bir önceki PPK dönemine göre çekirdek enflasyon gelişmiş ülkelerde yüzde 5,12’den yüzde 5,02’ye, gelişmekte olan ülkelerde ise yüzde 6,20’den yüzde 6,03’e sınırlı gerilemiştir. ABD ve Euro Bölgesinde 2023 yılı son çeyrek ortalama yıllık enflasyon beklentisi sırasıyla yüzde 3,2 ve yüzde 3,0 iken; çekirdek enflasyon beklentisi sırasıyla yüzde 3,7 ve yüzde 4,0 seviyesindedir. 2. Çekirdek enflasyonun ve enflasyon beklentilerinin yüksek seviyeleri küresel enflasyonun bir süre daha merkez bankalarının hedeflerinin üzerinde seyretmeye devam edeceğini ima etmektedir. Bu nedenle, dünyanın birçok ülkesinde merkez bankaları parasal sıkılaştırma sürecine devam etmektedir. Takip edilen 12 gelişmiş ülke merkez bankası son 17 ayda toplamda 130 toplantı yapmış, bu toplantıların 93 tanesinde politika faizleri artırılmıştır. Aynı dönemde takip edilen 15 gelişmekte olan ülke merkez bankası toplamda 190 toplantı yapmış, bu toplantıların 97 tanesinde politika faizleri artırılmıştır.1 Uygulanan para politikasının sonuçları finansal koşullara da yansımaya başlamış ve merkez bankalarının finansman ve kredi koşullarındaki sıkılaşmaya yönelik vurguları güçlenmiştir. 3. Küresel büyüme görünümündeki yatay seyre rağmen, görece güçlü talep ve işgücü piyasalarındaki sıkılık devam etmektedir. Türkiye’nin dış ticaret ortaklarının ihracat paylarıyla ağırlıklandırılan küresel büyüme endeksi bir önceki PPK toplantısı dönemine kıyasla oldukça sınırlı artış kaydetmiştir. Endeksin 2023 yılı için tahmin edilen büyüme oranı ocak ayındaki dip seviyenin yaklaşık 0,4 puan üzerinde yüzde 1,7 düzeyindedir. Bununla birlikte, söz konusu endeksin 2022 yılında yüzde 3,5 olan büyüme oranı ile kıyaslandığında Türkiye’nin dış talep görünümünde yıllık bazda kayda değer bir yavaşlama gözlenmektedir. Küresel PMI endeksleri                                                         1 Gelişmiş Ülkeler: Amerika Birleşik Devletleri, Avustralya, Çekya, Danimarka, Euro Bölgesi, Güney Kore, İngiltere, İsveç, Japonya, Kanada, Norveç, Yeni Zelanda. Gelişmekte Olan Ülkeler: Brezilya, Çin, Endonezya, Filipinler, Güney Afrika, Hindistan, Kolombiya, Macaristan, Meksika, Peru, Polonya, Romanya, Rusya, Şili, Tayland.  2  hizmet sektöründe faaliyetin gücünü koruduğuna, imalat sanayinde ise geçtiğimiz yılın son çeyreğinden beri süregelen eşik değerin altındaki yatay seyrin devam ettiğine işaret etmektedir. Yılın ikinci çeyreğinde küresel hizmetler PMI endeksi ilk çeyreğe göre 2,6 puan artarak 54,9 düzeyine erişmiş, imalat sanayi PMI endeksi 0,2 puan azalarak 49,3 olmuştur. Bileşik PMI göstergelerine bakıldığında, haziran ayında endeksin küresel düzeyde mayıs ayındaki seviyeye kıyasla 1,7 puan gerileyerek 52,7 olduğu, gelişmiş ülkelerde 1,5 puan azalarak 52,2 seviyesinde seyrettiği, gelişmekte olan ülkelerde ise 2 puan azalışla 53,6 düzeyine gerilediği gözlenmiştir. Çin’de bileşik PMI göstergesi haziran ayında mayıs ayına göre 3,1 puan azalarak 52,5 düzeyinde gerçekleşirken gerek imalat gerek hizmetler sektöründe 50 eşik değerinin üzerinde bulunmaktadır. Gelişmiş ülke ekonomilerinde finansal koşulların etkisiyle iktisadi faaliyetin yavaşlayacağına yönelik beklentiler sürmektedir. Türkiye’nin önemli ticaret ortaklarından Euro Bölgesinin imalat PMI göstergesi haziran ayında 43,4 ile pandemiden bu yana en düşük düzeyine gerilemiştir.  4. Gelişmekte olan ülkelere yönelen portföy akımları haziran ayında, iyileşen risk algısına bağlı olarak devam etmiştir. Yılbaşından mayıs sonuna kadar hisse senedi piyasalarına yaklaşık 46,4 milyar dolar fon girişi olurken, borç senetleri piyasalarından yaklaşık 4,3 milyar dolar fon çıkışı olmuştur. Haziran ayı başından 7 Temmuz tarihine kadar 4,9 milyar doları hisse senedi piyasalarına olmak üzere toplam 7,6 milyar dolar fon girişi olmuştur. Enflasyon Gelişmeleri 5. Ülkemizde yıllık enflasyon 2022 yılının ekim ayında ulaştığı zirveye kıyasla 47,3 puan gerilemekle birlikte yüksek seviyesini korumaktadır. Tüketici fiyatları haziran ayında yüzde 3,92 oranında artarken yıllık enflasyon yüzde 1,38 puan düşerek yüzde 38,21 seviyesine gerilemiştir. Yakın döneme ilişkin göstergeler enflasyonun ana eğiliminde yükselişin sürdüğüne işaret etmektedir. Bu gelişmede yurt içi talepteki güçlü seyir, ücret ve kur kaynaklı maliyet yönlü baskılar ile hizmet enflasyonundaki katılık ve vergi düzenlemeleri belirleyici olmaktadır.  6. Alt grupların yıllık enflasyona katkıları temel mal grubunda 10,17 puandan 10,49’a (0,32 puan artış); alkol, tütün ve altın grupları toplamında 1,50 puandan 1,81’e (0,31 puan artış) yükselirken, gıda ve alkolsüz içecekler grubunda 13,64 puandan 13,56’ya (0,08 puan azalış), hizmet grubunda 15,17 puandan 15,00’a (0,17 puan düşüş), enerji grubunda ise -0,88 puandan -2,64’e (1,76 puan azalış) gerilemiştir. 7. Gıda ve alkolsüz içecekler grubu fiyatları haziran ayında yüzde 3,02 oranında artmış, yıllık enflasyon 1,40 puan artarak yüzde 53,92 olmuştur. Gıda fiyatlarının mevsimsellikten arındırılmış aylık artış oranı bir önceki aya kıyasla yükselmiş, bu gelişmede başta sebze olmak üzere taze meyve ve sebze fiyatları etkili olmuştur. Diğer işlenmemiş gıda grubunda kırmızı et fiyatlarındaki yükseliş bir önceki aya kıyasla hızlanmıştır. İşlenmiş gıda fiyatları aylık bazda yüzde 1,85 oranında yükselmiş, bu gelişmede yaş çay alım fiyatlarına bağlı olarak artış kaydeden çay fiyatları öne çıkmıştır. Ekmek ve tahıllar aylık enflasyonu bu dönemde bir miktar artış göstererek yüzde 1,41 oranında gerçekleşmiştir. 8. Enerji fiyatları haziran ayında yüzde 4,23 oranında artmış, grup yıllık enflasyonu baz etkisiyle 9,55 puan azalarak yüzde -16,52 olmuştur. Enerji fiyatlarının aylık artışında uluslararası ham petrol fiyatlarındaki görece yatay seyre karşın Türk lirasındaki görünüme paralel olarak artan akaryakıt fiyatları (yüzde 11,32) öne çıkmıştır. 9. Hizmet fiyatları haziran ayında yüzde 3,66 oranında artarken, grup yıllık enflasyonu 0,50 puan düşüşle yüzde 59,45 olarak gerçekleşmiştir. Fiyat artışları alt gruplar geneline yayılırken, kira alt grubu yüzde 5,80 ve lokanta-otel alt grubu yüzde 4,32 oranında artış ile öne çıkmaya devam etmiştir. Haberleşme fiyatlarındaki artışlar internet ücretleri öncülüğünde sürerken,  3  diğer hizmetler alt grubunda kişisel ulaştırma araçlarının bakım ve onarımı ile eğlence ve spor hizmetlerindeki artışlar dikkat çekmiştir. Ulaştırma hizmetleri görünümünde ise havayolu ile yolcu taşımacılığı kalemi fiyatlarında devam eden yükseliş belirleyici olmuştur. 10. Temel mal fiyatları haziran ayında yüzde 4,03 oranında yükselmiş, grup yıllık enflasyonu 1,62 puan artışla yüzde 36,69 olmuştur. Haziran ayında yıllık enflasyon dayanıklı mal (altın hariç) ile giyim ve ayakkabı alt gruplarında yükselirken, diğer temel mallarda gerilemiştir. Dayanıklı mal (altın hariç) alt grubunda aylık artış yüzde 6,64 ile önceki aya kıyasla güçlenmiş, bu gelişmede haziran ayında da temel belirleyici otomobil kalemi olmuştur. Otomobil fiyatları kur gelişmelerine ek olarak canlı seyreden iç satışlara bağlı olarak yüzde 10,28 oranında yükselmiştir. Böylelikle, otomobil fiyat artışı 2023 yılının ilk altı ayında yüzde 34,01 olmuştur. Haziran ayında beyaz eşya fiyatları ise yüzde 3,78 oranında artış kaydetmiştir. 11. Alkollü içecekler ve tütün ürünleri grubunda fiyatlar yüzde 11,13 oranında yükselmiş, bu grupta yıllık enflasyon 10,80 puan artışla yüzde 40,90 olarak gerçekleşmiştir. Bu gelişmede, tütün ürünlerinde üretici firma kaynaklı fiyat artışları (yüzde 12,29) belirleyici olmuştur. Alkollü içecek ve tütün grubundaki fiyat artışı, ay başındaki Yİ-ÜFE’ye göre otomatik olarak güncellenen maktu ÖTV artışı ile KDV düzenlemesinin etkilerine bağlı olarak, temmuz ayında da sürecektir. 12. Enflasyonun ana eğilimi 2022 yılı sonrası dönemde yavaşlasa da yüksek seyrini sürdürmektedir. Mevsimsellikten arındırılmış verilerle aylık artışlar B ve C göstergelerinde bir önceki aya kıyasla yükselirken, bu görünüm alternatif çekirdek enflasyon göstergeleri tarafından da teyit edilmektedir. Mevsimsellikten arındırılmış B ve C endekslerinin üç aylık ortalama artışları 2022 yılının şubat ayında sırasıyla yüzde 8,8 ve yüzde 8,4 ile en yüksek noktasına çıkarken, 2023 yılı haziran ayı itibarıyla yüzde 2,8 ve yüzde 3,3 seviyelerine gerilemiştir. Haziran ayında B ve C endeksinin mevsimsellikten arındırılmış aylık artış oranları ise sırasıyla yüzde 3,1 ve yüzde 3,7 olarak gerçekleşmiştir (önceki ay yüzde 2,9 ve yüzde 3,6). Medyan enflasyon ve SATRIM gibi alternatif çekirdek göstergelerde de önceki aya göre artışlar gözlenmiştir. 13. Temmuz ayına ilişkin öncü göstergeler talep, ücret, döviz kuru, vergiler ve bozulan fiyatlama davranışları kanallarıyla oldukça yüksek bir aylık fiyat artışı olacağına işaret etmektedir. Buna bağlı olarak, yıllık enflasyonun da önemli ölçüde yükseleceği tahmin edilmektedir. Talep ve Üretim 14. Yılın ikinci çeyreğine ilişkin veriler, iktisadi faaliyetin özellikle iç talep kaynaklı güçlü seyrini sürdürdüğünü teyit etmektedir. Mayıs ayında perakende satış hacim endeksi yıllık bazda yüzde 33,1 oranında yükselerek artış eğilimini sürdürmüştür. Mayıs ayı itibarıyla çeyreklik bazda artış ise yüzde 4,6 oranında gerçekleşmiştir. Kartla yapılan harcamalardaki artış eğilimi ikinci çeyrekte devam etmiş, mevsimsellikten arındırılmış olarak kart harcamaları ilk çeyreğe kıyasla yüzde 24,3 oranında güçlü bir artış gerçekleştirmiştir. İmalat sanayi firmalarının ikinci çeyrekteki kayıtlı siparişlerine bakıldığında iç piyasa siparişlerinin yıllık bazda 2,6 puan ile kuvvetli artış kaydettiği görülmektedir. Öncü göstergeler ve firma görüşmeleri iç piyasa siparişlerindeki canlı seyrin temmuz ayında da devam ettiğine işaret etmektedir.  15. Güncel veriler deprem bölgesinde ekonomik faaliyetin beklenenden hızlı toparlanmasını sürdürmesiyle afet kaynaklı daralmanın büyük ölçüde telafi edildiğini göstermektedir. Mayıs ayı itibarıyla mevsimsellikten arındırılmış istihdam 31,7 milyon seviyesinde gerçekleşerek afet öncesinde ocak ayındaki seviyesinin 26 bin kişi üzerine çıkmıştır. Bu dönemde mevsimsellikten arındırılmış istihdam çeyreklik bazda yüzde 0,9 oranında, işgücüne katılım oranı 0,3 puan artış kaydetmiştir. İşsizlik oranı ise mayıs ayında bir önceki aydaki yüzde 10  4  seviyesine göre 0,5 puan azalarak 2014 yılının mart ayından bu yana en düşük düzeye gerilemiştir. 16. Mayıs ayında yıllıklandırılmış cari işlemler açığı enerji fiyatlarına bağlı olarak gerileyen enerji ithalatındaki düşüşe rağmen 2022 yılının mayıs ayındaki 22,6 milyar dolar seviyesine kıyasla 37,3 milyar dolar artarak 60 milyar dolara yükselmiştir. Bu artış hizmetler dengesindeki güçlü seyre rağmen dış ticaret açığındaki yükselişin etkisiyle gerçekleşmiştir. Mayıs ayı itibarıyla yıllıklandırılmış olarak ödemeler dengesi tanımlı dış ticaret açığı önceki yılın aynı dönemindeki seviyesine göre 49,9 milyar dolar artarak 101,9 milyar dolara yükselmiştir. Aynı dönemde yıllıklandırılmış hizmetler fazlası 12,1 milyar dolar artarak 51,5 milyar dolara çıkmıştır. Parasal koşulların ve beklentilerin etkisiyle altın ithalatı cari açıktaki artışta önemli rol oynamaktadır. Yılın ilk beş ayında toplam altın ithalatı bir önceki yılın aynı dönemindeki seviyesine kıyasla 10,7 milyar dolar artışla 14,6 milyar dolar seviyesinde gerçekleşmiştir. Haziran ayı geçici dış ticaret verileri altın ithalatının mayıs ayı seviyesinin altında olmakla beraber yüksek seyrettiğine işaret etmektedir. Yurt içi talepteki güçlü seyir tüketim malları ithalatı kanalıyla cari işlemler açığını artırıcı etkide bulunmaktadır. Haziran ayına ilişkin geçici dış ticaret verileri ve temmuz ayı için yüksek frekanslı veriler, bayram kaynaklı işgünü etkileri dışlandığında mevsimsellikten arındırılmış olarak ihracattaki nispeten yatay seyre karşın ithalatın yüksek seviyelerini koruduğuna işaret etmektedir. 17. Turizm gelirlerinin beklentilerin üzerinde ve yıl geneline yayılmış seyri ile yılın ikinci yarısında cari dengeye güçlü bir katkı sunacağı tahmin edilmektedir. Seyahat gelirleri yılın ilk beş ayında bir önceki yılın ilk beş ay toplamına göre 2,5 milyar dolar artarak 14,1 milyar dolar seviyesine ulaşmıştır. Yabancı ziyaretçi sayıları da benzer şekilde yılın ilk beş ayında bir önceki yılın aynı dönemine göre yüzde 26,1 oranında artarak 13,6 milyon kişi seviyesinde gerçekleşmiştir. Turizm gelirlerinin artan katkısıyla cari işlemler hesabının yılın ikinci yarısında daha dengeli bir seyir izleyeceği tahmin edilmektedir. Turizm gelirlerindeki güçlü seyir ile enerji ithalatındaki normalleşmenin döviz piyasasında arz kaynaklı olarak sağlıklı fiyat oluşumu ve istikrara katkı sağlayacağı öngörülmektedir. Diğer taraftan, artan turizm faaliyeti kısa vadede talebi artırarak tüketici enflasyonu üzerinde risk oluşturmaktadır. 18. Mayıs ayında sanayi üretim endeksi, mevsim ve takvim etkilerinden arındırılmış olarak aylık bazda yüzde 1,1 oranında artmıştır. Aylık bazda artışlar sektörler geneline yayılırken ihracat payı yüksek olan sektörler ve tipik olarak yüksek oynaklık gösteren sektörlerde daha kuvvetli gerçekleşmiştir. Çeyreklik bazda ise sanayi üretimi yüzde 1,4 oranında yükselerek deprem sonrası toparlanma eğiliminin devamına işaret etmiştir. Benzer şekilde imalat sanayi kapasite kullanım oranı, yılın ikinci çeyreğinde ilk çeyreğe kıyasla 0,9 puan artarak yüzde 76,2 seviyesinde gerçekleşmiş ve kapasite kullanımında deprem kaynaklı kayıp telafi edilmiştir.  Maliyet Koşulları 19. 2022 yılının ikinci yarısından itibaren gerileyen küresel emtia fiyatları girdi fiyatı kanalıyla tüketici enflasyonundaki düşüşü desteklemiştir. Diğer taraftan, döviz kurları ve işgücü maliyetindeki artışlar nedeniyle üretici fiyatları üzerindeki baskı artmaktadır. 20. Yurt içi üretici fiyatları aylık artışı yüzde 6,50 ile son aylara kıyasla önemli ölçüde kuvvetlenmiş, yıllık üretici enflasyonu baz etkisiyle 0,34 puan azalarak yüzde 40,42 olarak gerçekleşmiştir. Haziran ayında uluslararası emtia fiyatları düşük bir oranda gerilerken (yüzde -0,76), döviz kuru gelişmeleri üretici fiyatlarındaki artışın temel sürükleyicisi olmuştur. Alt gruplar bazında artışlar genele yayılırken, en belirgin artış enerji imalatında (yüzde 12,67) olmuştur. Böylelikle uzun bir süredir enflasyon görünümünü destekleyen enerji maliyetlerindeki görünüm bu ayla birlikte tersine dönmüştür. Bu dönemde, sermaye (yüzde 8,02) ve ara malları (yüzde 6,59) yüksek aylık fiyat artışları ile dikkat çeken diğer alt gruplar olmuştur.  5  21. Temmuz ayında küresel arz zincirindeki baskılara dair göstergeler ve uluslararası taşımacılık maliyetleri düşük seyretmektedir. Küresel Arz Zinciri Baskı Endeksi haziran ayında da tarihsel ortalamasının yaklaşık bir standart sapma altında değer almıştır. Küresel emtia fiyatları temmuz ayında belirgin bir değişim sergilememektedir. Özetle, mevcut küresel arz koşulları enflasyon açısından olumlu görünümünü sürdürmektedir. 22. 2023 yılı temmuz ayında asgari ücrette yapılan güncellemeye memur ve kamu işçi ücretlerindeki düzenlemelerin eşlik etmesi ve ücretlerdeki artışın genele yayılması sonucu yılın ikinci yarısında enflasyon üzerinde başta maliyet kanallı etkiler olmak üzere yukarı yönlü baskıların artacağı öngörülmektedir. 23. Türk lirasındaki değer kayıplarının, ücretlerde genele yayılan artışın ve vergi düzenlemelerinin yakın dönemde enflasyon üzerinde maliyet yönlü ilave baskı oluşturacağı öngörülmektedir. Söz konusu etmenlerden tüketici fiyatlarına geçişkenliğin özellikle talep koşullarının güçlü olduğu dönemlerde hızlı gerçekleştiği görülmektedir. Nitekim öncü göstergeler, maliyet gelişmelerinin etkisiyle temmuz ayında genele yayılan yüksek fiyat artışlarının gerçekleştiğine işaret etmektedir. Hizmet Enflasyonunda Katılık 24. Hizmet sektöründe fiyat artışları yüksek seviyelerini sürdürmekte, grup enflasyonu mallara kıyasla atalet göstermektedir. Yurt içi talep etkisinin daha belirgin olduğu hizmet sektöründe aylık artışlar 2022’ye kıyasla halen yüksek seyretmektedir. Mevsimsellikten arındırılmış tüketici fiyat artışlarının son üç aylık ortalaması B göstergesinde yüzde 2,8 iken, hizmetlerde yüzde 3,5’tir. Buna ek olarak hizmet sektörüne ait yayılım endeksi tarihsel ortalamasının üzerinde seyrederek artışların sektör geneline yayıldığını göstermektedir. 25. Gıda, ücret ve turizm kaynaklı gelişmelerden önemli ölçüde etkilenen lokanta ve otel alt grubunda aylık artışlar süreklilik gösteren bir görünüm arz etmektedir. Asgari ücret gelişmelerine duyarlılığı yüksek olan sektörün izleyen aylarda yüksek artış eğilimini koruması beklenmektedir. 26. Kira, eğitim, sağlık, eğlence-kültür başta olmak üzere belirli hizmet kalemleri geçmiş tüketici enflasyonuna dönük fiyatlama davranışı sergileyerek, enflasyonist etkilerin uzun bir zamana yayılmasına neden olmaktadır. Tüketici enflasyonunda yakın dönemde beklenen görünümle birlikte, geçmiş enflasyona endeksleme eğilimi belirgin olan gruplarda enflasyonun bir süre daha yüksek seyretme riski bulunmaktadır. 27. Akaryakıt fiyatları başta ulaştırma hizmetleri olmak üzere tüketici fiyatları üzerinde gerek üretim girdisi gerekse taşımacılık maliyetleri kanalıyla önemli bir etki oluşturma potansiyeline sahiptir. Akaryakıt fiyatlarında yakın dönemde döviz kuru, ham petrol fiyatları ve vergi artışı kaynaklı olarak kaydedilen belirgin artışın, ulaştırma hizmetleri fiyatlarına önümüzdeki dönemde önemli bir etkisi olabileceği değerlendirilmektedir. Vergi Düzenlemeleri 28. Kurul, vergi düzenlemelerinin kısa vadede enflasyon üzerinde ilave olumsuz etki yapacağını öngörmektedir. Bununla birlikte, vergi artışlarının etkisinin geçici olacağı, talep ve mali disiplin üzerindeki olumlu etkilerle bir miktar dengeleneceği değerlendirilmiştir. 29. Temmuz ayı ile birlikte KDV oranları 2 puan yükseltilmiştir. Genel artışın yanı sıra bazı temizlik ürünlerinde yüzde 8 olarak uygulanan KDV oranı yüzde 20 olarak uygulanmaya başlanmıştır. Tütün ürünlerinde KDV artışının mali çarpanı yukarıya çekmesiyle yüksek oranlı fiyat artışları gerçekleşmiştir.  6  30. Akaryakıtta maktu ÖTV tutarları artırılmıştır. Benzin ve motorinde 5 TL, LPG’de ise 4 TL olan maktu ÖTV artışı gerek doğrudan gerekse dolaylı olarak tüketici enflasyonunu olumsuz yönde etkileyecektir. Enflasyon Beklentileri 31. Enflasyon beklentilerindeki mevcut seyir ve fiyatlama davranışlarındaki bozulma, enflasyon görünümüne dair yukarı yönlü riskleri canlı tutmaktadır. Manşet enflasyon yayılım endeksi haziran ayında tarihsel ortalamasının yaklaşık iki standart sapma üzerinde değer almıştır. 32. Temmuz ayı Piyasa Katılımcıları Anketi sonuçlarına göre on iki ay sonrasına ilişkin enflasyon beklentisi yüzde 30,65’ten 2,56 puan artışla yüzde 33,21; gelecek yirmi dört ay sonrasına ilişkin enflasyon beklentisi yüzde 18,12’den 0,92 puan yükselişle yüzde 19,04; beş yıl sonrasına ilişkin enflasyon beklentisi ise yüzde 8,07’den 0,79 puan yukarı güncellenerek 8,86 olmuştur. 33. Tüketici enflasyonunun 2023 yılında bir miktar yükseldikten sonra faiz artışlarının ve miktarsal sıkılaştırmanın birikimli etkilerinin devreye girmesiyle gerileyerek önce tarihsel ortalamalara, sonra da orta vadeli hedefe kademeli olarak yakınsayacağı öngörülmektedir.   Parasal ve Finansal Koşullar 34. Kredi büyümesi iç talebi artırarak enflasyon üzerinde risk oluşturmaktadır. 14 Temmuz 2023 itibarıyla, 2022 yılı sonuna kıyasla bireysel kredi bakiyesi kredi kartlarında yüzde 81,1, taşıt kredilerinde yüzde 68,7, ihtiyaç kredilerinde yüzde 30,6 konut kredilerinde yüzde 22,1 olmak üzere toplamda yüzde 44,6 oranında artmıştır. Diğer taraftan, son PPK döneminden bu yana ihtiyaç kredi büyümesi yavaşlama eğilimini sürdürmüştür. İhtiyaç kredilerinde 16 Haziran’dan bu yana artış oranı yüzde 2,9 olmuştur. Bu gelişmede kredi büyümesine dayalı menkul kıymet tesisi uygulamasının kapsamının genişletilmesi etkili olmuştur. Diğer taraftan, kredi kartlarında büyüme güçlü seyretmeye devam etmektedir. Yıllık artış oranı yüzde 175,4’ten yüzde 186,6’ya çıkmıştır. TL ticari kredilerde yıllık büyüme oranları yüzde 73,8’den yüzde 69,1’e gerilerken, nispeten yatay bir seyir izlemiştir. 35. Önceki PPK döneminde düzenleme öncesi döneme göre 749 baz puan artarak yüzde 41,7 seviyesine yükselen ortalama ihtiyaç kredisi (KMH hariç) faizleri son PPK döneminde 644 baz puan artarak yüzde 48,1 seviyesine yükselmiştir. Aynı dönemde konut kredisi faizleri ile taşıt kredisi faizleri yüzde 21,8 ve yüzde 34 seviyelerinden sırasıyla yüzde 32,6 ve yüzde 41,3 seviyelerine yükselmiştir. Türk lirası ticari kredi faizleri ise politika faizindeki artış ile birlikte 1.054 baz puan artarak yüzde 25,2 olarak gerçekleşmiştir.  36. 23 Haziran haftasında yüzde 32,9 seviyesine yükselen TL mevduat faizleri politika faizindeki 650 baz puanlık artışa karşın gerileyerek 14 Temmuz haftasında yüzde 27,8 olarak gerçekleşmiştir. Politika faizi ve TL mevduat faizleri arasındaki fark belirgin şekilde azalmıştır. Bu gelişmede en önemli rolü mikro- ve makroihtiyati çerçevede sadeleşme sürecinin ilk adımı olan menkul kıymet tesisi uygulamasına ilişkin düzenleme oynamıştır.  37. Doğrudan yabancı yatırımlar, dış finansman koşullarındaki belirgin iyileşme, rezervlerde süregelen artış ve turizm gelirlerinin desteğiyle cari işlemler hesabındaki dengelenme fiyat istikrarına güçlü katkıda bulunacaktır. 38. Son dönemde yapılan anlaşmalar ile teknoloji yatırımlarını ve üretim kapasitesini geliştirecek alanlara yoğunlaşacak doğrudan yabancı yatırımlar önümüzdeki dönemde dış finansmanı destekleyecektir.   7  39. Yurt içi belirsizliklerin etkisiyle 22 Mayıs 2023 tarihinde 703 baz puan seviyesiyle bu yılın zirve noktasına ulaşan Türkiye’nin 5 yıllık CDS primi, önceki PPK döneminde 493 baz puan, 19 Temmuz 2023’te ise 457 baz puan seviyesine gerilemiştir. Benzer şekilde, Türk lirasının 1 ay ve 12 ay vadeli kur oynaklıkları önceki PPK dönemlerindeki 25,2 ve 33,8 puan seviyelerinden sırasıyla 23,6 ve 30,3 puana gerilemiştir. Risk primi ve kur oynaklıklarındaki düşüşlere haziran ayından itibaren 0,09 milyar ABD doları DİBS piyasasına ve 1,33 milyar doları hisse senedi piyasasına olmak üzere toplam 1,42 milyar ABD dolar net portföy girişi eşlik etmiştir. 40. TCMB uluslararası rezervleri haziran ayından itibaren güçlü bir artış eğilimine girmiştir. 2022 yılı sonu itibarıyla 128,8 milyar dolar seviyesinden mayıs sonunda 98,5 milyar dolar seviyesine gerileyen TCMB brüt uluslararası rezervleri 14 Temmuz itibarıyla 113,1 milyar dolar seviyesine yükselmiştir. Para Politikası 41. Politika faizi, enflasyonun ana eğilimini geriletecek ve enflasyonu orta vadede yüzde 5 hedefine ulaştıracak parasal ve finansal koşulları sağlayacak şekilde belirlenecektir. Kurul, para politikası çerçevesinin enflasyon görünümü ve yukarı yönlü riskler göz önüne alındığında yüzde 5 enflasyon hedefini gerçekleştirme kapasitesinin güçlendirilmesi gerektiği değerlendirmesinde bulunmuştur. Fiyat istikrarındaki bozulmanın makroekonomik istikrar ve özellikle finansal istikrar üzerinde oluşturabileceği risklere dikkat çekilmiştir. Bu doğrultuda Kurul, adımları gerektiği zamanda ve gerektiği ölçüde kademeli olarak güçlendirilen parasal sıkılaştırma sürecinin devamına karar vermiştir. Parasal sıkılaştırma sürecinin enflasyon görünümünde belirgin iyileşme sağlanana kadar devam etmesi öngörülmüştür. 42. Kurul, dezenflasyonun en kısa sürede tesisi, enflasyon beklentilerinin çıpalanması, fiyatlama davranışlarındaki bozulmanın kontrol altına alınması için başlatılan parasal sıkılaştırma sürecinin devamına karar vermiştir. Bu çerçevede, politika faizi olan bir hafta vadeli repo ihale faiz oranı yüzde 15’ten yüzde 17,5 düzeyine yükseltilmiştir.  43. Enflasyon görünümü parasal sıkılaştırma istikametindeki adımların sürekliliğini gerekli kılmaktadır. Kurul, parasal sıkılaştırma sürecinin makroekonomik ve finansal koşullar üzerindeki etkilerine dair analizleri incelemiştir. Faiz artırım senaryolarının enflasyon, kredi büyümesi, kredi ve piyasa faizleri, ekonomik aktivite, beklentiler gibi temel makroekonomik değişkenler üzerindeki etkileri bütünsel bir perspektifle değerlendirilmiştir.  44. Buna ek olarak Kurul, mevcut mikro- ve makroihtiyati çerçevenin makro finansal istikrarı destekleme ve piyasa mekanizmalarının işlevselliğini artırması konularında geliştirilmesi gerektiği tespitlerini tekrarlamıştır. Bu doğrultuda, söz konusu çerçevede sadeleşme politikasının devamına karar verilmiştir. Mevcut mikro- ve makroihtiyati çerçeve, piyasa mekanizmalarının işlevselliğini artıracak ve makro finansal istikrarı güçlendirecek şekilde sadeleştirilecektir. Sadeleşme süreci kademeli olmaya devam edecektir. Sadeleşme sürecinde atılan adımların hızı ve sıralaması etki analizleri ile belirlenmektedir. TCMB tarafından yapılan düzenlemelere ilişkin etki analizleri söz konusu çerçevenin tüm bileşenleri için enflasyon, faizler, döviz kurları, rezervler, beklentiler, menkul kıymetler ve finansal istikrar üzerindeki yansımalarıyla birlikte bütüncül bir bakış açısıyla değerlendirilerek yapılmaktadır.  45. Bu kapsamda Kurul, faiz artırımının yanı sıra, parasal sıkılaştırma sürecini destekleyecek seçici kredi ve miktarsal sıkılaştırma kararları almıştır. Bu kararlarla, temel politika aracı olan politika faizleri parasal, finansal koşullar ve beklentileri etkilerken, Türk lirası likidite ve tüketim talebindeki aşırılıkların dengelenmesi ve para politikasının etkinliğinin artırılması hedeflenmektedir. 46. Bireysel krediler, kredi kartları ve taşıt kredileri kategorilerinde 2023 başından beri aylık ortalama yüzde 9,8 ve yüzde 9,1 oranında artmaktadır. Bireysel kredilerdeki bu ivmelenmeyle  8  birlikte iç talebin hem doğrudan hem de cari denge üzerinden fiyat istikrarını bozduğu değerlendirilmiştir. Seçici kredi sıkılaştırması kararları sonucunda yurt içi talepte dengelenme sürecinin destekleneceği öngörülmektedir. 47. Döviz kuru gelişmelerinin etkisiyle kur korumalı mevduat hesaplarının kur farkı ödemeleri nedeniyle finansal sisteme girişi gerçekleşen Türk lirası likidite yakından izlenmektedir. Mevcut piyasa koşulları ve önümüzdeki döneme ilişkin likidite projeksiyonları dikkate alınarak yapılan etki analizleri çerçevesinde gerekli adımlar atılmaktadır. Piyasada oluşan likidite fazlasının miktarsal sıkılaştırma kararı çerçevesinde kur korumalı mevduat hesaplarına yönelik Türk lirası zorunlu karşılık oranlarının artırılması yoluyla sterilizasyonu planlanmıştır.  48. Enflasyon ve enflasyonun ana eğilimine ilişkin göstergeler yakından takip edilecek ve Kurul, fiyat istikrarı temel amacı doğrultusunda elindeki tüm araçları kararlılıkla kullanmaya devam edecektir. 49. Kurul, kararlarını öngörülebilir, veri odaklı ve şeffaf bir çerçevede almaya devam edecektir. '"
      ]
     },
     "execution_count": 116,
     "metadata": {},
     "output_type": "execute_result"
    }
   ],
   "source": [
    "_doc_text"
   ]
  },
  {
   "cell_type": "code",
   "execution_count": 119,
   "metadata": {},
   "outputs": [
    {
     "name": "stdout",
     "output_type": "stream",
     "text": [
      "None got page numbers, not matched\n",
      "['  2', '  2']\n",
      "['  3', '  3', '  3', '  3', '  3']\n",
      "['  4', '  4', '  4', '  4', '  4', '  4']\n",
      "['  5']\n",
      "['  6', '  6']\n",
      "['  7']\n",
      "['  8']\n",
      "   Para Politikası Kurulu Toplantı Özeti 27 Temmuz 2023, Sayı: 2023-29    Toplantı Tarihi: 20 Temmuz 2023 Küresel Ekonomi 1. Küresel enflasyon düşerken, halen uzun dönem ortalamalarının ve merkez bankalarının hedeflerinin üzerinde seyretmektedir. Gelişmiş ve gelişmekte olan ekonomilerin tüketici enflasyonları bir önceki PPK dönemine göre yüzde 5,59 ve yüzde 5,82 düzeylerinden sırasıyla yüzde 4,91 ve yüzde 5,41 seviyelerine gerilemiştir. Son 10 yıllık dönemde ise ortalama enflasyon gelişmiş ekonomilerde yüzde 2,2 ve gelişmekte olan ekonomilerde yüzde 5,6 seviyesinde gerçekleşmiştir. Enflasyon, gelişmiş ülkelerde yüzde 2; gelişmekte olan ülkelerde ise ortalama yüzde 3,5 olan hedef oranların belirgin olarak üzerinde seyretmeye devam etmektedir. 2023 yılı son çeyrek ortalama yıllık enflasyonun gelişmiş ekonomilerde 3,1, gelişmekte olan ülkelerde ise yüzde 5,9 seviyesinde gerçekleşmesi beklenmektedir. Emtia fiyatlarında geçen yıl ortasından itibaren başlayan gerileme eğilimi sürmekle birlikte, Emtia Fiyat Endeksinin mevcut seviyesi son on yılın ortalamasının yüzde 26,2 üzerindedir. Endeks geçen yıl ulaştığı en yüksek seviyeye göre yüzde 28,7 gerilemiştir. Benzer şekilde geçen yıl ulaştığı tepe noktasına göre yüzde 11,2 gerileme kaydeden Tarımsal Emtia Fiyat Endeksi son on yılın ortalamasının yüzde 16,2 üzerindedir. Bu durum, gıdanın tüketici sepeti içerisindeki yüksek payı nedeniyle enflasyon üzerinde halen etkili olmaktadır. Bir önceki PPK dönemine göre çekirdek enflasyon gelişmiş ülkelerde yüzde 5,12’den yüzde 5,02’ye, gelişmekte olan ülkelerde ise yüzde 6,20’den yüzde 6,03’e sınırlı gerilemiştir. ABD ve Euro Bölgesinde 2023 yılı son çeyrek ortalama yıllık enflasyon beklentisi sırasıyla yüzde 3,2 ve yüzde 3,0 iken; çekirdek enflasyon beklentisi sırasıyla yüzde 3,7 ve yüzde 4,0 seviyesindedir. 2. Çekirdek enflasyonun ve enflasyon beklentilerinin yüksek seviyeleri küresel enflasyonun bir süre daha merkez bankalarının hedeflerinin üzerinde seyretmeye devam edeceğini ima etmektedir. Bu nedenle, dünyanın birçok ülkesinde merkez bankaları parasal sıkılaştırma sürecine devam etmektedir. Takip edilen 12 gelişmiş ülke merkez bankası son 17 ayda toplamda 130 toplantı yapmış, bu toplantıların 93 tanesinde politika faizleri artırılmıştır. Aynı dönemde takip edilen 15 gelişmekte olan ülke merkez bankası toplamda 190 toplantı yapmış, bu toplantıların 97 tanesinde politika faizleri artırılmıştır.1 Uygulanan para politikasının sonuçları finansal koşullara da yansımaya başlamış ve merkez bankalarının finansman ve kredi koşullarındaki sıkılaşmaya yönelik vurguları güçlenmiştir. 3. Küresel büyüme görünümündeki yatay seyre rağmen, görece güçlü talep ve işgücü piyasalarındaki sıkılık devam etmektedir. Türkiye’nin dış ticaret ortaklarının ihracat paylarıyla ağırlıklandırılan küresel büyüme endeksi bir önceki PPK toplantısı dönemine kıyasla oldukça sınırlı artış kaydetmiştir. Endeksin 2023 yılı için tahmin edilen büyüme oranı ocak ayındaki dip seviyenin yaklaşık 0,4 puan üzerinde yüzde 1,7 düzeyindedir. Bununla birlikte, söz konusu endeksin 2022 yılında yüzde 3,5 olan büyüme oranı ile kıyaslandığında Türkiye’nin dış talep görünümünde yıllık bazda kayda değer bir yavaşlama gözlenmektedir. Küresel PMI endeksleri                                                         1 Gelişmiş Ülkeler: Amerika Birleşik Devletleri, Avustralya, Çekya, Danimarka, Euro Bölgesi, Güney Kore, İngiltere, İsveç, Japonya, Kanada, Norveç, Yeni Zelanda. Gelişmekte Olan Ülkeler: Brezilya, Çin, Endonezya, Filipinler, Güney Afrika, Hindistan, Kolombiya, Macaristan, Meksika, Peru, Polonya, Romanya, Rusya, Şili, Tayland. ;;;;;   hizmet sektöründe faaliyetin gücünü koruduğuna, imalat sanayinde ise geçtiğimiz yılın son çeyreğinden beri süregelen eşik değerin altındaki yatay seyrin devam ettiğine işaret etmektedir. Yılın ikinci çeyreğinde küresel hizmetler PMI endeksi ilk çeyreğe göre 2,6 puan artarak 54,9 düzeyine erişmiş, imalat sanayi PMI endeksi 0,2 puan azalarak 49,3 olmuştur. Bileşik PMI göstergelerine bakıldığında, haziran ayında endeksin küresel düzeyde mayıs ayındaki seviyeye kıyasla 1,7 puan gerileyerek 52,7 olduğu, gelişmiş ülkelerde 1,5 puan azalarak 52,2 seviyesinde seyrettiği, gelişmekte olan ülkelerde ise 2 puan azalışla 53,6 düzeyine gerilediği gözlenmiştir. Çin’de bileşik PMI göstergesi haziran ayında mayıs ayına göre 3,1 puan azalarak 52,5 düzeyinde gerçekleşirken gerek imalat gerek hizmetler sektöründe 50 eşik değerinin üzerinde bulunmaktadır. Gelişmiş ülke ekonomilerinde finansal koşulların etkisiyle iktisadi faaliyetin yavaşlayacağına yönelik beklentiler sürmektedir. Türkiye’nin önemli ticaret ortaklarından Euro Bölgesinin imalat PMI göstergesi haziran ayında 43,4 ile pandemiden bu yana en düşük düzeyine gerilemiştir. ;;;;; . Gelişmekte olan ülkelere yönelen portföy akımları haziran ayında, iyileşen risk algısına bağlı olarak devam etmiştir. Yılbaşından mayıs sonuna kadar hisse senedi piyasalarına yaklaşık 46,4 milyar dolar fon girişi olurken, borç senetleri piyasalarından yaklaşık 4,3 milyar dolar fon çıkışı olmuştur. Haziran ayı başından 7 Temmuz tarihine kadar 4,9 milyar doları hisse senedi piyasalarına olmak üzere toplam 7,6 milyar dolar fon girişi olmuştur. Enflasyon Gelişmeleri 5. Ülkemizde yıllık enflasyon 2022 yılının ekim ayında ulaştığı zirveye kıyasla 47,3 puan gerilemekle birlikte yüksek seviyesini korumaktadır. Tüketici fiyatları haziran ayında yüzde 3,92 oranında artarken yıllık enflasyon yüzde 1,38 puan düşerek yüzde 38,21 seviyesine gerilemiştir. Yakın döneme ilişkin göstergeler enflasyonun ana eğiliminde yükselişin sürdüğüne işaret etmektedir. Bu gelişmede yurt içi talepteki güçlü seyir, ücret ve kur kaynaklı maliyet yönlü baskılar ile hizmet enflasyonundaki katılık ve vergi düzenlemeleri belirleyici olmaktadır. ;;;;; . Alt grupların yıllık enflasyona katkıları temel mal grubunda 10,17 puandan 10,49’a (0,32 puan artış); alkol, tütün ve altın grupları toplamında 1,50 puandan 1,81’e (0,31 puan artış) yükselirken, gıda ve alkolsüz içecekler grubunda 13,64 puandan 13,56’ya (0,08 puan azalış), hizmet grubunda 15,17 puandan 15,00’a (0,17 puan düşüş), enerji grubunda ise -0,88 puandan -2,64’e (1,76 puan azalış) gerilemiştir. 7. Gıda ve alkolsüz içecekler grubu fiyatları haziran ayında yüzde 3,02 oranında artmış, yıllık enflasyon 1,40 puan artarak yüzde 53,92 olmuştur. Gıda fiyatlarının mevsimsellikten arındırılmış aylık artış oranı bir önceki aya kıyasla yükselmiş, bu gelişmede başta sebze olmak üzere taze meyve ve sebze fiyatları etkili olmuştur. Diğer işlenmemiş gıda grubunda kırmızı et fiyatlarındaki yükseliş bir önceki aya kıyasla hızlanmıştır. İşlenmiş gıda fiyatları aylık bazda yüzde 1,85 oranında yükselmiş, bu gelişmede yaş çay alım fiyatlarına bağlı olarak artış kaydeden çay fiyatları öne çıkmıştır. Ekmek ve tahıllar aylık enflasyonu bu dönemde bir miktar artış göstererek yüzde 1,41 oranında gerçekleşmiştir. 8. Enerji fiyatları haziran ayında yüzde 4,23 oranında artmış, grup yıllık enflasyonu baz etkisiyle 9,55 puan azalarak yüzde -16,52 olmuştur. Enerji fiyatlarının aylık artışında uluslararası ham petrol fiyatlarındaki görece yatay seyre karşın Türk lirasındaki görünüme paralel olarak artan akaryakıt fiyatları (yüzde 11,32) öne çıkmıştır. 9. Hizmet fiyatları haziran ayında yüzde 3,66 oranında artarken, grup yıllık enflasyonu 0,50 puan düşüşle yüzde 59,45 olarak gerçekleşmiştir. Fiyat artışları alt gruplar geneline yayılırken, kira alt grubu yüzde 5,80 ve lokanta-otel alt grubu yüzde 4,32 oranında artış ile öne çıkmaya devam etmiştir. Haberleşme fiyatlarındaki artışlar internet ücretleri öncülüğünde sürerken, ;;;;;   diğer hizmetler alt grubunda kişisel ulaştırma araçlarının bakım ve onarımı ile eğlence ve spor hizmetlerindeki artışlar dikkat çekmiştir. Ulaştırma hizmetleri görünümünde ise havayolu ile yolcu taşımacılığı kalemi fiyatlarında devam eden yükseliş belirleyici olmuştur. 10. Temel mal fiyatları haziran ayında yüzde 4,03 oranında yükselmiş, grup yıllık enflasyonu 1,62 puan artışla yüzde 36,69 olmuştur. Haziran ayında yıllık enflasyon dayanıklı mal (altın hariç) ile giyim ve ayakkabı alt gruplarında yükselirken, diğer temel mallarda gerilemiştir. Dayanıklı mal (altın hariç) alt grubunda aylık artış yüzde 6,64 ile önceki aya kıyasla güçlenmiş, bu gelişmede haziran ayında da temel belirleyici otomobil kalemi olmuştur. Otomobil fiyatları kur gelişmelerine ek olarak canlı seyreden iç satışlara bağlı olarak yüzde 10,28 oranında yükselmiştir. Böylelikle, otomobil fiyat artışı 2023 yılının ilk altı ayında yüzde 34,01 olmuştur. Haziran ayında beyaz eşya fiyatları ise yüzde 3,78 oranında artış kaydetmiştir. 11. Alkollü içecekler ve tütün ürünleri grubunda fiyatlar yüzde 11,13 oranında yükselmiş, bu grupta yıllık enflasyon 10,80 puan artışla yüzde 40,90 olarak gerçekleşmiştir. Bu gelişmede, tütün ürünlerinde üretici firma kaynaklı fiyat artışları (yüzde 12,29) belirleyici olmuştur. Alkollü içecek ve tütün grubundaki fiyat artışı, ay başındaki Yİ-ÜFE’ye göre otomatik olarak güncellenen maktu ÖTV artışı ile KDV düzenlemesinin etkilerine bağlı olarak, temmuz ayında da sürecektir. 12. Enflasyonun ana eğilimi 2022 yılı sonrası dönemde yavaşlasa da yüksek seyrini sürdürmektedir. Mevsimsellikten arındırılmış verilerle aylık artışlar B ve C göstergelerinde bir önceki aya kıyasla yükselirken, bu görünüm alternatif çekirdek enflasyon göstergeleri tarafından da teyit edilmektedir. Mevsimsellikten arındırılmış B ve C endekslerinin üç aylık ortalama artışları 2022 yılının şubat ayında sırasıyla yüzde 8,8 ve yüzde 8,4 ile en yüksek noktasına çıkarken, 2023 yılı haziran ayı itibarıyla yüzde 2,8 ve yüzde 3,3 seviyelerine gerilemiştir. Haziran ayında B ve C endeksinin mevsimsellikten arındırılmış aylık artış oranları ise sırasıyla yüzde 3,1 ve yüzde 3,7 olarak gerçekleşmiştir (önceki ay yüzde 2,9 ve yüzde 3,6). Medyan enflasyon ve SATRIM gibi alternatif çekirdek göstergelerde de önceki aya göre artışlar gözlenmiştir. 13. Temmuz ayına ilişkin öncü göstergeler talep, ücret, döviz kuru, vergiler ve bozulan fiyatlama davranışları kanallarıyla oldukça yüksek bir aylık fiyat artışı olacağına işaret etmektedir. Buna bağlı olarak, yıllık enflasyonun da önemli ölçüde yükseleceği tahmin edilmektedir. Talep ve Üretim 14. Yılın ikinci çeyreğine ilişkin veriler, iktisadi faaliyetin özellikle iç talep kaynaklı güçlü seyrini sürdürdüğünü teyit etmektedir. Mayıs ayında perakende satış hacim endeksi yıllık bazda yüzde 33,1 oranında yükselerek artış eğilimini sürdürmüştür. Mayıs ayı itibarıyla çeyreklik bazda artış ise yüzde 4,6 oranında gerçekleşmiştir. Kartla yapılan harcamalardaki artış eğilimi ikinci çeyrekte devam etmiş, mevsimsellikten arındırılmış olarak kart harcamaları ilk çeyreğe kıyasla yüzde 24,3 oranında güçlü bir artış gerçekleştirmiştir. İmalat sanayi firmalarının ikinci çeyrekteki kayıtlı siparişlerine bakıldığında iç piyasa siparişlerinin yıllık bazda 2,6 puan ile kuvvetli artış kaydettiği görülmektedir. Öncü göstergeler ve firma görüşmeleri iç piyasa siparişlerindeki canlı seyrin temmuz ayında da devam ettiğine işaret etmektedir.  15. Güncel veriler deprem bölgesinde ekonomik faaliyetin beklenenden hızlı toparlanmasını sürdürmesiyle afet kaynaklı daralmanın büyük ölçüde telafi edildiğini göstermektedir. Mayıs ayı itibarıyla mevsimsellikten arındırılmış istihdam 31,7 milyon seviyesinde gerçekleşerek afet öncesinde ocak ayındaki seviyesinin 26 bin kişi üzerine çıkmıştır. Bu dönemde mevsimsellikten arındırılmış istihdam çeyreklik bazda yüzde 0,9 oranında, işgücüne katılım oranı 0,3 puan artış kaydetmiştir. İşsizlik oranı ise mayıs ayında bir önceki aydaki yüzde 10  4  seviyesine göre 0,5 puan azalarak 2014 yılının mart ayından bu yana en düşük düzeye gerilemiştir. 16. Mayıs ayında yıllıklandırılmış cari işlemler açığı enerji fiyatlarına bağlı olarak gerileyen enerji ithalatındaki düşüşe rağmen 2022 yılının mayıs ayındaki 22,6 milyar dolar seviyesine kıyasla 37,3 milyar dolar artarak 60 milyar dolara yükselmiştir. Bu artış hizmetler dengesindeki güçlü seyre rağmen dış ticaret açığındaki yükselişin etkisiyle gerçekleşmiştir. Mayıs ayı itibarıyla yıllıklandırılmış olarak ödemeler dengesi tanımlı dış ticaret açığı önceki yılın aynı dönemindeki seviyesine göre 49,9 milyar dolar artarak 101,9 milyar dolara yükselmiştir. Aynı dönemde yıllıklandırılmış hizmetler fazlası 12,1 milyar dolar artarak 51,5 milyar dolara çıkmıştır. Parasal koşulların ve beklentilerin etkisiyle altın ithalatı cari açıktaki artışta önemli rol oynamaktadır. Yılın ilk beş ayında toplam altın ithalatı bir önceki yılın aynı dönemindeki seviyesine kıyasla 10,7 milyar dolar artışla 14,6 milyar dolar seviyesinde gerçekleşmiştir. Haziran ayı geçici dış ticaret verileri altın ithalatının mayıs ayı seviyesinin altında olmakla beraber yüksek seyrettiğine işaret etmektedir. Yurt içi talepteki güçlü seyir tüketim malları ithalatı kanalıyla cari işlemler açığını artırıcı etkide bulunmaktadır. Haziran ayına ilişkin geçici dış ticaret verileri ve temmuz ayı için yüksek frekanslı veriler, bayram kaynaklı işgünü etkileri dışlandığında mevsimsellikten arındırılmış olarak ihracattaki nispeten yatay seyre karşın ithalatın yüksek seviyelerini koruduğuna işaret etmektedir. 17. Turizm gelirlerinin beklentilerin üzerinde ve yıl geneline yayılmış seyri ile yılın ikinci yarısında cari dengeye güçlü bir katkı sunacağı tahmin edilmektedir. Seyahat gelirleri yılın ilk beş ayında bir önceki yılın ilk beş ay toplamına göre 2,5 milyar dolar artarak 14,1 milyar dolar seviyesine ulaşmıştır. Yabancı ziyaretçi sayıları da benzer şekilde yılın ilk beş ayında bir önceki yılın aynı dönemine göre yüzde 26,1 oranında artarak 13,6 milyon kişi seviyesinde gerçekleşmiştir. Turizm gelirlerinin artan katkısıyla cari işlemler hesabının yılın ikinci yarısında daha dengeli bir seyir izleyeceği tahmin edilmektedir. Turizm gelirlerindeki güçlü seyir ile enerji ithalatındaki normalleşmenin döviz piyasasında arz kaynaklı olarak sağlıklı fiyat oluşumu ve istikrara katkı sağlayacağı öngörülmektedir. Diğer taraftan, artan turizm faaliyeti kısa vadede talebi artırarak tüketici enflasyonu üzerinde risk oluşturmaktadır. 18. Mayıs ayında sanayi üretim endeksi, mevsim ve takvim etkilerinden arındırılmış olarak aylık bazda yüzde 1,1 oranında artmıştır. Aylık bazda artışlar sektörler geneline yayılırken ihracat payı yüksek olan sektörler ve tipik olarak yüksek oynaklık gösteren sektörlerde daha kuvvetli gerçekleşmiştir. Çeyreklik bazda ise sanayi üretimi yüzde 1,4 oranında yükselerek deprem sonrası toparlanma eğiliminin devamına işaret etmiştir. Benzer şekilde imalat sanayi kapasite kullanım oranı, yılın ikinci çeyreğinde ilk çeyreğe kıyasla 0,9 puan artarak yüzde 76,2 seviyesinde gerçekleşmiş ve kapasite kullanımında deprem kaynaklı kayıp telafi edilmiştir.  Maliyet Koşulları 19. 2022 yılının ikinci yarısından itibaren gerileyen küresel emtia fiyatları girdi fiyatı kanalıyla tüketici enflasyonundaki düşüşü desteklemiştir. Diğer taraftan, döviz kurları ve işgücü maliyetindeki artışlar nedeniyle üretici fiyatları üzerindeki baskı artmaktadır. 20. Yurt içi üretici fiyatları aylık artışı yüzde 6,50 ile son aylara kıyasla önemli ölçüde kuvvetlenmiş, yıllık üretici enflasyonu baz etkisiyle 0,34 puan azalarak yüzde 40,42 olarak gerçekleşmiştir. Haziran ayında uluslararası emtia fiyatları düşük bir oranda gerilerken (yüzde -0,76), döviz kuru gelişmeleri üretici fiyatlarındaki artışın temel sürükleyicisi olmuştur. Alt gruplar bazında artışlar genele yayılırken, en belirgin artış enerji imalatında (yüzde 12,67) olmuştur. Böylelikle uzun bir süredir enflasyon görünümünü destekleyen enerji maliyetlerindeki görünüm bu ayla birlikte tersine dönmüştür. Bu dönemde, sermaye (yüzde 8,02) ve ara malları (yüzde 6,59) yüksek aylık fiyat artışları ile dikkat çeken diğer alt gruplar olmuştur. ;;;;;   21. Temmuz ayında küresel arz zincirindeki baskılara dair göstergeler ve uluslararası taşımacılık maliyetleri düşük seyretmektedir. Küresel Arz Zinciri Baskı Endeksi haziran ayında da tarihsel ortalamasının yaklaşık bir standart sapma altında değer almıştır. Küresel emtia fiyatları temmuz ayında belirgin bir değişim sergilememektedir. Özetle, mevcut küresel arz koşulları enflasyon açısından olumlu görünümünü sürdürmektedir. 22. 2023 yılı temmuz ayında asgari ücrette yapılan güncellemeye memur ve kamu işçi ücretlerindeki düzenlemelerin eşlik etmesi ve ücretlerdeki artışın genele yayılması sonucu yılın ikinci yarısında enflasyon üzerinde başta maliyet kanallı etkiler olmak üzere yukarı yönlü baskıların artacağı öngörülmektedir. 23. Türk lirasındaki değer kayıplarının, ücretlerde genele yayılan artışın ve vergi düzenlemelerinin yakın dönemde enflasyon üzerinde maliyet yönlü ilave baskı oluşturacağı öngörülmektedir. Söz konusu etmenlerden tüketici fiyatlarına geçişkenliğin özellikle talep koşullarının güçlü olduğu dönemlerde hızlı gerçekleştiği görülmektedir. Nitekim öncü göstergeler, maliyet gelişmelerinin etkisiyle temmuz ayında genele yayılan yüksek fiyat artışlarının gerçekleştiğine işaret etmektedir. Hizmet Enflasyonunda Katılık 24. Hizmet sektöründe fiyat artışları yüksek seviyelerini sürdürmekte, grup enflasyonu mallara kıyasla atalet göstermektedir. Yurt içi talep etkisinin daha belirgin olduğu hizmet sektöründe aylık artışlar 2022’ye kıyasla halen yüksek seyretmektedir. Mevsimsellikten arındırılmış tüketici fiyat artışlarının son üç aylık ortalaması B göstergesinde yüzde 2,8 iken, hizmetlerde yüzde 3,5’tir. Buna ek olarak hizmet sektörüne ait yayılım endeksi tarihsel ortalamasının üzerinde seyrederek artışların sektör geneline yayıldığını göstermektedir. 25. Gıda, ücret ve turizm kaynaklı gelişmelerden önemli ölçüde etkilenen lokanta ve otel alt grubunda aylık artışlar süreklilik gösteren bir görünüm arz etmektedir. Asgari ücret gelişmelerine duyarlılığı yüksek olan sektörün izleyen aylarda yüksek artış eğilimini koruması beklenmektedir. 26. Kira, eğitim, sağlık, eğlence-kültür başta olmak üzere belirli hizmet kalemleri geçmiş tüketici enflasyonuna dönük fiyatlama davranışı sergileyerek, enflasyonist etkilerin uzun bir zamana yayılmasına neden olmaktadır. Tüketici enflasyonunda yakın dönemde beklenen görünümle birlikte, geçmiş enflasyona endeksleme eğilimi belirgin olan gruplarda enflasyonun bir süre daha yüksek seyretme riski bulunmaktadır. 27. Akaryakıt fiyatları başta ulaştırma hizmetleri olmak üzere tüketici fiyatları üzerinde gerek üretim girdisi gerekse taşımacılık maliyetleri kanalıyla önemli bir etki oluşturma potansiyeline sahiptir. Akaryakıt fiyatlarında yakın dönemde döviz kuru, ham petrol fiyatları ve vergi artışı kaynaklı olarak kaydedilen belirgin artışın, ulaştırma hizmetleri fiyatlarına önümüzdeki dönemde önemli bir etkisi olabileceği değerlendirilmektedir. Vergi Düzenlemeleri 28. Kurul, vergi düzenlemelerinin kısa vadede enflasyon üzerinde ilave olumsuz etki yapacağını öngörmektedir. Bununla birlikte, vergi artışlarının etkisinin geçici olacağı, talep ve mali disiplin üzerindeki olumlu etkilerle bir miktar dengeleneceği değerlendirilmiştir. 29. Temmuz ayı ile birlikte KDV oranları 2 puan yükseltilmiştir. Genel artışın yanı sıra bazı temizlik ürünlerinde yüzde 8 olarak uygulanan KDV oranı yüzde 20 olarak uygulanmaya başlanmıştır. Tütün ürünlerinde KDV artışının mali çarpanı yukarıya çekmesiyle yüksek oranlı fiyat artışları gerçekleşmiştir.  6  30. Akaryakıtta maktu ÖTV tutarları artırılmıştır. Benzin ve motorinde 5 TL, LPG’de ise 4 TL olan maktu ÖTV artışı gerek doğrudan gerekse dolaylı olarak tüketici enflasyonunu olumsuz yönde etkileyecektir. Enflasyon Beklentileri 31. Enflasyon beklentilerindeki mevcut seyir ve fiyatlama davranışlarındaki bozulma, enflasyon görünümüne dair yukarı yönlü riskleri canlı tutmaktadır. Manşet enflasyon yayılım endeksi haziran ayında tarihsel ortalamasının yaklaşık iki standart sapma üzerinde değer almıştır. 32. Temmuz ayı Piyasa Katılımcıları Anketi sonuçlarına göre on iki ay sonrasına ilişkin enflasyon beklentisi yüzde 30,65’ten 2,56 puan artışla yüzde 33,21; gelecek yirmi dört ay sonrasına ilişkin enflasyon beklentisi yüzde 18,12’den 0,92 puan yükselişle yüzde 19,04; beş yıl sonrasına ilişkin enflasyon beklentisi ise yüzde 8,07’den 0,79 puan yukarı güncellenerek 8,86 olmuştur. 33. Tüketici enflasyonunun 2023 yılında bir miktar yükseldikten sonra faiz artışlarının ve miktarsal sıkılaştırmanın birikimli etkilerinin devreye girmesiyle gerileyerek önce tarihsel ortalamalara, sonra da orta vadeli hedefe kademeli olarak yakınsayacağı öngörülmektedir.   Parasal ve Finansal Koşullar 34. Kredi büyümesi iç talebi artırarak enflasyon üzerinde risk oluşturmaktadır. 14 Temmuz 2023 itibarıyla, 2022 yılı sonuna kıyasla bireysel kredi bakiyesi kredi kartlarında yüzde 81,1, taşıt kredilerinde yüzde 68,7, ihtiyaç kredilerinde yüzde 30,6 konut kredilerinde yüzde 22,1 olmak üzere toplamda yüzde 44,6 oranında artmıştır. Diğer taraftan, son PPK döneminden bu yana ihtiyaç kredi büyümesi yavaşlama eğilimini sürdürmüştür. İhtiyaç kredilerinde 16 Haziran’dan bu yana artış oranı yüzde 2,9 olmuştur. Bu gelişmede kredi büyümesine dayalı menkul kıymet tesisi uygulamasının kapsamının genişletilmesi etkili olmuştur. Diğer taraftan, kredi kartlarında büyüme güçlü seyretmeye devam etmektedir. Yıllık artış oranı yüzde 175,4’ten yüzde 186,6’ya çıkmıştır. TL ticari kredilerde yıllık büyüme oranları yüzde 73,8’den yüzde 69,1’e gerilerken, nispeten yatay bir seyir izlemiştir. 35. Önceki PPK döneminde düzenleme öncesi döneme göre 749 baz puan artarak yüzde 41,7 seviyesine yükselen ortalama ihtiyaç kredisi (KMH hariç) faizleri son PPK döneminde 644 baz puan artarak yüzde 48,1 seviyesine yükselmiştir. Aynı dönemde konut kredisi faizleri ile taşıt kredisi faizleri yüzde 21,8 ve yüzde 34 seviyelerinden sırasıyla yüzde 32,6 ve yüzde 41,3 seviyelerine yükselmiştir. Türk lirası ticari kredi faizleri ise politika faizindeki artış ile birlikte 1.054 baz puan artarak yüzde 25,2 olarak gerçekleşmiştir.  36. 23 Haziran haftasında yüzde 32,9 seviyesine yükselen TL mevduat faizleri politika faizindeki 650 baz puanlık artışa karşın gerileyerek 14 Temmuz haftasında yüzde 27,8 olarak gerçekleşmiştir. Politika faizi ve TL mevduat faizleri arasındaki fark belirgin şekilde azalmıştır. Bu gelişmede en önemli rolü mikro- ve makroihtiyati çerçevede sadeleşme sürecinin ilk adımı olan menkul kıymet tesisi uygulamasına ilişkin düzenleme oynamıştır.  37. Doğrudan yabancı yatırımlar, dış finansman koşullarındaki belirgin iyileşme, rezervlerde süregelen artış ve turizm gelirlerinin desteğiyle cari işlemler hesabındaki dengelenme fiyat istikrarına güçlü katkıda bulunacaktır. 38. Son dönemde yapılan anlaşmalar ile teknoloji yatırımlarını ve üretim kapasitesini geliştirecek alanlara yoğunlaşacak doğrudan yabancı yatırımlar önümüzdeki dönemde dış finansmanı destekleyecektir.  ;;;;;   39. Yurt içi belirsizliklerin etkisiyle 22 Mayıs 2023 tarihinde 703 baz puan seviyesiyle bu yılın zirve noktasına ulaşan Türkiye’nin 5 yıllık CDS primi, önceki PPK döneminde 493 baz puan, 19 Temmuz 2023’te ise 457 baz puan seviyesine gerilemiştir. Benzer şekilde, Türk lirasının 1 ay ve 12 ay vadeli kur oynaklıkları önceki PPK dönemlerindeki 25,2 ve 33,8 puan seviyelerinden sırasıyla 23,6 ve 30,3 puana gerilemiştir. Risk primi ve kur oynaklıklarındaki düşüşlere haziran ayından itibaren 0,09 milyar ABD doları DİBS piyasasına ve 1,33 milyar doları hisse senedi piyasasına olmak üzere toplam 1,42 milyar ABD dolar net portföy girişi eşlik etmiştir. 40. TCMB uluslararası rezervleri haziran ayından itibaren güçlü bir artış eğilimine girmiştir. 2022 yılı sonu itibarıyla 128,8 milyar dolar seviyesinden mayıs sonunda 98,5 milyar dolar seviyesine gerileyen TCMB brüt uluslararası rezervleri 14 Temmuz itibarıyla 113,1 milyar dolar seviyesine yükselmiştir. Para Politikası 41. Politika faizi, enflasyonun ana eğilimini geriletecek ve enflasyonu orta vadede yüzde 5 hedefine ulaştıracak parasal ve finansal koşulları sağlayacak şekilde belirlenecektir. Kurul, para politikası çerçevesinin enflasyon görünümü ve yukarı yönlü riskler göz önüne alındığında yüzde 5 enflasyon hedefini gerçekleştirme kapasitesinin güçlendirilmesi gerektiği değerlendirmesinde bulunmuştur. Fiyat istikrarındaki bozulmanın makroekonomik istikrar ve özellikle finansal istikrar üzerinde oluşturabileceği risklere dikkat çekilmiştir. Bu doğrultuda Kurul, adımları gerektiği zamanda ve gerektiği ölçüde kademeli olarak güçlendirilen parasal sıkılaştırma sürecinin devamına karar vermiştir. Parasal sıkılaştırma sürecinin enflasyon görünümünde belirgin iyileşme sağlanana kadar devam etmesi öngörülmüştür. 42. Kurul, dezenflasyonun en kısa sürede tesisi, enflasyon beklentilerinin çıpalanması, fiyatlama davranışlarındaki bozulmanın kontrol altına alınması için başlatılan parasal sıkılaştırma sürecinin devamına karar vermiştir. Bu çerçevede, politika faizi olan bir hafta vadeli repo ihale faiz oranı yüzde 15’ten yüzde 17,5 düzeyine yükseltilmiştir.  43. Enflasyon görünümü parasal sıkılaştırma istikametindeki adımların sürekliliğini gerekli kılmaktadır. Kurul, parasal sıkılaştırma sürecinin makroekonomik ve finansal koşullar üzerindeki etkilerine dair analizleri incelemiştir. Faiz artırım senaryolarının enflasyon, kredi büyümesi, kredi ve piyasa faizleri, ekonomik aktivite, beklentiler gibi temel makroekonomik değişkenler üzerindeki etkileri bütünsel bir perspektifle değerlendirilmiştir.  44. Buna ek olarak Kurul, mevcut mikro- ve makroihtiyati çerçevenin makro finansal istikrarı destekleme ve piyasa mekanizmalarının işlevselliğini artırması konularında geliştirilmesi gerektiği tespitlerini tekrarlamıştır. Bu doğrultuda, söz konusu çerçevede sadeleşme politikasının devamına karar verilmiştir. Mevcut mikro- ve makroihtiyati çerçeve, piyasa mekanizmalarının işlevselliğini artıracak ve makro finansal istikrarı güçlendirecek şekilde sadeleştirilecektir. Sadeleşme süreci kademeli olmaya devam edecektir. Sadeleşme sürecinde atılan adımların hızı ve sıralaması etki analizleri ile belirlenmektedir. TCMB tarafından yapılan düzenlemelere ilişkin etki analizleri söz konusu çerçevenin tüm bileşenleri için enflasyon, faizler, döviz kurları, rezervler, beklentiler, menkul kıymetler ve finansal istikrar üzerindeki yansımalarıyla birlikte bütüncül bir bakış açısıyla değerlendirilerek yapılmaktadır.  45. Bu kapsamda Kurul, faiz artırımının yanı sıra, parasal sıkılaştırma sürecini destekleyecek seçici kredi ve miktarsal sıkılaştırma kararları almıştır. Bu kararlarla, temel politika aracı olan politika faizleri parasal, finansal koşullar ve beklentileri etkilerken, Türk lirası likidite ve tüketim talebindeki aşırılıkların dengelenmesi ve para politikasının etkinliğinin artırılması hedeflenmektedir. 46. Bireysel krediler, kredi kartları ve taşıt kredileri kategorilerinde 2023 başından beri aylık ortalama yüzde 9,8 ve yüzde 9,1 oranında artmaktadır. Bireysel kredilerdeki bu ivmelenmeyle ;;;;;   birlikte iç talebin hem doğrudan hem de cari denge üzerinden fiyat istikrarını bozduğu değerlendirilmiştir. Seçici kredi sıkılaştırması kararları sonucunda yurt içi talepte dengelenme sürecinin destekleneceği öngörülmektedir. 47. Döviz kuru gelişmelerinin etkisiyle kur korumalı mevduat hesaplarının kur farkı ödemeleri nedeniyle finansal sisteme girişi gerçekleşen Türk lirası likidite yakından izlenmektedir. Mevcut piyasa koşulları ve önümüzdeki döneme ilişkin likidite projeksiyonları dikkate alınarak yapılan etki analizleri çerçevesinde gerekli adımlar atılmaktadır. Piyasada oluşan likidite fazlasının miktarsal sıkılaştırma kararı çerçevesinde kur korumalı mevduat hesaplarına yönelik Türk lirası zorunlu karşılık oranlarının artırılması yoluyla sterilizasyonu planlanmıştır.  48. Enflasyon ve enflasyonun ana eğilimine ilişkin göstergeler yakından takip edilecek ve Kurul, fiyat istikrarı temel amacı doğrultusunda elindeki tüm araçları kararlılıkla kullanmaya devam edecektir. 49. Kurul, kararlarını öngörülebilir, veri odaklı ve şeffaf bir çerçevede almaya devam edecektir. \n"
     ]
    }
   ],
   "source": [
    "print(discard_page_numbers(_doc_text, _no_of_pages))"
   ]
  },
  {
   "cell_type": "code",
   "execution_count": 117,
   "metadata": {},
   "outputs": [
    {
     "name": "stdout",
     "output_type": "stream",
     "text": [
      "None got page numbers, not matched\n",
      "['  2', '  2']\n",
      "['  3', '  3', '  3', '  3', '  3']\n",
      "['  4', '  4', '  4', '  4', '  4', '  4']\n",
      "['  5']\n",
      "['  6', '  6']\n",
      "['  7']\n",
      "['  8']\n"
     ]
    },
    {
     "data": {
      "text/plain": [
       "'      ,        Küresel Ekonomi 1. Küresel enflasyon düşerken, halen uzun dönem ortalamalarının ve merkez bankalarının hedeflerinin üzerinde seyretmektedir. Gelişmiş ve gelişmekte olan ekonomilerin tüketici enflasyonları bir önceki PPK dönemine göre yüzde 5,59 ve yüzde 5,82 düzeylerinden sırasıyla yüzde 4,91 ve yüzde 5,41 seviyelerine gerilemiştir. Son 10 yıllık dönemde ise ortalama enflasyon gelişmiş ekonomilerde yüzde 2,2 ve gelişmekte olan ekonomilerde yüzde 5,6 seviyesinde gerçekleşmiştir. Enflasyon, gelişmiş ülkelerde yüzde 2; gelişmekte olan ülkelerde ise ortalama yüzde 3,5 olan hedef oranların belirgin olarak üzerinde seyretmeye devam etmektedir. 2023 yılı son çeyrek ortalama yıllık enflasyonun gelişmiş ekonomilerde 3,1, gelişmekte olan ülkelerde ise yüzde 5,9 seviyesinde gerçekleşmesi beklenmektedir. Emtia fiyatlarında geçen yıl ortasından itibaren başlayan gerileme eğilimi sürmekle birlikte, Emtia Fiyat Endeksinin mevcut seviyesi son on yılın ortalamasının yüzde 26,2 üzerindedir. Endeks geçen yıl ulaştığı en yüksek seviyeye göre yüzde 28,7 gerilemiştir. Benzer şekilde geçen yıl ulaştığı tepe noktasına göre yüzde 11,2 gerileme kaydeden Tarımsal Emtia Fiyat Endeksi son on yılın ortalamasının yüzde 16,2 üzerindedir. Bu durum, gıdanın tüketici sepeti içerisindeki yüksek payı nedeniyle enflasyon üzerinde halen etkili olmaktadır. Bir önceki PPK dönemine göre çekirdek enflasyon gelişmiş ülkelerde yüzde 5,12’den yüzde 5,02’ye, gelişmekte olan ülkelerde ise yüzde 6,20’den yüzde 6,03’e sınırlı gerilemiştir. ABD ve Euro Bölgesinde 2023 yılı son çeyrek ortalama yıllık enflasyon beklentisi sırasıyla yüzde 3,2 ve yüzde 3,0 iken; çekirdek enflasyon beklentisi sırasıyla yüzde 3,7 ve yüzde 4,0 seviyesindedir. 2. Çekirdek enflasyonun ve enflasyon beklentilerinin yüksek seviyeleri küresel enflasyonun bir süre daha merkez bankalarının hedeflerinin üzerinde seyretmeye devam edeceğini ima etmektedir. Bu nedenle, dünyanın birçok ülkesinde merkez bankaları parasal sıkılaştırma sürecine devam etmektedir. Takip edilen 12 gelişmiş ülke merkez bankası son 17 ayda toplamda 130 toplantı yapmış, bu toplantıların 93 tanesinde politika faizleri artırılmıştır. Aynı dönemde takip edilen 15 gelişmekte olan ülke merkez bankası toplamda 190 toplantı yapmış, bu toplantıların 97 tanesinde politika faizleri artırılmıştır.1 Uygulanan para politikasının sonuçları finansal koşullara da yansımaya başlamış ve merkez bankalarının finansman ve kredi koşullarındaki sıkılaşmaya yönelik vurguları güçlenmiştir. 3. Küresel büyüme görünümündeki yatay seyre rağmen, görece güçlü talep ve işgücü piyasalarındaki sıkılık devam etmektedir. Türkiye’nin dış ticaret ortaklarının ihracat paylarıyla ağırlıklandırılan küresel büyüme endeksi bir önceki PPK toplantısı dönemine kıyasla oldukça sınırlı artış kaydetmiştir. Endeksin 2023 yılı için tahmin edilen büyüme oranı ocak ayındaki dip seviyenin yaklaşık 0,4 puan üzerinde yüzde 1,7 düzeyindedir. Bununla birlikte, söz konusu endeksin 2022 yılında yüzde 3,5 olan büyüme oranı ile kıyaslandığında Türkiye’nin dış talep görünümünde yıllık bazda kayda değer bir yavaşlama gözlenmektedir. Küresel PMI endeksleri                                                         1 Gelişmiş Ülkeler: Amerika Birleşik Devletleri, Avustralya, Çekya, Danimarka, Euro Bölgesi, Güney Kore, İngiltere, İsveç, Japonya, Kanada, Norveç, Yeni Zelanda. Gelişmekte Olan Ülkeler: Brezilya, Çin, Endonezya, Filipinler, Güney Afrika, Hindistan, Kolombiya, Macaristan, Meksika, Peru, Polonya, Romanya, Rusya, Şili, Tayland. ;;;;;   hizmet sektöründe faaliyetin gücünü koruduğuna, imalat sanayinde ise geçtiğimiz yılın son çeyreğinden beri süregelen eşik değerin altındaki yatay seyrin devam ettiğine işaret etmektedir. Yılın ikinci çeyreğinde küresel hizmetler PMI endeksi ilk çeyreğe göre 2,6 puan artarak 54,9 düzeyine erişmiş, imalat sanayi PMI endeksi 0,2 puan azalarak 49,3 olmuştur. Bileşik PMI göstergelerine bakıldığında, haziran ayında endeksin küresel düzeyde mayıs ayındaki seviyeye kıyasla 1,7 puan gerileyerek 52,7 olduğu, gelişmiş ülkelerde 1,5 puan azalarak 52,2 seviyesinde seyrettiği, gelişmekte olan ülkelerde ise 2 puan azalışla 53,6 düzeyine gerilediği gözlenmiştir. Çin’de bileşik PMI göstergesi haziran ayında mayıs ayına göre 3,1 puan azalarak 52,5 düzeyinde gerçekleşirken gerek imalat gerek hizmetler sektöründe 50 eşik değerinin üzerinde bulunmaktadır. Gelişmiş ülke ekonomilerinde finansal koşulların etkisiyle iktisadi faaliyetin yavaşlayacağına yönelik beklentiler sürmektedir. Türkiye’nin önemli ticaret ortaklarından Euro Bölgesinin imalat PMI göstergesi haziran ayında 43,4 ile pandemiden bu yana en düşük düzeyine gerilemiştir. ;;;;; . Gelişmekte olan ülkelere yönelen portföy akımları haziran ayında, iyileşen risk algısına bağlı olarak devam etmiştir. Yılbaşından mayıs sonuna kadar hisse senedi piyasalarına yaklaşık 46,4 milyar dolar fon girişi olurken, borç senetleri piyasalarından yaklaşık 4,3 milyar dolar fon çıkışı olmuştur. Haziran ayı başından 7 Temmuz tarihine kadar 4,9 milyar doları hisse senedi piyasalarına olmak üzere toplam 7,6 milyar dolar fon girişi olmuştur. Enflasyon Gelişmeleri 5. Ülkemizde yıllık enflasyon 2022 yılının ekim ayında ulaştığı zirveye kıyasla 47,3 puan gerilemekle birlikte yüksek seviyesini korumaktadır. Tüketici fiyatları haziran ayında yüzde 3,92 oranında artarken yıllık enflasyon yüzde 1,38 puan düşerek yüzde 38,21 seviyesine gerilemiştir. Yakın döneme ilişkin göstergeler enflasyonun ana eğiliminde yükselişin sürdüğüne işaret etmektedir. Bu gelişmede yurt içi talepteki güçlü seyir, ücret ve kur kaynaklı maliyet yönlü baskılar ile hizmet enflasyonundaki katılık ve vergi düzenlemeleri belirleyici olmaktadır. ;;;;; . Alt grupların yıllık enflasyona katkıları temel mal grubunda 10,17 puandan 10,49’a (0,32 puan artış); alkol, tütün ve altın grupları toplamında 1,50 puandan 1,81’e (0,31 puan artış) yükselirken, gıda ve alkolsüz içecekler grubunda 13,64 puandan 13,56’ya (0,08 puan azalış), hizmet grubunda 15,17 puandan 15,00’a (0,17 puan düşüş), enerji grubunda ise -0,88 puandan -2,64’e (1,76 puan azalış) gerilemiştir. 7. Gıda ve alkolsüz içecekler grubu fiyatları haziran ayında yüzde 3,02 oranında artmış, yıllık enflasyon 1,40 puan artarak yüzde 53,92 olmuştur. Gıda fiyatlarının mevsimsellikten arındırılmış aylık artış oranı bir önceki aya kıyasla yükselmiş, bu gelişmede başta sebze olmak üzere taze meyve ve sebze fiyatları etkili olmuştur. Diğer işlenmemiş gıda grubunda kırmızı et fiyatlarındaki yükseliş bir önceki aya kıyasla hızlanmıştır. İşlenmiş gıda fiyatları aylık bazda yüzde 1,85 oranında yükselmiş, bu gelişmede yaş çay alım fiyatlarına bağlı olarak artış kaydeden çay fiyatları öne çıkmıştır. Ekmek ve tahıllar aylık enflasyonu bu dönemde bir miktar artış göstererek yüzde 1,41 oranında gerçekleşmiştir. 8. Enerji fiyatları haziran ayında yüzde 4,23 oranında artmış, grup yıllık enflasyonu baz etkisiyle 9,55 puan azalarak yüzde -16,52 olmuştur. Enerji fiyatlarının aylık artışında uluslararası ham petrol fiyatlarındaki görece yatay seyre karşın Türk lirasındaki görünüme paralel olarak artan akaryakıt fiyatları (yüzde 11,32) öne çıkmıştır. 9. Hizmet fiyatları haziran ayında yüzde 3,66 oranında artarken, grup yıllık enflasyonu 0,50 puan düşüşle yüzde 59,45 olarak gerçekleşmiştir. Fiyat artışları alt gruplar geneline yayılırken, kira alt grubu yüzde 5,80 ve lokanta-otel alt grubu yüzde 4,32 oranında artış ile öne çıkmaya devam etmiştir. Haberleşme fiyatlarındaki artışlar internet ücretleri öncülüğünde sürerken, ;;;;;   diğer hizmetler alt grubunda kişisel ulaştırma araçlarının bakım ve onarımı ile eğlence ve spor hizmetlerindeki artışlar dikkat çekmiştir. Ulaştırma hizmetleri görünümünde ise havayolu ile yolcu taşımacılığı kalemi fiyatlarında devam eden yükseliş belirleyici olmuştur. 10. Temel mal fiyatları haziran ayında yüzde 4,03 oranında yükselmiş, grup yıllık enflasyonu 1,62 puan artışla yüzde 36,69 olmuştur. Haziran ayında yıllık enflasyon dayanıklı mal (altın hariç) ile giyim ve ayakkabı alt gruplarında yükselirken, diğer temel mallarda gerilemiştir. Dayanıklı mal (altın hariç) alt grubunda aylık artış yüzde 6,64 ile önceki aya kıyasla güçlenmiş, bu gelişmede haziran ayında da temel belirleyici otomobil kalemi olmuştur. Otomobil fiyatları kur gelişmelerine ek olarak canlı seyreden iç satışlara bağlı olarak yüzde 10,28 oranında yükselmiştir. Böylelikle, otomobil fiyat artışı 2023 yılının ilk altı ayında yüzde 34,01 olmuştur. Haziran ayında beyaz eşya fiyatları ise yüzde 3,78 oranında artış kaydetmiştir. 11. Alkollü içecekler ve tütün ürünleri grubunda fiyatlar yüzde 11,13 oranında yükselmiş, bu grupta yıllık enflasyon 10,80 puan artışla yüzde 40,90 olarak gerçekleşmiştir. Bu gelişmede, tütün ürünlerinde üretici firma kaynaklı fiyat artışları (yüzde 12,29) belirleyici olmuştur. Alkollü içecek ve tütün grubundaki fiyat artışı, ay başındaki Yİ-ÜFE’ye göre otomatik olarak güncellenen maktu ÖTV artışı ile KDV düzenlemesinin etkilerine bağlı olarak, temmuz ayında da sürecektir. 12. Enflasyonun ana eğilimi 2022 yılı sonrası dönemde yavaşlasa da yüksek seyrini sürdürmektedir. Mevsimsellikten arındırılmış verilerle aylık artışlar B ve C göstergelerinde bir önceki aya kıyasla yükselirken, bu görünüm alternatif çekirdek enflasyon göstergeleri tarafından da teyit edilmektedir. Mevsimsellikten arındırılmış B ve C endekslerinin üç aylık ortalama artışları 2022 yılının şubat ayında sırasıyla yüzde 8,8 ve yüzde 8,4 ile en yüksek noktasına çıkarken, 2023 yılı haziran ayı itibarıyla yüzde 2,8 ve yüzde 3,3 seviyelerine gerilemiştir. Haziran ayında B ve C endeksinin mevsimsellikten arındırılmış aylık artış oranları ise sırasıyla yüzde 3,1 ve yüzde 3,7 olarak gerçekleşmiştir (önceki ay yüzde 2,9 ve yüzde 3,6). Medyan enflasyon ve SATRIM gibi alternatif çekirdek göstergelerde de önceki aya göre artışlar gözlenmiştir. 13. Temmuz ayına ilişkin öncü göstergeler talep, ücret, döviz kuru, vergiler ve bozulan fiyatlama davranışları kanallarıyla oldukça yüksek bir aylık fiyat artışı olacağına işaret etmektedir. Buna bağlı olarak, yıllık enflasyonun da önemli ölçüde yükseleceği tahmin edilmektedir. Talep ve Üretim 14. Yılın ikinci çeyreğine ilişkin veriler, iktisadi faaliyetin özellikle iç talep kaynaklı güçlü seyrini sürdürdüğünü teyit etmektedir. Mayıs ayında perakende satış hacim endeksi yıllık bazda yüzde 33,1 oranında yükselerek artış eğilimini sürdürmüştür. Mayıs ayı itibarıyla çeyreklik bazda artış ise yüzde 4,6 oranında gerçekleşmiştir. Kartla yapılan harcamalardaki artış eğilimi ikinci çeyrekte devam etmiş, mevsimsellikten arındırılmış olarak kart harcamaları ilk çeyreğe kıyasla yüzde 24,3 oranında güçlü bir artış gerçekleştirmiştir. İmalat sanayi firmalarının ikinci çeyrekteki kayıtlı siparişlerine bakıldığında iç piyasa siparişlerinin yıllık bazda 2,6 puan ile kuvvetli artış kaydettiği görülmektedir. Öncü göstergeler ve firma görüşmeleri iç piyasa siparişlerindeki canlı seyrin temmuz ayında da devam ettiğine işaret etmektedir.  15. Güncel veriler deprem bölgesinde ekonomik faaliyetin beklenenden hızlı toparlanmasını sürdürmesiyle afet kaynaklı daralmanın büyük ölçüde telafi edildiğini göstermektedir. Mayıs ayı itibarıyla mevsimsellikten arındırılmış istihdam 31,7 milyon seviyesinde gerçekleşerek afet öncesinde ocak ayındaki seviyesinin 26 bin kişi üzerine çıkmıştır. Bu dönemde mevsimsellikten arındırılmış istihdam çeyreklik bazda yüzde 0,9 oranında, işgücüne katılım oranı 0,3 puan artış kaydetmiştir. İşsizlik oranı ise mayıs ayında bir önceki aydaki yüzde 10  4  seviyesine göre 0,5 puan azalarak 2014 yılının mart ayından bu yana en düşük düzeye gerilemiştir. 16. Mayıs ayında yıllıklandırılmış cari işlemler açığı enerji fiyatlarına bağlı olarak gerileyen enerji ithalatındaki düşüşe rağmen 2022 yılının mayıs ayındaki 22,6 milyar dolar seviyesine kıyasla 37,3 milyar dolar artarak 60 milyar dolara yükselmiştir. Bu artış hizmetler dengesindeki güçlü seyre rağmen dış ticaret açığındaki yükselişin etkisiyle gerçekleşmiştir. Mayıs ayı itibarıyla yıllıklandırılmış olarak ödemeler dengesi tanımlı dış ticaret açığı önceki yılın aynı dönemindeki seviyesine göre 49,9 milyar dolar artarak 101,9 milyar dolara yükselmiştir. Aynı dönemde yıllıklandırılmış hizmetler fazlası 12,1 milyar dolar artarak 51,5 milyar dolara çıkmıştır. Parasal koşulların ve beklentilerin etkisiyle altın ithalatı cari açıktaki artışta önemli rol oynamaktadır. Yılın ilk beş ayında toplam altın ithalatı bir önceki yılın aynı dönemindeki seviyesine kıyasla 10,7 milyar dolar artışla 14,6 milyar dolar seviyesinde gerçekleşmiştir. Haziran ayı geçici dış ticaret verileri altın ithalatının mayıs ayı seviyesinin altında olmakla beraber yüksek seyrettiğine işaret etmektedir. Yurt içi talepteki güçlü seyir tüketim malları ithalatı kanalıyla cari işlemler açığını artırıcı etkide bulunmaktadır. Haziran ayına ilişkin geçici dış ticaret verileri ve temmuz ayı için yüksek frekanslı veriler, bayram kaynaklı işgünü etkileri dışlandığında mevsimsellikten arındırılmış olarak ihracattaki nispeten yatay seyre karşın ithalatın yüksek seviyelerini koruduğuna işaret etmektedir. 17. Turizm gelirlerinin beklentilerin üzerinde ve yıl geneline yayılmış seyri ile yılın ikinci yarısında cari dengeye güçlü bir katkı sunacağı tahmin edilmektedir. Seyahat gelirleri yılın ilk beş ayında bir önceki yılın ilk beş ay toplamına göre 2,5 milyar dolar artarak 14,1 milyar dolar seviyesine ulaşmıştır. Yabancı ziyaretçi sayıları da benzer şekilde yılın ilk beş ayında bir önceki yılın aynı dönemine göre yüzde 26,1 oranında artarak 13,6 milyon kişi seviyesinde gerçekleşmiştir. Turizm gelirlerinin artan katkısıyla cari işlemler hesabının yılın ikinci yarısında daha dengeli bir seyir izleyeceği tahmin edilmektedir. Turizm gelirlerindeki güçlü seyir ile enerji ithalatındaki normalleşmenin döviz piyasasında arz kaynaklı olarak sağlıklı fiyat oluşumu ve istikrara katkı sağlayacağı öngörülmektedir. Diğer taraftan, artan turizm faaliyeti kısa vadede talebi artırarak tüketici enflasyonu üzerinde risk oluşturmaktadır. 18. Mayıs ayında sanayi üretim endeksi, mevsim ve takvim etkilerinden arındırılmış olarak aylık bazda yüzde 1,1 oranında artmıştır. Aylık bazda artışlar sektörler geneline yayılırken ihracat payı yüksek olan sektörler ve tipik olarak yüksek oynaklık gösteren sektörlerde daha kuvvetli gerçekleşmiştir. Çeyreklik bazda ise sanayi üretimi yüzde 1,4 oranında yükselerek deprem sonrası toparlanma eğiliminin devamına işaret etmiştir. Benzer şekilde imalat sanayi kapasite kullanım oranı, yılın ikinci çeyreğinde ilk çeyreğe kıyasla 0,9 puan artarak yüzde 76,2 seviyesinde gerçekleşmiş ve kapasite kullanımında deprem kaynaklı kayıp telafi edilmiştir.  Maliyet Koşulları 19. 2022 yılının ikinci yarısından itibaren gerileyen küresel emtia fiyatları girdi fiyatı kanalıyla tüketici enflasyonundaki düşüşü desteklemiştir. Diğer taraftan, döviz kurları ve işgücü maliyetindeki artışlar nedeniyle üretici fiyatları üzerindeki baskı artmaktadır. 20. Yurt içi üretici fiyatları aylık artışı yüzde 6,50 ile son aylara kıyasla önemli ölçüde kuvvetlenmiş, yıllık üretici enflasyonu baz etkisiyle 0,34 puan azalarak yüzde 40,42 olarak gerçekleşmiştir. Haziran ayında uluslararası emtia fiyatları düşük bir oranda gerilerken (yüzde -0,76), döviz kuru gelişmeleri üretici fiyatlarındaki artışın temel sürükleyicisi olmuştur. Alt gruplar bazında artışlar genele yayılırken, en belirgin artış enerji imalatında (yüzde 12,67) olmuştur. Böylelikle uzun bir süredir enflasyon görünümünü destekleyen enerji maliyetlerindeki görünüm bu ayla birlikte tersine dönmüştür. Bu dönemde, sermaye (yüzde 8,02) ve ara malları (yüzde 6,59) yüksek aylık fiyat artışları ile dikkat çeken diğer alt gruplar olmuştur. ;;;;;   21. Temmuz ayında küresel arz zincirindeki baskılara dair göstergeler ve uluslararası taşımacılık maliyetleri düşük seyretmektedir. Küresel Arz Zinciri Baskı Endeksi haziran ayında da tarihsel ortalamasının yaklaşık bir standart sapma altında değer almıştır. Küresel emtia fiyatları temmuz ayında belirgin bir değişim sergilememektedir. Özetle, mevcut küresel arz koşulları enflasyon açısından olumlu görünümünü sürdürmektedir. 22. 2023 yılı temmuz ayında asgari ücrette yapılan güncellemeye memur ve kamu işçi ücretlerindeki düzenlemelerin eşlik etmesi ve ücretlerdeki artışın genele yayılması sonucu yılın ikinci yarısında enflasyon üzerinde başta maliyet kanallı etkiler olmak üzere yukarı yönlü baskıların artacağı öngörülmektedir. 23. Türk lirasındaki değer kayıplarının, ücretlerde genele yayılan artışın ve vergi düzenlemelerinin yakın dönemde enflasyon üzerinde maliyet yönlü ilave baskı oluşturacağı öngörülmektedir. Söz konusu etmenlerden tüketici fiyatlarına geçişkenliğin özellikle talep koşullarının güçlü olduğu dönemlerde hızlı gerçekleştiği görülmektedir. Nitekim öncü göstergeler, maliyet gelişmelerinin etkisiyle temmuz ayında genele yayılan yüksek fiyat artışlarının gerçekleştiğine işaret etmektedir. Hizmet Enflasyonunda Katılık 24. Hizmet sektöründe fiyat artışları yüksek seviyelerini sürdürmekte, grup enflasyonu mallara kıyasla atalet göstermektedir. Yurt içi talep etkisinin daha belirgin olduğu hizmet sektöründe aylık artışlar 2022’ye kıyasla halen yüksek seyretmektedir. Mevsimsellikten arındırılmış tüketici fiyat artışlarının son üç aylık ortalaması B göstergesinde yüzde 2,8 iken, hizmetlerde yüzde 3,5’tir. Buna ek olarak hizmet sektörüne ait yayılım endeksi tarihsel ortalamasının üzerinde seyrederek artışların sektör geneline yayıldığını göstermektedir. 25. Gıda, ücret ve turizm kaynaklı gelişmelerden önemli ölçüde etkilenen lokanta ve otel alt grubunda aylık artışlar süreklilik gösteren bir görünüm arz etmektedir. Asgari ücret gelişmelerine duyarlılığı yüksek olan sektörün izleyen aylarda yüksek artış eğilimini koruması beklenmektedir. 26. Kira, eğitim, sağlık, eğlence-kültür başta olmak üzere belirli hizmet kalemleri geçmiş tüketici enflasyonuna dönük fiyatlama davranışı sergileyerek, enflasyonist etkilerin uzun bir zamana yayılmasına neden olmaktadır. Tüketici enflasyonunda yakın dönemde beklenen görünümle birlikte, geçmiş enflasyona endeksleme eğilimi belirgin olan gruplarda enflasyonun bir süre daha yüksek seyretme riski bulunmaktadır. 27. Akaryakıt fiyatları başta ulaştırma hizmetleri olmak üzere tüketici fiyatları üzerinde gerek üretim girdisi gerekse taşımacılık maliyetleri kanalıyla önemli bir etki oluşturma potansiyeline sahiptir. Akaryakıt fiyatlarında yakın dönemde döviz kuru, ham petrol fiyatları ve vergi artışı kaynaklı olarak kaydedilen belirgin artışın, ulaştırma hizmetleri fiyatlarına önümüzdeki dönemde önemli bir etkisi olabileceği değerlendirilmektedir. Vergi Düzenlemeleri 28. Kurul, vergi düzenlemelerinin kısa vadede enflasyon üzerinde ilave olumsuz etki yapacağını öngörmektedir. Bununla birlikte, vergi artışlarının etkisinin geçici olacağı, talep ve mali disiplin üzerindeki olumlu etkilerle bir miktar dengeleneceği değerlendirilmiştir. 29. Temmuz ayı ile birlikte KDV oranları 2 puan yükseltilmiştir. Genel artışın yanı sıra bazı temizlik ürünlerinde yüzde 8 olarak uygulanan KDV oranı yüzde 20 olarak uygulanmaya başlanmıştır. Tütün ürünlerinde KDV artışının mali çarpanı yukarıya çekmesiyle yüksek oranlı fiyat artışları gerçekleşmiştir.  6  30. Akaryakıtta maktu ÖTV tutarları artırılmıştır. Benzin ve motorinde 5 TL, LPG’de ise 4 TL olan maktu ÖTV artışı gerek doğrudan gerekse dolaylı olarak tüketici enflasyonunu olumsuz yönde etkileyecektir. Enflasyon Beklentileri 31. Enflasyon beklentilerindeki mevcut seyir ve fiyatlama davranışlarındaki bozulma, enflasyon görünümüne dair yukarı yönlü riskleri canlı tutmaktadır. Manşet enflasyon yayılım endeksi haziran ayında tarihsel ortalamasının yaklaşık iki standart sapma üzerinde değer almıştır. 32. Temmuz ayı Piyasa Katılımcıları Anketi sonuçlarına göre on iki ay sonrasına ilişkin enflasyon beklentisi yüzde 30,65’ten 2,56 puan artışla yüzde 33,21; gelecek yirmi dört ay sonrasına ilişkin enflasyon beklentisi yüzde 18,12’den 0,92 puan yükselişle yüzde 19,04; beş yıl sonrasına ilişkin enflasyon beklentisi ise yüzde 8,07’den 0,79 puan yukarı güncellenerek 8,86 olmuştur. 33. Tüketici enflasyonunun 2023 yılında bir miktar yükseldikten sonra faiz artışlarının ve miktarsal sıkılaştırmanın birikimli etkilerinin devreye girmesiyle gerileyerek önce tarihsel ortalamalara, sonra da orta vadeli hedefe kademeli olarak yakınsayacağı öngörülmektedir.   Parasal ve Finansal Koşullar 34. Kredi büyümesi iç talebi artırarak enflasyon üzerinde risk oluşturmaktadır. 14 Temmuz 2023 itibarıyla, 2022 yılı sonuna kıyasla bireysel kredi bakiyesi kredi kartlarında yüzde 81,1, taşıt kredilerinde yüzde 68,7, ihtiyaç kredilerinde yüzde 30,6 konut kredilerinde yüzde 22,1 olmak üzere toplamda yüzde 44,6 oranında artmıştır. Diğer taraftan, son PPK döneminden bu yana ihtiyaç kredi büyümesi yavaşlama eğilimini sürdürmüştür. İhtiyaç kredilerinde 16 Haziran’dan bu yana artış oranı yüzde 2,9 olmuştur. Bu gelişmede kredi büyümesine dayalı menkul kıymet tesisi uygulamasının kapsamının genişletilmesi etkili olmuştur. Diğer taraftan, kredi kartlarında büyüme güçlü seyretmeye devam etmektedir. Yıllık artış oranı yüzde 175,4’ten yüzde 186,6’ya çıkmıştır. TL ticari kredilerde yıllık büyüme oranları yüzde 73,8’den yüzde 69,1’e gerilerken, nispeten yatay bir seyir izlemiştir. 35. Önceki PPK döneminde düzenleme öncesi döneme göre 749 baz puan artarak yüzde 41,7 seviyesine yükselen ortalama ihtiyaç kredisi (KMH hariç) faizleri son PPK döneminde 644 baz puan artarak yüzde 48,1 seviyesine yükselmiştir. Aynı dönemde konut kredisi faizleri ile taşıt kredisi faizleri yüzde 21,8 ve yüzde 34 seviyelerinden sırasıyla yüzde 32,6 ve yüzde 41,3 seviyelerine yükselmiştir. Türk lirası ticari kredi faizleri ise politika faizindeki artış ile birlikte 1.054 baz puan artarak yüzde 25,2 olarak gerçekleşmiştir.  36. 23 Haziran haftasında yüzde 32,9 seviyesine yükselen TL mevduat faizleri politika faizindeki 650 baz puanlık artışa karşın gerileyerek 14 Temmuz haftasında yüzde 27,8 olarak gerçekleşmiştir. Politika faizi ve TL mevduat faizleri arasındaki fark belirgin şekilde azalmıştır. Bu gelişmede en önemli rolü mikro- ve makroihtiyati çerçevede sadeleşme sürecinin ilk adımı olan menkul kıymet tesisi uygulamasına ilişkin düzenleme oynamıştır.  37. Doğrudan yabancı yatırımlar, dış finansman koşullarındaki belirgin iyileşme, rezervlerde süregelen artış ve turizm gelirlerinin desteğiyle cari işlemler hesabındaki dengelenme fiyat istikrarına güçlü katkıda bulunacaktır. 38. Son dönemde yapılan anlaşmalar ile teknoloji yatırımlarını ve üretim kapasitesini geliştirecek alanlara yoğunlaşacak doğrudan yabancı yatırımlar önümüzdeki dönemde dış finansmanı destekleyecektir.  ;;;;;   39. Yurt içi belirsizliklerin etkisiyle 22 Mayıs 2023 tarihinde 703 baz puan seviyesiyle bu yılın zirve noktasına ulaşan Türkiye’nin 5 yıllık CDS primi, önceki PPK döneminde 493 baz puan, 19 Temmuz 2023’te ise 457 baz puan seviyesine gerilemiştir. Benzer şekilde, Türk lirasının 1 ay ve 12 ay vadeli kur oynaklıkları önceki PPK dönemlerindeki 25,2 ve 33,8 puan seviyelerinden sırasıyla 23,6 ve 30,3 puana gerilemiştir. Risk primi ve kur oynaklıklarındaki düşüşlere haziran ayından itibaren 0,09 milyar ABD doları DİBS piyasasına ve 1,33 milyar doları hisse senedi piyasasına olmak üzere toplam 1,42 milyar ABD dolar net portföy girişi eşlik etmiştir. 40. TCMB uluslararası rezervleri haziran ayından itibaren güçlü bir artış eğilimine girmiştir. 2022 yılı sonu itibarıyla 128,8 milyar dolar seviyesinden mayıs sonunda 98,5 milyar dolar seviyesine gerileyen TCMB brüt uluslararası rezervleri 14 Temmuz itibarıyla 113,1 milyar dolar seviyesine yükselmiştir. Para Politikası 41. Politika faizi, enflasyonun ana eğilimini geriletecek ve enflasyonu orta vadede yüzde 5 hedefine ulaştıracak parasal ve finansal koşulları sağlayacak şekilde belirlenecektir. Kurul, para politikası çerçevesinin enflasyon görünümü ve yukarı yönlü riskler göz önüne alındığında yüzde 5 enflasyon hedefini gerçekleştirme kapasitesinin güçlendirilmesi gerektiği değerlendirmesinde bulunmuştur. Fiyat istikrarındaki bozulmanın makroekonomik istikrar ve özellikle finansal istikrar üzerinde oluşturabileceği risklere dikkat çekilmiştir. Bu doğrultuda Kurul, adımları gerektiği zamanda ve gerektiği ölçüde kademeli olarak güçlendirilen parasal sıkılaştırma sürecinin devamına karar vermiştir. Parasal sıkılaştırma sürecinin enflasyon görünümünde belirgin iyileşme sağlanana kadar devam etmesi öngörülmüştür. 42. Kurul, dezenflasyonun en kısa sürede tesisi, enflasyon beklentilerinin çıpalanması, fiyatlama davranışlarındaki bozulmanın kontrol altına alınması için başlatılan parasal sıkılaştırma sürecinin devamına karar vermiştir. Bu çerçevede, politika faizi olan bir hafta vadeli repo ihale faiz oranı yüzde 15’ten yüzde 17,5 düzeyine yükseltilmiştir.  43. Enflasyon görünümü parasal sıkılaştırma istikametindeki adımların sürekliliğini gerekli kılmaktadır. Kurul, parasal sıkılaştırma sürecinin makroekonomik ve finansal koşullar üzerindeki etkilerine dair analizleri incelemiştir. Faiz artırım senaryolarının enflasyon, kredi büyümesi, kredi ve piyasa faizleri, ekonomik aktivite, beklentiler gibi temel makroekonomik değişkenler üzerindeki etkileri bütünsel bir perspektifle değerlendirilmiştir.  44. Buna ek olarak Kurul, mevcut mikro- ve makroihtiyati çerçevenin makro finansal istikrarı destekleme ve piyasa mekanizmalarının işlevselliğini artırması konularında geliştirilmesi gerektiği tespitlerini tekrarlamıştır. Bu doğrultuda, söz konusu çerçevede sadeleşme politikasının devamına karar verilmiştir. Mevcut mikro- ve makroihtiyati çerçeve, piyasa mekanizmalarının işlevselliğini artıracak ve makro finansal istikrarı güçlendirecek şekilde sadeleştirilecektir. Sadeleşme süreci kademeli olmaya devam edecektir. Sadeleşme sürecinde atılan adımların hızı ve sıralaması etki analizleri ile belirlenmektedir. TCMB tarafından yapılan düzenlemelere ilişkin etki analizleri söz konusu çerçevenin tüm bileşenleri için enflasyon, faizler, döviz kurları, rezervler, beklentiler, menkul kıymetler ve finansal istikrar üzerindeki yansımalarıyla birlikte bütüncül bir bakış açısıyla değerlendirilerek yapılmaktadır.  45. Bu kapsamda Kurul, faiz artırımının yanı sıra, parasal sıkılaştırma sürecini destekleyecek seçici kredi ve miktarsal sıkılaştırma kararları almıştır. Bu kararlarla, temel politika aracı olan politika faizleri parasal, finansal koşullar ve beklentileri etkilerken, Türk lirası likidite ve tüketim talebindeki aşırılıkların dengelenmesi ve para politikasının etkinliğinin artırılması hedeflenmektedir. 46. Bireysel krediler, kredi kartları ve taşıt kredileri kategorilerinde 2023 başından beri aylık ortalama yüzde 9,8 ve yüzde 9,1 oranında artmaktadır. Bireysel kredilerdeki bu ivmelenmeyle ;;;;;   birlikte iç talebin hem doğrudan hem de cari denge üzerinden fiyat istikrarını bozduğu değerlendirilmiştir. Seçici kredi sıkılaştırması kararları sonucunda yurt içi talepte dengelenme sürecinin destekleneceği öngörülmektedir. 47. Döviz kuru gelişmelerinin etkisiyle kur korumalı mevduat hesaplarının kur farkı ödemeleri nedeniyle finansal sisteme girişi gerçekleşen Türk lirası likidite yakından izlenmektedir. Mevcut piyasa koşulları ve önümüzdeki döneme ilişkin likidite projeksiyonları dikkate alınarak yapılan etki analizleri çerçevesinde gerekli adımlar atılmaktadır. Piyasada oluşan likidite fazlasının miktarsal sıkılaştırma kararı çerçevesinde kur korumalı mevduat hesaplarına yönelik Türk lirası zorunlu karşılık oranlarının artırılması yoluyla sterilizasyonu planlanmıştır.  48. Enflasyon ve enflasyonun ana eğilimine ilişkin göstergeler yakından takip edilecek ve Kurul, fiyat istikrarı temel amacı doğrultusunda elindeki tüm araçları kararlılıkla kullanmaya devam edecektir. 49. Kurul, kararlarını öngörülebilir, veri odaklı ve şeffaf bir çerçevede almaya devam edecektir. '"
      ]
     },
     "execution_count": 117,
     "metadata": {},
     "output_type": "execute_result"
    }
   ],
   "source": [
    "_processed_text = correct_encoding(_doc_text)\n",
    "_processed_text, meta = discard_metadata(_processed_text)\n",
    "_processed_text = discard_page_numbers(_processed_text, _no_of_pages)\n",
    "_processed_text"
   ]
  },
  {
   "cell_type": "code",
   "execution_count": 110,
   "metadata": {},
   "outputs": [
    {
     "name": "stdout",
     "output_type": "stream",
     "text": [
      "[('r.1 ', 'r', '.1')]\n"
     ]
    },
    {
     "data": {
      "text/plain": [
       "'      ,        Küresel Ekonomi 1. Küresel enflasyon düşerken, halen uzun dönem ortalamalarının ve merkez bankalarının hedeflerinin üzerinde seyretmektedir. Gelişmiş ve gelişmekte olan ekonomilerin tüketici enflasyonları bir önceki PPK dönemine göre yüzde 5,59 ve yüzde 5,82 düzeylerinden sırasıyla yüzde 4,91 ve yüzde 5,41 seviyelerine gerilemiştir. Son 10 yıllık dönemde ise ortalama enflasyon gelişmiş ekonomilerde yüzde 2,2 ve gelişmekte olan ekonomilerde yüzde 5,6 seviyesinde gerçekleşmiştir. Enflasyon, gelişmiş ülkelerde yüzde 2; gelişmekte olan ülkelerde ise ortalama yüzde 3,5 olan hedef oranların belirgin olarak üzerinde seyretmeye devam etmektedir. 2023 yılı son çeyrek ortalama yıllık enflasyonun gelişmiş ekonomilerde 3,1, gelişmekte olan ülkelerde ise yüzde 5,9 seviyesinde gerçekleşmesi beklenmektedir. Emtia fiyatlarında geçen yıl ortasından itibaren başlayan gerileme eğilimi sürmekle birlikte, Emtia Fiyat Endeksinin mevcut seviyesi son on yılın ortalamasının yüzde 26,2 üzerindedir. Endeks geçen yıl ulaştığı en yüksek seviyeye göre yüzde 28,7 gerilemiştir. Benzer şekilde geçen yıl ulaştığı tepe noktasına göre yüzde 11,2 gerileme kaydeden Tarımsal Emtia Fiyat Endeksi son on yılın ortalamasının yüzde 16,2 üzerindedir. Bu durum, gıdanın tüketici sepeti içerisindeki yüksek payı nedeniyle enflasyon üzerinde halen etkili olmaktadır. Bir önceki PPK dönemine göre çekirdek enflasyon gelişmiş ülkelerde yüzde 5,12’den yüzde 5,02’ye, gelişmekte olan ülkelerde ise yüzde 6,20’den yüzde 6,03’e sınırlı gerilemiştir. ABD ve Euro Bölgesinde 2023 yılı son çeyrek ortalama yıllık enflasyon beklentisi sırasıyla yüzde 3,2 ve yüzde 3,0 iken; çekirdek enflasyon beklentisi sırasıyla yüzde 3,7 ve yüzde 4,0 seviyesindedir. 2. Çekirdek enflasyonun ve enflasyon beklentilerinin yüksek seviyeleri küresel enflasyonun bir süre daha merkez bankalarının hedeflerinin üzerinde seyretmeye devam edeceğini ima etmektedir. Bu nedenle, dünyanın birçok ülkesinde merkez bankaları parasal sıkılaştırma sürecine devam etmektedir. Takip edilen 12 gelişmiş ülke merkez bankası son 17 ayda toplamda 130 toplantı yapmış, bu toplantıların 93 tanesinde politika faizleri artırılmıştır. Aynı dönemde takip edilen 15 gelişmekte olan ülke merkez bankası toplamda 190 toplantı yapmış, bu toplantıların 97 tanesinde politika faizleri artırılmıştır. Uygulanan para politikasının sonuçları finansal koşullara da yansımaya başlamış ve merkez bankalarının finansman ve kredi koşullarındaki sıkılaşmaya yönelik vurguları güçlenmiştir. 3. Küresel büyüme görünümündeki yatay seyre rağmen, görece güçlü talep ve işgücü piyasalarındaki sıkılık devam etmektedir. Türkiye’nin dış ticaret ortaklarının ihracat paylarıyla ağırlıklandırılan küresel büyüme endeksi bir önceki PPK toplantısı dönemine kıyasla oldukça sınırlı artış kaydetmiştir. Endeksin 2023 yılı için tahmin edilen büyüme oranı ocak ayındaki dip seviyenin yaklaşık 0,4 puan üzerinde yüzde 1,7 düzeyindedir. Bununla birlikte, söz konusu endeksin 2022 yılında yüzde 3,5 olan büyüme oranı ile kıyaslandığında Türkiye’nin dış talep görünümünde yıllık bazda kayda değer bir yavaşlama gözlenmektedir. Küresel PMI endeksleri   hizmet sektöründe faaliyetin gücünü koruduğuna, imalat sanayinde ise geçtiğimiz yılın son çeyreğinden beri süregelen eşik değerin altındaki yatay seyrin devam ettiğine işaret etmektedir. Yılın ikinci çeyreğinde küresel hizmetler PMI endeksi ilk çeyreğe göre 2,6 puan artarak 54,9 düzeyine erişmiş, imalat sanayi PMI endeksi 0,2 puan azalarak 49,3 olmuştur. Bileşik PMI göstergelerine bakıldığında, haziran ayında endeksin küresel düzeyde mayıs ayındaki seviyeye kıyasla 1,7 puan gerileyerek 52,7 olduğu, gelişmiş ülkelerde 1,5 puan azalarak 52,2 seviyesinde seyrettiği, gelişmekte olan ülkelerde ise 2 puan azalışla 53,6 düzeyine gerilediği gözlenmiştir. Çin’de bileşik PMI göstergesi haziran ayında mayıs ayına göre 3,1 puan azalarak 52,5 düzeyinde gerçekleşirken gerek imalat gerek hizmetler sektöründe 50 eşik değerinin üzerinde bulunmaktadır. Gelişmiş ülke ekonomilerinde finansal koşulların etkisiyle iktisadi faaliyetin yavaşlayacağına yönelik beklentiler sürmektedir. Türkiye’nin önemli ticaret ortaklarından Euro Bölgesinin imalat PMI göstergesi haziran ayında 43,4 ile pandemiden bu yana en düşük düzeyine gerilemiştir.  . Gelişmekte olan ülkelere yönelen portföy akımları haziran ayında, iyileşen risk algısına bağlı olarak devam etmiştir. Yılbaşından mayıs sonuna kadar hisse senedi piyasalarına yaklaşık 46,4 milyar dolar fon girişi olurken, borç senetleri piyasalarından yaklaşık 4,3 milyar dolar fon çıkışı olmuştur. Haziran ayı başından 7 Temmuz tarihine kadar 4,9 milyar doları hisse senedi piyasalarına olmak üzere toplam 7,6 milyar dolar fon girişi olmuştur. Enflasyon Gelişmeleri 5. Ülkemizde yıllık enflasyon 2022 yılının ekim ayında ulaştığı zirveye kıyasla 47,3 puan gerilemekle birlikte yüksek seviyesini korumaktadır. Tüketici fiyatları haziran ayında yüzde 3,92 oranında artarken yıllık enflasyon yüzde 1,38 puan düşerek yüzde 38,21 seviyesine gerilemiştir. Yakın döneme ilişkin göstergeler enflasyonun ana eğiliminde yükselişin sürdüğüne işaret etmektedir. Bu gelişmede yurt içi talepteki güçlü seyir, ücret ve kur kaynaklı maliyet yönlü baskılar ile hizmet enflasyonundaki katılık ve vergi düzenlemeleri belirleyici olmaktadır.  . Alt grupların yıllık enflasyona katkıları temel mal grubunda 10,17 puandan 10,49’a (0,32 puan artış); alkol, tütün ve altın grupları toplamında 1,50 puandan 1,81’e (0,31 puan artış) yükselirken, gıda ve alkolsüz içecekler grubunda 13,64 puandan 13,56’ya (0,08 puan azalış), hizmet grubunda 15,17 puandan 15,00’a (0,17 puan düşüş), enerji grubunda ise -0,88 puandan -2,64’e (1,76 puan azalış) gerilemiştir. 7. Gıda ve alkolsüz içecekler grubu fiyatları haziran ayında yüzde 3,02 oranında artmış, yıllık enflasyon 1,40 puan artarak yüzde 53,92 olmuştur. Gıda fiyatlarının mevsimsellikten arındırılmış aylık artış oranı bir önceki aya kıyasla yükselmiş, bu gelişmede başta sebze olmak üzere taze meyve ve sebze fiyatları etkili olmuştur. Diğer işlenmemiş gıda grubunda kırmızı et fiyatlarındaki yükseliş bir önceki aya kıyasla hızlanmıştır. İşlenmiş gıda fiyatları aylık bazda yüzde 1,85 oranında yükselmiş, bu gelişmede yaş çay alım fiyatlarına bağlı olarak artış kaydeden çay fiyatları öne çıkmıştır. Ekmek ve tahıllar aylık enflasyonu bu dönemde bir miktar artış göstererek yüzde 1,41 oranında gerçekleşmiştir. 8. Enerji fiyatları haziran ayında yüzde 4,23 oranında artmış, grup yıllık enflasyonu baz etkisiyle 9,55 puan azalarak yüzde -16,52 olmuştur. Enerji fiyatlarının aylık artışında uluslararası ham petrol fiyatlarındaki görece yatay seyre karşın Türk lirasındaki görünüme paralel olarak artan akaryakıt fiyatları (yüzde 11,32) öne çıkmıştır. 9. Hizmet fiyatları haziran ayında yüzde 3,66 oranında artarken, grup yıllık enflasyonu 0,50 puan düşüşle yüzde 59,45 olarak gerçekleşmiştir. Fiyat artışları alt gruplar geneline yayılırken, kira alt grubu yüzde 5,80 ve lokanta-otel alt grubu yüzde 4,32 oranında artış ile öne çıkmaya devam etmiştir. Haberleşme fiyatlarındaki artışlar internet ücretleri öncülüğünde sürerken,    diğer hizmetler alt grubunda kişisel ulaştırma araçlarının bakım ve onarımı ile eğlence ve spor hizmetlerindeki artışlar dikkat çekmiştir. Ulaştırma hizmetleri görünümünde ise havayolu ile yolcu taşımacılığı kalemi fiyatlarında devam eden yükseliş belirleyici olmuştur. 10. Temel mal fiyatları haziran ayında yüzde 4,03 oranında yükselmiş, grup yıllık enflasyonu 1,62 puan artışla yüzde 36,69 olmuştur. Haziran ayında yıllık enflasyon dayanıklı mal (altın hariç) ile giyim ve ayakkabı alt gruplarında yükselirken, diğer temel mallarda gerilemiştir. Dayanıklı mal (altın hariç) alt grubunda aylık artış yüzde 6,64 ile önceki aya kıyasla güçlenmiş, bu gelişmede haziran ayında da temel belirleyici otomobil kalemi olmuştur. Otomobil fiyatları kur gelişmelerine ek olarak canlı seyreden iç satışlara bağlı olarak yüzde 10,28 oranında yükselmiştir. Böylelikle, otomobil fiyat artışı 2023 yılının ilk altı ayında yüzde 34,01 olmuştur. Haziran ayında beyaz eşya fiyatları ise yüzde 3,78 oranında artış kaydetmiştir. 11. Alkollü içecekler ve tütün ürünleri grubunda fiyatlar yüzde 11,13 oranında yükselmiş, bu grupta yıllık enflasyon 10,80 puan artışla yüzde 40,90 olarak gerçekleşmiştir. Bu gelişmede, tütün ürünlerinde üretici firma kaynaklı fiyat artışları (yüzde 12,29) belirleyici olmuştur. Alkollü içecek ve tütün grubundaki fiyat artışı, ay başındaki Yİ-ÜFE’ye göre otomatik olarak güncellenen maktu ÖTV artışı ile KDV düzenlemesinin etkilerine bağlı olarak, temmuz ayında da sürecektir. 12. Enflasyonun ana eğilimi 2022 yılı sonrası dönemde yavaşlasa da yüksek seyrini sürdürmektedir. Mevsimsellikten arındırılmış verilerle aylık artışlar B ve C göstergelerinde bir önceki aya kıyasla yükselirken, bu görünüm alternatif çekirdek enflasyon göstergeleri tarafından da teyit edilmektedir. Mevsimsellikten arındırılmış B ve C endekslerinin üç aylık ortalama artışları 2022 yılının şubat ayında sırasıyla yüzde 8,8 ve yüzde 8,4 ile en yüksek noktasına çıkarken, 2023 yılı haziran ayı itibarıyla yüzde 2,8 ve yüzde 3,3 seviyelerine gerilemiştir. Haziran ayında B ve C endeksinin mevsimsellikten arındırılmış aylık artış oranları ise sırasıyla yüzde 3,1 ve yüzde 3,7 olarak gerçekleşmiştir (önceki ay yüzde 2,9 ve yüzde 3,6). Medyan enflasyon ve SATRIM gibi alternatif çekirdek göstergelerde de önceki aya göre artışlar gözlenmiştir. 13. Temmuz ayına ilişkin öncü göstergeler talep, ücret, döviz kuru, vergiler ve bozulan fiyatlama davranışları kanallarıyla oldukça yüksek bir aylık fiyat artışı olacağına işaret etmektedir. Buna bağlı olarak, yıllık enflasyonun da önemli ölçüde yükseleceği tahmin edilmektedir. Talep ve Üretim 14. Yılın ikinci çeyreğine ilişkin veriler, iktisadi faaliyetin özellikle iç talep kaynaklı güçlü seyrini sürdürdüğünü teyit etmektedir. Mayıs ayında perakende satış hacim endeksi yıllık bazda yüzde 33,1 oranında yükselerek artış eğilimini sürdürmüştür. Mayıs ayı itibarıyla çeyreklik bazda artış ise yüzde 4,6 oranında gerçekleşmiştir. Kartla yapılan harcamalardaki artış eğilimi ikinci çeyrekte devam etmiş, mevsimsellikten arındırılmış olarak kart harcamaları ilk çeyreğe kıyasla yüzde 24,3 oranında güçlü bir artış gerçekleştirmiştir. İmalat sanayi firmalarının ikinci çeyrekteki kayıtlı siparişlerine bakıldığında iç piyasa siparişlerinin yıllık bazda 2,6 puan ile kuvvetli artış kaydettiği görülmektedir. Öncü göstergeler ve firma görüşmeleri iç piyasa siparişlerindeki canlı seyrin temmuz ayında da devam ettiğine işaret etmektedir.  15. Güncel veriler deprem bölgesinde ekonomik faaliyetin beklenenden hızlı toparlanmasını sürdürmesiyle afet kaynaklı daralmanın büyük ölçüde telafi edildiğini göstermektedir. Mayıs ayı itibarıyla mevsimsellikten arındırılmış istihdam 31,7 milyon seviyesinde gerçekleşerek afet öncesinde ocak ayındaki seviyesinin 26 bin kişi üzerine çıkmıştır. Bu dönemde mevsimsellikten arındırılmış istihdam çeyreklik bazda yüzde 0,9 oranında, işgücüne katılım oranı 0,3 puan artış kaydetmiştir. İşsizlik oranı ise mayıs ayında bir önceki aydaki yüzde 10   21. Temmuz ayında küresel arz zincirindeki baskılara dair göstergeler ve uluslararası taşımacılık maliyetleri düşük seyretmektedir. Küresel Arz Zinciri Baskı Endeksi haziran ayında da tarihsel ortalamasının yaklaşık bir standart sapma altında değer almıştır. Küresel emtia fiyatları temmuz ayında belirgin bir değişim sergilememektedir. Özetle, mevcut küresel arz koşulları enflasyon açısından olumlu görünümünü sürdürmektedir. 22. 2023 yılı temmuz ayında asgari ücrette yapılan güncellemeye memur ve kamu işçi ücretlerindeki düzenlemelerin eşlik etmesi ve ücretlerdeki artışın genele yayılması sonucu yılın ikinci yarısında enflasyon üzerinde başta maliyet kanallı etkiler olmak üzere yukarı yönlü baskıların artacağı öngörülmektedir. 23. Türk lirasındaki değer kayıplarının, ücretlerde genele yayılan artışın ve vergi düzenlemelerinin yakın dönemde enflasyon üzerinde maliyet yönlü ilave baskı oluşturacağı öngörülmektedir. Söz konusu etmenlerden tüketici fiyatlarına geçişkenliğin özellikle talep koşullarının güçlü olduğu dönemlerde hızlı gerçekleştiği görülmektedir. Nitekim öncü göstergeler, maliyet gelişmelerinin etkisiyle temmuz ayında genele yayılan yüksek fiyat artışlarının gerçekleştiğine işaret etmektedir. Hizmet Enflasyonunda Katılık 24. Hizmet sektöründe fiyat artışları yüksek seviyelerini sürdürmekte, grup enflasyonu mallara kıyasla atalet göstermektedir. Yurt içi talep etkisinin daha belirgin olduğu hizmet sektöründe aylık artışlar 2022’ye kıyasla halen yüksek seyretmektedir. Mevsimsellikten arındırılmış tüketici fiyat artışlarının son üç aylık ortalaması B göstergesinde yüzde 2,8 iken, hizmetlerde yüzde 3,5’tir. Buna ek olarak hizmet sektörüne ait yayılım endeksi tarihsel ortalamasının üzerinde seyrederek artışların sektör geneline yayıldığını göstermektedir. 25. Gıda, ücret ve turizm kaynaklı gelişmelerden önemli ölçüde etkilenen lokanta ve otel alt grubunda aylık artışlar süreklilik gösteren bir görünüm arz etmektedir. Asgari ücret gelişmelerine duyarlılığı yüksek olan sektörün izleyen aylarda yüksek artış eğilimini koruması beklenmektedir. 26. Kira, eğitim, sağlık, eğlence-kültür başta olmak üzere belirli hizmet kalemleri geçmiş tüketici enflasyonuna dönük fiyatlama davranışı sergileyerek, enflasyonist etkilerin uzun bir zamana yayılmasına neden olmaktadır. Tüketici enflasyonunda yakın dönemde beklenen görünümle birlikte, geçmiş enflasyona endeksleme eğilimi belirgin olan gruplarda enflasyonun bir süre daha yüksek seyretme riski bulunmaktadır. 27. Akaryakıt fiyatları başta ulaştırma hizmetleri olmak üzere tüketici fiyatları üzerinde gerek üretim girdisi gerekse taşımacılık maliyetleri kanalıyla önemli bir etki oluşturma potansiyeline sahiptir. Akaryakıt fiyatlarında yakın dönemde döviz kuru, ham petrol fiyatları ve vergi artışı kaynaklı olarak kaydedilen belirgin artışın, ulaştırma hizmetleri fiyatlarına önümüzdeki dönemde önemli bir etkisi olabileceği değerlendirilmektedir. Vergi Düzenlemeleri 28. Kurul, vergi düzenlemelerinin kısa vadede enflasyon üzerinde ilave olumsuz etki yapacağını öngörmektedir. Bununla birlikte, vergi artışlarının etkisinin geçici olacağı, talep ve mali disiplin üzerindeki olumlu etkilerle bir miktar dengeleneceği değerlendirilmiştir. 29. Temmuz ayı ile birlikte KDV oranları 2 puan yükseltilmiştir. Genel artışın yanı sıra bazı temizlik ürünlerinde yüzde 8 olarak uygulanan KDV oranı yüzde 20 olarak uygulanmaya başlanmıştır. Tütün ürünlerinde KDV artışının mali çarpanı yukarıya çekmesiyle yüksek oranlı fiyat artışları gerçekleşmiştir.  6  30. Akaryakıtta maktu ÖTV tutarları artırılmıştır. Benzin ve motorinde 5 TL, LPG’de ise 4 TL olan maktu ÖTV artışı gerek doğrudan gerekse dolaylı olarak tüketici enflasyonunu olumsuz yönde etkileyecektir. Enflasyon Beklentileri 31. Enflasyon beklentilerindeki mevcut seyir ve fiyatlama davranışlarındaki bozulma, enflasyon görünümüne dair yukarı yönlü riskleri canlı tutmaktadır. Manşet enflasyon yayılım endeksi haziran ayında tarihsel ortalamasının yaklaşık iki standart sapma üzerinde değer almıştır. 32. Temmuz ayı Piyasa Katılımcıları Anketi sonuçlarına göre on iki ay sonrasına ilişkin enflasyon beklentisi yüzde 30,65’ten 2,56 puan artışla yüzde 33,21; gelecek yirmi dört ay sonrasına ilişkin enflasyon beklentisi yüzde 18,12’den 0,92 puan yükselişle yüzde 19,04; beş yıl sonrasına ilişkin enflasyon beklentisi ise yüzde 8,07’den 0,79 puan yukarı güncellenerek 8,86 olmuştur. 33. Tüketici enflasyonunun 2023 yılında bir miktar yükseldikten sonra faiz artışlarının ve miktarsal sıkılaştırmanın birikimli etkilerinin devreye girmesiyle gerileyerek önce tarihsel ortalamalara, sonra da orta vadeli hedefe kademeli olarak yakınsayacağı öngörülmektedir.   Parasal ve Finansal Koşullar 34. Kredi büyümesi iç talebi artırarak enflasyon üzerinde risk oluşturmaktadır. 14 Temmuz 2023 itibarıyla, 2022 yılı sonuna kıyasla bireysel kredi bakiyesi kredi kartlarında yüzde 81,1, taşıt kredilerinde yüzde 68,7, ihtiyaç kredilerinde yüzde 30,6 konut kredilerinde yüzde 22,1 olmak üzere toplamda yüzde 44,6 oranında artmıştır. Diğer taraftan, son PPK döneminden bu yana ihtiyaç kredi büyümesi yavaşlama eğilimini sürdürmüştür. İhtiyaç kredilerinde 16 Haziran’dan bu yana artış oranı yüzde 2,9 olmuştur. Bu gelişmede kredi büyümesine dayalı menkul kıymet tesisi uygulamasının kapsamının genişletilmesi etkili olmuştur. Diğer taraftan, kredi kartlarında büyüme güçlü seyretmeye devam etmektedir. Yıllık artış oranı yüzde 175,4’ten yüzde 186,6’ya çıkmıştır. TL ticari kredilerde yıllık büyüme oranları yüzde 73,8’den yüzde 69,1’e gerilerken, nispeten yatay bir seyir izlemiştir. 35. Önceki PPK döneminde düzenleme öncesi döneme göre 749 baz puan artarak yüzde 41,7 seviyesine yükselen ortalama ihtiyaç kredisi (KMH hariç) faizleri son PPK döneminde 644 baz puan artarak yüzde 48,1 seviyesine yükselmiştir. Aynı dönemde konut kredisi faizleri ile taşıt kredisi faizleri yüzde 21,8 ve yüzde 34 seviyelerinden sırasıyla yüzde 32,6 ve yüzde 41,3 seviyelerine yükselmiştir. Türk lirası ticari kredi faizleri ise politika faizindeki artış ile birlikte 1.054 baz puan artarak yüzde 25,2 olarak gerçekleşmiştir.  36. 23 Haziran haftasında yüzde 32,9 seviyesine yükselen TL mevduat faizleri politika faizindeki 650 baz puanlık artışa karşın gerileyerek 14 Temmuz haftasında yüzde 27,8 olarak gerçekleşmiştir. Politika faizi ve TL mevduat faizleri arasındaki fark belirgin şekilde azalmıştır. Bu gelişmede en önemli rolü mikro- ve makroihtiyati çerçevede sadeleşme sürecinin ilk adımı olan menkul kıymet tesisi uygulamasına ilişkin düzenleme oynamıştır.  37. Doğrudan yabancı yatırımlar, dış finansman koşullarındaki belirgin iyileşme, rezervlerde süregelen artış ve turizm gelirlerinin desteğiyle cari işlemler hesabındaki dengelenme fiyat istikrarına güçlü katkıda bulunacaktır. 38. Son dönemde yapılan anlaşmalar ile teknoloji yatırımlarını ve üretim kapasitesini geliştirecek alanlara yoğunlaşacak doğrudan yabancı yatırımlar önümüzdeki dönemde dış finansmanı destekleyecektir.     39. Yurt içi belirsizliklerin etkisiyle 22 Mayıs 2023 tarihinde 703 baz puan seviyesiyle bu yılın zirve noktasına ulaşan Türkiye’nin 5 yıllık CDS primi, önceki PPK döneminde 493 baz puan, 19 Temmuz 2023’te ise 457 baz puan seviyesine gerilemiştir. Benzer şekilde, Türk lirasının 1 ay ve 12 ay vadeli kur oynaklıkları önceki PPK dönemlerindeki 25,2 ve 33,8 puan seviyelerinden sırasıyla 23,6 ve 30,3 puana gerilemiştir. Risk primi ve kur oynaklıklarındaki düşüşlere haziran ayından itibaren 0,09 milyar ABD doları DİBS piyasasına ve 1,33 milyar doları hisse senedi piyasasına olmak üzere toplam 1,42 milyar ABD dolar net portföy girişi eşlik etmiştir. 40. TCMB uluslararası rezervleri haziran ayından itibaren güçlü bir artış eğilimine girmiştir. 2022 yılı sonu itibarıyla 128,8 milyar dolar seviyesinden mayıs sonunda 98,5 milyar dolar seviyesine gerileyen TCMB brüt uluslararası rezervleri 14 Temmuz itibarıyla 113,1 milyar dolar seviyesine yükselmiştir. Para Politikası 41. Politika faizi, enflasyonun ana eğilimini geriletecek ve enflasyonu orta vadede yüzde 5 hedefine ulaştıracak parasal ve finansal koşulları sağlayacak şekilde belirlenecektir. Kurul, para politikası çerçevesinin enflasyon görünümü ve yukarı yönlü riskler göz önüne alındığında yüzde 5 enflasyon hedefini gerçekleştirme kapasitesinin güçlendirilmesi gerektiği değerlendirmesinde bulunmuştur. Fiyat istikrarındaki bozulmanın makroekonomik istikrar ve özellikle finansal istikrar üzerinde oluşturabileceği risklere dikkat çekilmiştir. Bu doğrultuda Kurul, adımları gerektiği zamanda ve gerektiği ölçüde kademeli olarak güçlendirilen parasal sıkılaştırma sürecinin devamına karar vermiştir. Parasal sıkılaştırma sürecinin enflasyon görünümünde belirgin iyileşme sağlanana kadar devam etmesi öngörülmüştür. 42. Kurul, dezenflasyonun en kısa sürede tesisi, enflasyon beklentilerinin çıpalanması, fiyatlama davranışlarındaki bozulmanın kontrol altına alınması için başlatılan parasal sıkılaştırma sürecinin devamına karar vermiştir. Bu çerçevede, politika faizi olan bir hafta vadeli repo ihale faiz oranı yüzde 15’ten yüzde 17,5 düzeyine yükseltilmiştir.  43. Enflasyon görünümü parasal sıkılaştırma istikametindeki adımların sürekliliğini gerekli kılmaktadır. Kurul, parasal sıkılaştırma sürecinin makroekonomik ve finansal koşullar üzerindeki etkilerine dair analizleri incelemiştir. Faiz artırım senaryolarının enflasyon, kredi büyümesi, kredi ve piyasa faizleri, ekonomik aktivite, beklentiler gibi temel makroekonomik değişkenler üzerindeki etkileri bütünsel bir perspektifle değerlendirilmiştir.  44. Buna ek olarak Kurul, mevcut mikro- ve makroihtiyati çerçevenin makro finansal istikrarı destekleme ve piyasa mekanizmalarının işlevselliğini artırması konularında geliştirilmesi gerektiği tespitlerini tekrarlamıştır. Bu doğrultuda, söz konusu çerçevede sadeleşme politikasının devamına karar verilmiştir. Mevcut mikro- ve makroihtiyati çerçeve, piyasa mekanizmalarının işlevselliğini artıracak ve makro finansal istikrarı güçlendirecek şekilde sadeleştirilecektir. Sadeleşme süreci kademeli olmaya devam edecektir. Sadeleşme sürecinde atılan adımların hızı ve sıralaması etki analizleri ile belirlenmektedir. TCMB tarafından yapılan düzenlemelere ilişkin etki analizleri söz konusu çerçevenin tüm bileşenleri için enflasyon, faizler, döviz kurları, rezervler, beklentiler, menkul kıymetler ve finansal istikrar üzerindeki yansımalarıyla birlikte bütüncül bir bakış açısıyla değerlendirilerek yapılmaktadır.  45. Bu kapsamda Kurul, faiz artırımının yanı sıra, parasal sıkılaştırma sürecini destekleyecek seçici kredi ve miktarsal sıkılaştırma kararları almıştır. Bu kararlarla, temel politika aracı olan politika faizleri parasal, finansal koşullar ve beklentileri etkilerken, Türk lirası likidite ve tüketim talebindeki aşırılıkların dengelenmesi ve para politikasının etkinliğinin artırılması hedeflenmektedir. 46. Bireysel krediler, kredi kartları ve taşıt kredileri kategorilerinde 2023 başından beri aylık ortalama yüzde 9,8 ve yüzde 9,1 oranında artmaktadır. Bireysel kredilerdeki bu ivmelenmeyle    birlikte iç talebin hem doğrudan hem de cari denge üzerinden fiyat istikrarını bozduğu değerlendirilmiştir. Seçici kredi sıkılaştırması kararları sonucunda yurt içi talepte dengelenme sürecinin destekleneceği öngörülmektedir. 47. Döviz kuru gelişmelerinin etkisiyle kur korumalı mevduat hesaplarının kur farkı ödemeleri nedeniyle finansal sisteme girişi gerçekleşen Türk lirası likidite yakından izlenmektedir. Mevcut piyasa koşulları ve önümüzdeki döneme ilişkin likidite projeksiyonları dikkate alınarak yapılan etki analizleri çerçevesinde gerekli adımlar atılmaktadır. Piyasada oluşan likidite fazlasının miktarsal sıkılaştırma kararı çerçevesinde kur korumalı mevduat hesaplarına yönelik Türk lirası zorunlu karşılık oranlarının artırılması yoluyla sterilizasyonu planlanmıştır.  48. Enflasyon ve enflasyonun ana eğilimine ilişkin göstergeler yakından takip edilecek ve Kurul, fiyat istikrarı temel amacı doğrultusunda elindeki tüm araçları kararlılıkla kullanmaya devam edecektir. 49. Kurul, kararlarını öngörülebilir, veri odaklı ve şeffaf bir çerçevede almaya devam edecektir. '"
      ]
     },
     "execution_count": 110,
     "metadata": {},
     "output_type": "execute_result"
    }
   ],
   "source": [
    "_processed_text = discard_references(_processed_text)\n",
    "_processed_text"
   ]
  },
  {
   "cell_type": "code",
   "execution_count": 23,
   "metadata": {},
   "outputs": [
    {
     "name": "stdout",
     "output_type": "stream",
     "text": [
      "['1. ', '2. ', '3. ', '4. ', '5. ', '6. ', '7. ', '8. ', '9. ', '10. ', '11. ', '12. ', '14. ', '15. ', '16. ', '17. ', '18. ', '19. ', '20. ', '21. ']\n"
     ]
    }
   ],
   "source": [
    "regex1 = r\"(\\d{1,2}\\.\\s(?=[A-ZĞÜŞİÖÇÂÎÛ\\d]))\"\n",
    "regex2 = r\"((^|\\.)\\s+([A-ZĞÜŞİÖÇÂÎÛ\\d][a-zğüşıöçâîû\\d]+\\s{1,2})+(?=[a-zğüşıöçâîû]))\"\n",
    "res_0 = re.findall(regex1, _processed_text)\n",
    "print(res_0)\n",
    "# regex5 = r\"(Toplantı Tarih(ler)?i: \\d\\d? [a-zA-ZşığüŞİĞÜ]{4,7} \\d\\d\\d\\d)\" \n",
    "# res_1 = re.findall(regex5, text)\n",
    "# print(res_1)"
   ]
  },
  {
   "cell_type": "code",
   "execution_count": 112,
   "metadata": {},
   "outputs": [
    {
     "data": {
      "text/plain": [
       "['Enflasyon Gelişmeleri', 'Enflasyonu Etkileyen', 'Para Politikası']"
      ]
     },
     "execution_count": 112,
     "metadata": {},
     "output_type": "execute_result"
    }
   ],
   "source": [
    "temp2"
   ]
  },
  {
   "cell_type": "code",
   "execution_count": 211,
   "metadata": {},
   "outputs": [
    {
     "name": "stdout",
     "output_type": "stream",
     "text": [
      "('2006-52', '20 ve 25 Haziran 2006', '28 Haziran 2006')\n",
      "['1. ', '2. ', '3. ', '4. ', '5. ', '6. ', '7. ', '8. ', '9. ', '10. ', '11. ', '12. ', '13. ', '14. ', '15. ', '16. ', '17. ', '18. ', '19. ', '20. ', '21. ', '22. ', '23. ', '24. ']\n",
      "['Enflasyon Gelişmeleri ve Kısa Vadeli Tahminler', 'Enflasyonu Etkileyen Unsurlar', '20 Haziran ve 25 Haziran Para Politikası Kararları', 'Görünüm', 'Riskler ve Politika Tepkisi']\n"
     ]
    }
   ],
   "source": [
    "_processed_text = process_document(_doc_text, _no_of_pages, \"file\")"
   ]
  },
  {
   "cell_type": "code",
   "execution_count": 224,
   "metadata": {},
   "outputs": [
    {
     "name": "stdout",
     "output_type": "stream",
     "text": [
      "Sayı:2007-6                                                                                   15 Şubat 2007 PARA POLİTİKASI KURULU KARARI Toplantı Tarihi: 15 Şubat 2007  Toplantıya Katılan Kurul Üyeleri Durmuş Yılmaz [Başkan], Erdem Başçı, Burhan Göklemez, İbrahim Mustafa Turhan, Mehmet Yörükoğlu.  Para Politikası Kurulu (Kurul), Bankamız bünyesindeki Bankalararası Para Piyasası ve İstanbul Menkul Kıymetler Borsası Repo-Ters Repo Pazarı’nda uygulanmakta olan kısa vadeli faiz oranlarının aşağıdaki gibi sabit tutulmasına karar vermiştir: a) Gecelik faiz oranları: Merkez Bankası borçlanma faiz oranı yüzde 17,50, borç verme faiz oranı yüzde 22,50, b) Geç Likidite Penceresi Faiz Oranları: Geç Likidite Penceresi uygulaması çerçevesinde, Bankalararası Para Piyasası’nda saat 16.00-16.30 arası gecelik vadede uygulanan Merkez Bankası borçlanma faiz oranı yüzde 13,50, borç verme faiz oranı yüzde 25,50, c) Açık piyasa işlemleri çerçevesinde piyasa yapıcısı bankalara repo işlemleri yoluyla gecelik ve bir haftalık vadelerde tanınan borçlanma imkanı faiz oranı yüzde 21,50. Kurul, son dönemde açıklanan verilerin Enflasyon Raporu’nda ortaya konulan görünüm ile büyük ölçüde uyumlu olduğu değerlendirmesini yapmıştır. Ocak ayında enflasyonda görülen artış, işlenmemiş gıda fiyatlarındaki gelişmelerden kaynaklandığından orta vadeli enflasyon görünümünü değiştirmemiştir. Yıllık enflasyon, Şubat ayında işlenmemiş gıda fiyatlarında gözlenebilecek düzeltmenin katkısıyla aşağı yönlü, Mart ayında ise yönetilen/yönlendirilen ürün fiyatlarından kaynaklanan yukarı yönlü hareketler sergileyebilecekse de mevcut düşüş eğiliminin yılın ikinci çeyreğinden itibaren belirginleşeceği öngörülmektedir. Özel kesim tüketim talebindeki yavaşlama devam ederken dış talep gücünü korumaktadır. Toplam talep koşullarının enflasyondaki düşüş sürecine verdiği destek sürmektedir. Ayrıca, orta vadeli enflasyon beklentilerindeki kısmi iyileşme devam etmektedir. Bununla birlikte, beklentilerin henüz hedeflerle uyumlu olmaması ve hizmet fiyat enflasyonuna ilişkin riskler ile küresel ekonomideki belirsizlikler para politikasındaki sıkı duruşu sürdürmeyi gerektirmektedir.  Bu gelişmeler ışığında Kurul, orta vadede enflasyon hedefine ulaşılması için temkinli duruşun devam etmesinin gerektiği değerlendirmesini yapmıştır. 2006 Haziran ayından itibaren gerçekleştirilen parasal sıkılaştırmanın gecikmeli etkileri yakından takip edilmektedir. Bunun yanında yapısal reform sürecindeki gelişmelerin, gelirler politikasındaki ayarlamaların ve kamu kesimi faiz dışı harcamalarının enflasyon ve enflasyon beklentileri üzerindeki olası yansımaları da dikkatle değerlendirilmektedir. Merkez Bankası, orta vadeli enflasyon görünümünü olumsuz yönde etkileyecek gelişmelerin gözlenmesi halinde parasal sıkılaştırmaya gitmekten kaçınmayacaktır. Enflasyon görünümüne ilişkin açıklanacak her türlü yeni veri ve haberin, Para Politikası Kurulu’nun geleceğe yönelik duruşunu tekrar gözden geçirmesine neden olacağı önemle vurgulanmalıdır. Para Politikası Kurulu değerlendirmelerinin özeti sekiz iş günü içinde yayımlanacaktır. \n",
      "1 0 file\n",
      "[('Toplantıya Katılan Kurul Üyeleri Durmuş Yılmaz [Başkan], Erdem Başçı, Burhan Göklemez, İbrahim Mustafa Turhan, Mehmet Yörükoğlu.', 'Toplantıya Katılan Kurul Üyeleri', ' Durmuş Yılmaz [Başkan], Erdem Başçı, Burhan Göklemez, İbrahim Mustafa Turhan, Mehmet Yörükoğlu', '.', '')]\n",
      "[('PARA POLİTİKASI KURULU KARARI', '', 'PARA POLİTİKASI KURULU KARARI')]\n",
      "[]\n",
      "[('Sayı:2007-6', 'Sayı', '2007-')]\n",
      "['15 Şubat 2007', '15 Şubat 2007']\n",
      "Durmuş Yılmaz ['Erdem Başçı', 'Burhan Göklemez', 'İbrahim Mustafa Turhan', 'Mehmet Yörükoğlu']\n",
      "Para Politikası Kurulu (Kurul), Bankamız bünyesindeki Bankalararası Para Piyasası ve İstanbul Menkul Kıymetler Borsası Repo-Ters Repo Pazarı’nda uygulanmakta olan kısa vadeli faiz oranlarının aşağıdaki gibi sabit tutulmasına karar vermiştir: a) Gecelik faiz oranları: Merkez Bankası borçlanma faiz oranı yüzde 17,50, borç verme faiz oranı yüzde 22,50, b) Geç Likidite Penceresi Faiz Oranları: Geç Likidite Penceresi uygulaması çerçevesinde, Bankalararası Para Piyasası’nda saat 16.00-16.30 arası gecelik vadede uygulanan Merkez Bankası borçlanma faiz oranı yüzde 13,50, borç verme faiz oranı yüzde 25,50, c) Açık piyasa işlemleri çerçevesinde piyasa yapıcısı bankalara repo işlemleri yoluyla gecelik ve bir haftalık vadelerde tanınan borçlanma imkanı faiz oranı yüzde 21,50. Kurul, son dönemde açıklanan verilerin Enflasyon Raporu’nda ortaya konulan görünüm ile büyük ölçüde uyumlu olduğu değerlendirmesini yapmıştır. Ocak ayında enflasyonda görülen artış, işlenmemiş gıda fiyatlarındaki gelişmelerden kaynaklandığından orta vadeli enflasyon görünümünü değiştirmemiştir. Yıllık enflasyon, Şubat ayında işlenmemiş gıda fiyatlarında gözlenebilecek düzeltmenin katkısıyla aşağı yönlü, Mart ayında ise yönetilen/yönlendirilen ürün fiyatlarından kaynaklanan yukarı yönlü hareketler sergileyebilecekse de mevcut düşüş eğiliminin yılın ikinci çeyreğinden itibaren belirginleşeceği öngörülmektedir. Özel kesim tüketim talebindeki yavaşlama devam ederken dış talep gücünü korumaktadır. Toplam talep koşullarının enflasyondaki düşüş sürecine verdiği destek sürmektedir. Ayrıca, orta vadeli enflasyon beklentilerindeki kısmi iyileşme devam etmektedir. Bununla birlikte, beklentilerin henüz hedeflerle uyumlu olmaması ve hizmet fiyat enflasyonuna ilişkin riskler ile küresel ekonomideki belirsizlikler para politikasındaki sıkı duruşu sürdürmeyi gerektirmektedir. Bu gelişmeler ışığında Kurul, orta vadede enflasyon hedefine ulaşılması için temkinli duruşun devam etmesinin gerektiği değerlendirmesini yapmıştır. 2006 Haziran ayından itibaren gerçekleştirilen parasal sıkılaştırmanın gecikmeli etkileri yakından takip edilmektedir. Bunun yanında yapısal reform sürecindeki gelişmelerin, gelirler politikasındaki ayarlamaların ve kamu kesimi faiz dışı harcamalarının enflasyon ve enflasyon beklentileri üzerindeki olası yansımaları da dikkatle değerlendirilmektedir. Merkez Bankası, orta vadeli enflasyon görünümünü olumsuz yönde etkileyecek gelişmelerin gözlenmesi halinde parasal sıkılaştırmaya gitmekten kaçınmayacaktır. Enflasyon görünümüne ilişkin açıklanacak her türlü yeni veri ve haberin, Para Politikası Kurulu’nun geleceğe yönelik duruşunu tekrar gözden geçirmesine neden olacağı önemle vurgulanmalıdır. Para Politikası Kurulu değerlendirmelerinin özeti sekiz iş günü içinde yayımlanacaktır.\n"
     ]
    }
   ],
   "source": [
    "_processed_text = process_brief(_doc_text, _no_of_pages, \"file\")"
   ]
  },
  {
   "cell_type": "code",
   "execution_count": 212,
   "metadata": {},
   "outputs": [
    {
     "data": {
      "text/plain": [
       "{'number': '2006-52',\n",
       " 'date': '20 ve 25 Haziran 2006',\n",
       " 'published': '28 Haziran 2006',\n",
       " 'topics': [{'title': 'Enflasyon Gelişmeleri ve Kısa Vadeli Tahminler',\n",
       "   'items': [{'index': 1,\n",
       "     'text': 'Yılın ilk beş ayında enflasyondaki yükseliş büyük oranda arz yönlü unsurlardan kaynaklanmıştır. İşlenmemiş gıda ürünleri grubu fiyatları 2005 yılının ilk beş aylık döneminde birikimli olarak hemen hiç değişmezken, 2006 yılının aynı döneminde yüzde 11,4 oranında artmıştır. Bunun yanında, döviz kuru hareketlerinin Mayıs ayı enflasyonuna etkisi yaklaşık 0,65 puan olmuştur. Söz konusu etkiler hariç tutulduğunda, ilk beş aylık dönemdeki fiyat artış oranının geçtiğimiz yılın aynı dönemindeki orana yakın olduğu görülmektedir. Bu gözlem, yılın ilk beş ayında enflasyonun ana eğiliminde belirgin bir değişiklik olmadığına işaret etmektedir.'},\n",
       "    {'index': 2,\n",
       "     'text': 'İşlenmemiş gıda ürünleri fiyatlarının Haziran ve Temmuz aylarında enflasyona olumlu katkı yapma olasılığı yüksektir. Buna karşın, son dönemde döviz kurunda yaşanan hareketlerin tüketici fiyatları üzerindeki doğrudan etkilerinin Haziran ve Temmuz aylarında devam edeceği ve bu dönemde yıllık enflasyonun artacağı öngörülmektedir. Ağustos ayında ise geçtiğimiz yılın aynı ayında tütün ve alkollü içecekler grubu fiyatlarında yaşanan yüksek oranlı artıştan kaynaklanan etkinin ortadan kalkması ile yıllık enflasyonun düşmesi beklenmektedir.'},\n",
       "    {'index': 3,\n",
       "     'text': 'Takip eden aylardaki fiyat dinamiklerinin değerlendirilmesi açısından, arz-talep ve maliyetlere ilişkin gelişmelerin geleceğe dönük bir bakış açısıyla incelenmesi faydalı olacaktır.'}]},\n",
       "  {'title': 'Enflasyonu Etkileyen Unsurlar',\n",
       "   'items': [{'index': 4,\n",
       "     'text': 'Son aylarda, üretim faaliyetleri ve talepteki canlanma yeni bir ivmelenme olmaksızın sürmüş, yatırım harcamaları güçlü seyrini devam ettirmiştir. Ancak, Mayıs ayında başlayan mali piyasalardaki dalgalanmalar sonrasında makroekonomik görünümün yeniden ele alınması gerekmektedir.'},\n",
       "    {'index': 5,\n",
       "     'text': 'Mali piyasalardaki dalgalanmalar öncelikle ithal girdi maliyetlerini etkilemiştir. İmalat sanayi kısmi emek verimliliğindeki artışların 2006 yılının ilk çeyreğinde de sürmesi birim işgücü maliyetlerindeki düşüş eğiliminin devamını sağlasa da, söz konusu düşüş ithal girdi maliyetlerindeki yüksek oranlı artışı telafi edecek düzeyde olmayacaktır. Nitekim, İktisadi yönelim anketi (İYA) ortalama birim maliyet göstergesinin gelecek üç aylık eğilimi Mayıs ayında hızlı bir artış göstermiştir.'},\n",
       "    {'index': 6,\n",
       "     'text': 'Mali piyasalardaki dalgalanmalar, aynı zamanda talep koşullarını da değiştirmektedir. Tüketim ve yatırım harcamalarına ilişkin gerçekleşmeler yurt içi talebin yılın ikinci çeyreğinde güçlü seyrettiği yönünde sinyal vermektedir. Ancak yükselen faizler, sürmekte olan dalgalanmanın oluşturduğu belirsizlik algılaması ve ithal mallardaki göreli fiyat artışı önümüzdeki dönemde yurt içi talebi olumsuz etkileyecektir. Faiz oranlarındaki artış ve vadelerin kısalmasıyla beraber şimdiden kredi artış oranlarında yavaşlama görülmektedir. Tüketim Eğilim Anketi’ndeki beklentiler de talepteki yavaşlamaya işaret etmektedir. Nitekim, İYA iç piyasa sipariş ve satış göstergelerinin gelecek üç aylık eğilimleri Mayıs ayında sert düşüşler sergilemiştir.'},\n",
       "    {'index': 7,\n",
       "     'text': 'Bu gelişmelerin, yılın geri kalanında dış ticaret dengesi ve dolayısıyla cari açık üzerinde daraltıcı etkilerinin olması beklenmektedir. Yeni Türk lirasındaki değer kaybı neticesinde yabancı paralar cinsinden birim ücretlerin gerilemesiyle, özellikle emek yoğun sektörlerde ihracat performansının olumlu etkileneceği düşünülmektedir. Son dönemde yüksek artışlar gösteren ithalatın ise Temmuz ayından itibaren yavaşlaması beklenmektedir. Enerji fiyatlarındaki yüksek seviyeler nedeniyle ara malı ithalatının azalması beklenmese de, özellikle, 2005 yılının ikinci yarısından itibaren hızlı büyüme sergileyen sermaye ve tüketim malı ithalatının, 2006 yılının ikinci yarısında yıllık bazda önemli oranda gerileyeceği tahmin edilmektedir.'},\n",
       "    {'index': 8,\n",
       "     'text': 'Net dış talepteki artışa rağmen, kısa vadede iç talepteki yavaşlamanın baskın olacağı ve son dönemdeki dalgalanmaların toplam talep üzerindeki net etkisinin daralma yönünde olacağı düşünülmektedir. Bu çerçevede, talep koşullarının enflasyona yaptığı düşüş yönlü katkının, yılın ikinci yarısında artması beklenmektedir.'},\n",
       "    {'index': 9,\n",
       "     'text': 'Yatırım eğiliminin yılın ikinci yarısında yavaşlayacağı tahmin edilse de, orta vadede son üç yıldaki güçlü yatırımların verimlilik artışlarına destek vermeye devam etmesi beklenmektedir. Ayrıca, demografik unsurlar ve tarım sektöründeki yapısal dönüşüm nedeniyle kentlerdeki işgücü arzının artma eğiliminde olması, işgücü maliyetlerini sınırlamayı sürdürecektir. Sonuç olarak, birim işgücü maliyetlerinin, son yıllarda olduğu gibi önümüzdeki dönemde de enflasyondaki düşüş sürecine katkı yapmaya devam edeceği düşünülmektedir.'},\n",
       "    {'index': 10,\n",
       "     'text': 'Uluslararası emtia fiyatlarının Mayıs ayında görülen yüksek oranlı artıştan sonra azalış eğilimine girdiği, ancak halen göreli olarak yüksek düzeylerini koruduğu görülmektedir. Bu gelişmelere döviz kurundaki hareketler de eklenince emtia ve diğer ithal ara mallarının yerli para cinsinden maliyetleri artmıştır. İthal girdi maliyetlerindeki olumsuz gelişmelerin tüketici fiyatları üzerindeki dolaylı etkilerinin ne ölçüde ve ne kadar süreyle görüleceği, büyük ölçüde talep koşullarına ve bekleyişlerin seyrine bağlı olacaktır.'},\n",
       "    {'index': 11,\n",
       "     'text': 'Haziran ayı ikinci Beklenti anketi verileri, mali piyasalarda süren dalgalanmanın enflasyon bekleyişlerini olumsuz etkilediğini göstermektedir. Gerek gelecek 12 aylık dönemdeki enflasyon beklentisi, gerekse 24 ay sonraki yıllık enflasyon beklentisi orta vadeli hedeflerin üzerinde seyretmektedir. Para Politikası Kurulu özellikle 24 ay sonrasına ilişkin bekleyişlerin bozulma eğilimi göstermesini dikkat çekici bir gelişme olarak değerlendirmiştir.'}]},\n",
       "  {'title': '20 Haziran ve 25 Haziran Para Politikası Kararları',\n",
       "   'items': [{'index': 12,\n",
       "     'text': 'Para Politikası Kurulu 20 Haziran 2006 tarihindeki olağan toplantısında, 7 Haziran’daki takvim dışı toplantıdan sonra açıklanan verileri ve diğer gelişmeleri incelemiş ve 7-20 Haziran arasında karar alma sürecine etkide bulunacak önemli bir gelişme olmadığı değerlendirmesini yapmıştır. Bu değerlendirme doğrultusunda, bir önceki toplantıdaki politika duruşu korunmuştur. Söz konusu toplantıdan sonra yapılan kısa açıklamada, orta vadeli enflasyon görünümünü etkileyebilecek olumsuz bir gelişmenin ortaya çıkması halinde para politikasını etkin olarak kullanılacağı açık bir şekilde ifade edilmiştir. Bu bağlamda, özellikle orta vadeli bekleyişler, uluslararası likidite koşulları ve fiyatlama davranışlarına dikkat çekilmiş ve bu alanlardaki gelişmelerin çok yakından takip edileceği belirtilmiştir.'},\n",
       "    {'index': 13,\n",
       "     'text': '20 Haziran 2006 tarihli toplantıyı izleyen günlerde uluslararası likidite koşulları ve bekleyişler konusunda çarpıcı gelişmeler ortaya çıkmıştır. Uluslararası mali piyasalardaki hareketliliğin artması, gelişmekte olan ülkelerde gerek döviz kurları gerekse orta ve uzun vadeli faiz oranları üzerinde ekonomik temellerin gerektirdiğinin ötesinde baskı oluşturmaya devam etmiştir. Türkiye ise bu gelişmelerden, yurt dışında yerleşiklerin ellerinde tuttukları portföyün yapısının da katkısıyla daha fazla etkilenmiştir. Ayrıca, 22 Haziran tarihinde yayımlanan Beklenti anketi’nde orta vadeli enflasyon bekleyişlerinin artmaya devam ettiği görülmüştür.'},\n",
       "    {'index': 14,\n",
       "     'text': 'Bu gelişmelerin ardından, Para Politikası Kurulu gelişmeleri değerlendirmek ve alınacak önlemleri tartışmak üzere 25 Haziran 2006 günü toplanmıştır. Kurul üyeleri, ekonomimizdeki bekleyişleri ve risk algılamalarını normalin ötesinde etkileme potansiyeli taşıyan mali piyasalardaki bu hareketliliğin enflasyondaki orta vadeli düşüş sürecine engel olmasına izin verilmemesi gerektiği konusunda görüş birliğine varmıştır. Bu doğrultuda, para politikası kararlarının etkinliğini güçlendirmek amacıyla, açık piyasa işlemleri yoluyla gecelik para piyasasındaki fazla Yeni Türk lirası likiditesini azaltmak için depo alım ihalelerine başlanacağı açıklanmıştır. Böylelikle, Para Politikası Kurulu’nun program dışı toplantı ihtiyacı azalmıştır. Başkan Yılmaz, bu amaçla hazırlanan düzenlemeyi kurulun bilgisine sunmuştur. Ayrıca, toplantıda döviz piyasalarındaki likidite durumu etraflı olarak değerlendirilmiş, döviz likiditesinde daralma olduğu tespiti yapılmış, etkin çalışan bir döviz piyasasının fiyat istikrarı hedefi için ön koşul olması nedeniyle Merkez Bankası’nın elindeki araçlar ve mekanizmalar yoluyla döviz likiditesinin sağlanması yolunda Merkez Bankası İdare Merkezinin etkili bir şekilde müdahalesine Kurul’un tam desteği ifade edilmiştir. Öte yandan, 25 Haziran tarihli toplantıda, orta vadeli enflasyon bekleyişlerini düzeltmek amacıyla politika faizleri gözden geçirilmiş ve güçlü bir parasal sıkılaştırmaya daha gidilmesine karar verilmiştir. Böylece Kurul, enflasyonla mücadelede kararlılığını göstermiş ve orta vadeli hedeflere ulaşılabilmesi için  gerekeni yapmaya hazır olduğunu fiilen ifade etmiştir.'}]},\n",
       "  {'title': 'Görünüm',\n",
       "   'items': [{'index': 15,\n",
       "     'text': 'Alınan bu kararların ardından ve para politikasının temkinli duruşunu devam ettirdiği varsayımı altında, Kurul’un orta vadeli görünüme ilişkin değerlendirmeleri şu şekilde özetlenebilir:'},\n",
       "    {'index': 16,\n",
       "     'text': 'Kurul, 2006 yılının ikinci yarısında iç talep ve büyümenin yavaşlayacağını öngörmektedir. Yavaşlamanın durgunluk seviyesine ulaşmayacağı ancak ilk yarıya kıyasla büyüme oranlarında belirgin bir düşüş olacağı düşünülmektedir. Ekonomik faaliyetin orta vadede kademeli bir şekilde toparlanacağı tahmin edilse de 2007 yılının ilk yarısında da düşük büyüme hızlarının görülmesi sürpriz olmayacaktır.'},\n",
       "    {'index': 17,\n",
       "     'text': 'Talepte öngörülen bu daralma, aynı zamanda maliyet yönlü baskıların enflasyon üzerindeki ikincil etkilerinin sınırlı kalmasına katkıda bulunacaktır. Bu bağlamda, döviz kurundaki son hareketlerin fiyatlar üzerindeki etkisinin Ağustos ayından itibaren azalacağı tahmin edilmektedir. Yıllık enflasyonda Ağustos ayında düşüş beklense de mevsimsel fiyat ayarlamalarının yoğun olduğu sonbahar aylarında enflasyonda dalgalanmalar görülebilecektir. Ancak sonrasında enflasyonun tekrar istikrara kavuşacağı ve 2007 yılının ikinci çeyreğinden itibaren ana eğilimde belirgin bir düşüş gözleneceği tahmin edilmektedir.'},\n",
       "    {'index': 18,\n",
       "     'text': 'Merkez Bankası’nın aldığı son kararların ardından 2006 yılı sonunda enflasyonun tek haneli rakamlarda kalma olasılığı artmıştır. Daha da önemlisi, son dönemdeki döviz kuru hareketlerinin enflasyon üzerindeki yansımalarının 2007 yılına taşınma ihtimali azalmıştır. Bu bağlamda, Kurul, orta vadeli hedeflerin erişilebilir olduğunu düşünmektedir. Kuşkusuz, bu saptamaların arkasında mali disiplinin süreceği, gelirler politikasının enflasyon hedefleri ile uyumlu olmaya devam edeceği ve bekleyişlerin iyi yönetileceği varsayımı yatmaktadır.'}]},\n",
       "  {'title': 'Riskler ve Politika Tepkisi',\n",
       "   'items': [{'index': 19,\n",
       "     'text': 'Enerji ve emtia fiyatlarındaki artışların ve dünyadaki hızlı büyümenin gelişmiş ülkelerdeki enflasyon bekleyişlerine etkisi yakın tarihe kadar sınırlı olmuştur. Ancak, bu ülkelerde enflasyonun yükselmesi önemli bir risk olarak görülmektedir. Gelişmiş ülkelerin para otoriteleri, enflasyon ve para politikasına giderek daha temkinli bir tutum almaktadır. Para Politikası Kurulu global enflasyon kaygılarının ortadan kalkmaması ve buna bağlı olarak gelişmiş ülkelerdeki merkez bankalarının parasal sıkılaştırma sürecine devam etmesi olasılığını önemli risklerden biri olarak değerlendirmektedir.'},\n",
       "    {'index': 20,\n",
       "     'text': 'Global risk iştahının azalmaya devam etmesine yol açabilecek böyle bir durumun ortaya çıkması ve mali piyasalarımızda yeni dalgalanmalar olması halinde, Merkez Bankası göreli fiyatlardaki değişimden kaynaklanan doğrudan etkilere tepki vermeyecek ancak bekleyişler ve genel fiyatlama davranışının bozulmasına müsaade etmeyecektir. Bu doğrultuda, bugüne kadar olduğu gibi önümüzdeki dönemde de tüm politika araçlarının etkin bir şekilde kullanılmasından kaçınılmayacaktır.'},\n",
       "    {'index': 21,\n",
       "     'text': 'Kurul üyelerine göre önümüzdeki döneme ilişkin bir diğer temel risk, fiyatlama davranışlarının bozulma olasılığıdır. Merkez Bankası bünyesinde yapılan çalışmalar, son yıllarda enflasyon hedeflerinin giderek artan bir şekilde fiyatlamada referans olarak kullanılmaya başlandığını göstermektedir. Son dönemde enflasyonda yaşanan yükseliş geçici olmasına rağmen, yüksek enflasyon döneminin henüz hafızalardan silinmemiş olması nedeniyle, fiyatlamada geçmiş enflasyona veya hedef dışında bir değişkene endeksleme eğiliminin artması önlenmesi gereken bir risk unsurudur. Merkez Bankası’nın bu riske karşılık tepkisi, hızlı ve sert bir parasal sıkılaştırma paketi şeklinde olmuştur. Öngörülemeyen şoklar karşısında kısa vadede enflasyon hedeflerinden sapma olasılığı ortaya çıkmış olsa dahi, Merkez Bankası orta vadeli hedeflere ulaşılabilmesi için gereken tepkiyi vermiştir ve vermeye devam edecektir. Ekonomik birimlerin orta vadeli hesaplarını hedeflenen enflasyon rakamlarına göre yapmaları, tepkinin derecesini azaltacak ve ana eğilime daha çabuk dönülmesini sağlayacaktır. Merkez Bankası’nın temel amacı, orta vadeye ilişkin enflasyon bekleyişlerini hedefler ile uyumlu hale getirmektir; ancak o zaman enflasyon hedeflemesi rejimi başarıya ulaşmış sayılacaktır.'},\n",
       "    {'index': 22,\n",
       "     'text': 'Kurul, aylık fiyat verilerinin ekonomik birimler tarafından zaman zaman eksik yorumlanabildiği ve bu durumun bekleyişlerde rasyonel olmayan bozulmalara neden olabildiği değerlendirmesini yapmıştır. Özellikle son dönemde, fiyat verileri detaylı olarak incelenmeden orta vadeli enflasyona ilişkin güçlü hükümlere varma eğiliminin arttığı gözlenmiştir. Kurul, önümüzdeki aydan itibaren, aylık enflasyon verilerinin doğru anlaşılmasına katkıda bulunmak amacıyla, fiyat endekslerinin açıklanmasını takip eden iki işgünü içinde enflasyon gelişmelerini mercek altına alan teknik bir not yayımlanmasının faydalı olacağı değerlendirmesini yapmıştır. Ekonomideki son gelişmelerin orta vadeli enflasyon görünümüne ilişkin yansımalarının değerlendirileceği ve niceliksel tahminlerin yer alacağı Enflasyon Raporu ise 28 Temmuz 2006 tarihinde yayımlanacaktır.'},\n",
       "    {'index': 23,\n",
       "     'text': 'Süregelen kamu mali disiplini ve yapısal reformlar, mali baskınlık konusunu para politikası açısından bir kaygı unsuru olmaktan çıkarmakta ve Merkez Bankası’nın politika araçlarını daha aktif olarak kullanabilmesine olanak tanımaktadır. Fiyat istikrarının, gerek finansal istikrar gerekse sürdürülebilir büyüme açısından temel bir ön koşul olduğu unutulmamalıdır. Enflasyon belirsizliğinin azalması uzun vadeli faizlerin düşmesini sağlayacak, bu durumdan  hem finansal kesim hem de reel kesim olumlu etkilenecektir. Bu bağlamda, Merkez Bankası’nın fiyat istikrarına odaklanması orta ve uzun vadede toplumsal refaha katkıda bulunmaktadır.'},\n",
       "    {'index': 24,\n",
       "     'text': 'Son yıllarda makroekonomik istikrar yolunda önemli mesafe alınmıştır. Uygulanan basiretli makroekonomi politikalarının bu kazanımlarda rolü büyüktür. Elde edilen kazanımlardan geri dönülmemesi ve risk algılamasına yönelik kaygıların sınırlı tutulması açısından, istikrar ortamının devam etmesi gerekmektedir. Global risk algılamasının artış eğilimi gösterdiği bir dönemde bekleyişlerde bozulmaya yol açacak uygulamalardan kaçınılması büyük önem taşımaktadır. Bu bağlamda, Avrupa Birliği’ne uyum ve yakınsama sürecinin devam etmesi ile ekonomik reform programımıza ilişkin yapısal reformların planlandığı gibi kesintiye uğramaksızın hayata geçirilmesi kritik önemini korumaktadır. Son yıllarda söz konusu alanlarda atılan kararlı adımların önümüzdeki dönemde aynı kararlılıkla sürdürülmesi, uluslararası konjonktürdeki değişimlerin en az dalgalanmayla atlatılmasına katkıda bulunacaktır.'}]}]}"
      ]
     },
     "execution_count": 212,
     "metadata": {},
     "output_type": "execute_result"
    }
   ],
   "source": [
    "_processed_text"
   ]
  },
  {
   "cell_type": "code",
   "execution_count": null,
   "metadata": {},
   "outputs": [],
   "source": []
  },
  {
   "cell_type": "code",
   "execution_count": null,
   "metadata": {},
   "outputs": [],
   "source": []
  },
  {
   "cell_type": "code",
   "execution_count": null,
   "metadata": {},
   "outputs": [],
   "source": []
  },
  {
   "cell_type": "code",
   "execution_count": null,
   "metadata": {},
   "outputs": [],
   "source": []
  },
  {
   "cell_type": "code",
   "execution_count": null,
   "metadata": {},
   "outputs": [],
   "source": [
    "FOLDER_NAME = \"ppk\"\n",
    "pdf_data = []\n",
    "for path, dirs, files in os.walk(f\"{FOLDER_NAME}/özet/2024\"):\n",
    "    for file in files:\n",
    "        if file.endswith(\".pdf\"):\n",
    "            doc_text, no_of_pages = open_pdf(os.path.join(path, file))\n",
    "            processed_text = process_doc(doc_text, no_of_pages, file)\n",
    "            pdf_data.append({\n",
    "                \"text_raw\": doc_text,\n",
    "                \"text\": processed_text,\n",
    "                \"pages\": no_of_pages,\n",
    "                \"name\": file\n",
    "            })"
   ]
  },
  {
   "cell_type": "code",
   "execution_count": null,
   "metadata": {},
   "outputs": [],
   "source": [
    "regex1 = r\"([1-9][0-9]?\\.\\s)\"\n",
    "regex2 = \":::(()):::\"\n",
    "regex3 = r\"(Sayı: \\d\\d\\d\\d-\\d\\d)\"\n",
    "regex4 = r\"((Para Politikası Kurulu Toplantı Özeti)|(PARA POLİTİKASI KURULU TOPLANTI ÖZETİ))\"\n",
    "regex5 = r\"(Toplantı Tarihi: \\d\\d ([A-Z]|[a-z]|ş|ı|ğ|ü|Ş|İ|Ğ|Ü){4,7} \\d\\d\\d\\d)\"\n",
    "regex6 = r\"(\\d\\d ([A-Z]|[a-z]|ş|ı|ğ|ü|Ş|İ|Ğ|Ü){4,7} \\d\\d\\d\\d)\"\n",
    "regex7 = r\"BASIN DUYURUSU\"\n",
    "regex8 = r\"(([a-z]|[A-Z]|[0-9]|ğ|ü|ş|ı|ö|ç|Ğ|Ü|Ş|İ|Ö|Ç|Â|â|Î|î|Û|û|:|,|;|-|\\s|’|“|”|\\(|\\)){2,}\\.)\"\n",
    "\n",
    "res = re.findall(regex1, pdf_data[0]['text'])\n",
    "new_text = re.sub(regex1, regex2 + \"\\\\1\", pdf_data[0]['text'])\n",
    "new_text_parts = new_text.split(regex2)\n",
    "parsed = {\n",
    "    \"number\": \"\",\n",
    "    \"date\": \"\",\n",
    "    \"published\": \"\",\n",
    "    \"subjects\": []\n",
    "}\n",
    "paragraph = \"\"\n",
    "paragraph_items = []\n",
    "for i, p in enumerate(new_text_parts):\n",
    "    res2 = re.findall(regex1, p)\n",
    "    if len(res2) == 0:\n",
    "        res_0_0 = re.findall(regex3, p)\n",
    "        res_0_1 = re.findall(regex4, p)\n",
    "        res_0_2 = re.findall(regex5, p)\n",
    "        res_0_3 = re.findall(regex7, p)\n",
    "        parsed[\"number\"] = res_0_0[0].split(\":\")[1].strip()\n",
    "        parsed[\"date\"] = res_0_2[0][0].split(\":\")[1].strip()\n",
    "        p = re.sub(regex3, \"\", p)\n",
    "        p = re.sub(regex4, \"\", p)\n",
    "        p = re.sub(regex5, \"\", p)\n",
    "        p = re.sub(regex7, \"\", p)\n",
    "        res_0_3 = re.findall(regex6, p)\n",
    "        parsed[\"published\"] = res_0_3[0][0]\n",
    "        p = re.sub(regex6, \"\", p)\n",
    "        p = p.replace(\",\", \"\")\n",
    "        paragraph = p.strip()\n",
    "        \n",
    "    elif len(res2) == 1:\n",
    "        p = re.sub(regex1, \"\", p)\n",
    "        res3 = re.findall(regex8, p)\n",
    "        p = re.sub(regex8, \"\", p)\n",
    "        item_idx = int(res2[0].split(\".\")[0])\n",
    "        item_text = \"\".join([r[0].strip() for r in res3])\n",
    "        paragraph_items.append({\"index\": item_idx, \"text\": item_text})\n",
    "        if p.strip() == \"\":\n",
    "            if i == len(new_text_parts) - 1:\n",
    "                parsed[\"subjects\"].append({\"title\": paragraph, \"items\": paragraph_items})\n",
    "        else:\n",
    "            parsed[\"subjects\"].append({\"title\": paragraph, \"items\": paragraph_items})\n",
    "            paragraph = p.strip()\n",
    "            paragraph_items = []\n",
    "            \n",
    "    else:\n",
    "        print(\"error\")"
   ]
  },
  {
   "cell_type": "code",
   "execution_count": null,
   "metadata": {},
   "outputs": [],
   "source": [
    "parsed"
   ]
  },
  {
   "cell_type": "code",
   "execution_count": null,
   "metadata": {},
   "outputs": [],
   "source": [
    "for i, d in enumerate(pdf_data):\n",
    "\n",
    "    # discard footnotes\n",
    "    \n",
    "    re_0 = r\"((\\s){2,}[1-9][0-9]?\\s([a-z]|[A-Z]|[0-9]|ğ|ü|ş|ı|ö|ç|Ğ|Ü|Ş|İ|Ö|Ç|:|,|\\s|\\.|“|”){50,}(\\s([2-9]|[1-9][0-9])\\s\\s))\"\n",
    "    d[\"doc_text\"] = re.sub(re_0, \"\\\\4\", d[\"doc_text\"])\n",
    "    \n",
    "    # discard footnote references\n",
    "\n",
    "    re_1 = r\"(([a-z]|ğ|ü|ş|ı|ö|ç)(\\.\\d|\\d\\.)\\s)\"\n",
    "    d[\"doc_text\"] = re.sub(re_1, \"\\\\2. \", d[\"doc_text\"])\n",
    "\n",
    "    # discard page numbers from text\n",
    "     \n",
    "    re_2 = r\"((^\\s?1)|(\\s([2-9]|[1-9][0-9]))\\s\\s)\"\n",
    "    re_3 = r\"((^\\s?1\\s\\s)|((\\s([2-9]|[1-9][0-9])\\s\\s)|(\\s\\s([2-9]|[1-9][0-9])\\s)))\"\n",
    "    re_4 = r\"((\\s([1-9]|[1-9][0-9])\\s\\s)|(\\s\\s([2-9]|[1-9][0-9])\\s)|(\\s\" + str(d[\"no_of_pages\"]) + \"\\s$))\"\n",
    "    result = re.findall(re_2, d[\"doc_text\"])\n",
    "    if d[\"no_of_pages\"] != len(result):\n",
    "        result = re.findall(re_3, d[\"doc_text\"])\n",
    "        re_2 = re_3\n",
    "    if d[\"no_of_pages\"] != len(res):\n",
    "        result = re.findall(re_4, d[\"doc_text\"])\n",
    "        re_2 = re_4\n",
    "\n",
    "    d[\"doc_text\"] = re.sub(re_2, \"\", d[\"doc_text\"])\n",
    "\n",
    "    test_numbers = \"\".join([r[0].strip()for r in result])\n",
    "    print(d[\"no_of_pages\"], len(result), d[\"doc_name\"], i, test_numbers)\n",
    "\n",
    "\n",
    "\n",
    "    # result = re.findall(re_0, d[\"doc_text\"])\n",
    "    # result_1 = re.findall(re_1, d[\"doc_text\"])\n",
    "\n",
    "    # print(d[\"doc_name\"], len(result), len(result_1))\n",
    "    \n"
   ]
  },
  {
   "cell_type": "code",
   "execution_count": null,
   "metadata": {},
   "outputs": [],
   "source": [
    "test_text = pdf_data[5][\"doc_text\"]\n",
    "print(test_text)"
   ]
  },
  {
   "cell_type": "code",
   "execution_count": null,
   "metadata": {},
   "outputs": [],
   "source": [
    "test_text = re.sub(r\"((\\s){2,}[1-9][0-9]?\\s([a-z]|[A-Z]|[0-9]|ğ|ü|ş|ı|ö|ç|Ğ|Ü|Ş|İ|Ö|Ç|:|,|\\s|\\.|“|”){50,}(\\s([2-9]|[1-9][0-9])\\s\\s))\", \"\\\\4\", test_text)\n",
    "print(test_text)"
   ]
  },
  {
   "cell_type": "code",
   "execution_count": null,
   "metadata": {},
   "outputs": [],
   "source": [
    "res = re.findall(r\"((\\s){2,}[1-9][0-9]?\\s([a-z]|[A-Z]|[0-9]|ğ|ü|ş|ı|ö|ç|Ğ|Ü|Ş|İ|Ö|Ç|:|,|\\s|\\.|“|”){50,}(\\s([2-9]|[1-9][0-9])\\s\\s))\", test_text)\n",
    "print(res)"
   ]
  },
  {
   "cell_type": "code",
   "execution_count": null,
   "metadata": {},
   "outputs": [],
   "source": [
    "test_text = re.sub(r\"(([a-z]|ğ|ü|ş|ı|ö|ç)(\\.\\d|\\d\\.)\\s)\", \"\\\\2. \", test_text)\n",
    "print(test_text)"
   ]
  },
  {
   "cell_type": "code",
   "execution_count": null,
   "metadata": {},
   "outputs": [],
   "source": [
    "for i, d in enumerate(pdf_data):\n",
    "    \n",
    "    # discard page numbers from text\n",
    "     \n",
    "    re_1 = r\"((^\\s?1)|(\\s([2-9]|[1-9][0-9]))\\s\\s)\"\n",
    "    re_2 = r\"((^\\s?1\\s\\s)|((\\s([2-9]|[1-9][0-9])\\s\\s)|(\\s\\s([2-9]|[1-9][0-9])\\s)))\"\n",
    "    re_3 = r\"((\\s([1-9]|[1-9][0-9])\\s\\s)|(\\s\\s([2-9]|[1-9][0-9])\\s)|(\\s\" + str(d[\"no_of_pages\"]) + \"\\s$))\"\n",
    "    result = re.findall(re_1, d[\"doc_text\"])\n",
    "    if d[\"no_of_pages\"] != len(result):\n",
    "        result = re.findall(re_2, d[\"doc_text\"])\n",
    "        re_1 = re_2\n",
    "    if d[\"no_of_pages\"] != len(res):\n",
    "        result = re.findall(re_3, d[\"doc_text\"])\n",
    "        re_1 = re_3\n",
    "\n",
    "    d[\"doc_text\"] = re.sub(re_1, \"\", d[\"doc_text\"])\n",
    "\n",
    "    \n",
    "    \n",
    "\n",
    "    # if d[\"no_of_pages\"] != len(result):\n",
    "    #     print(d[\"no_of_pages\"], d[\"doc_name\"], i)\n",
    "\n",
    "    # test_numbers = \"\".join([r[0].strip()for r in result])\n",
    "    # print(d[\"no_of_pages\"], len(result), d[\"doc_name\"], i, test_numbers)"
   ]
  },
  {
   "cell_type": "code",
   "execution_count": null,
   "metadata": {},
   "outputs": [],
   "source": [
    "pdf_data[5][\"doc_text\"]"
   ]
  }
 ],
 "metadata": {
  "kernelspec": {
   "display_name": "venv",
   "language": "python",
   "name": "python3"
  },
  "language_info": {
   "codemirror_mode": {
    "name": "ipython",
    "version": 3
   },
   "file_extension": ".py",
   "mimetype": "text/x-python",
   "name": "python",
   "nbconvert_exporter": "python",
   "pygments_lexer": "ipython3",
   "version": "3.9.6"
  }
 },
 "nbformat": 4,
 "nbformat_minor": 2
}
