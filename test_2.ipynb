{
 "cells": [
  {
   "cell_type": "code",
   "execution_count": null,
   "metadata": {},
   "outputs": [],
   "source": [
    "from gensim.models import KeyedVectors\n",
    "word_vectors = KeyedVectors.load_word2vec_format('trmodel', binary=True)"
   ]
  },
  {
   "cell_type": "code",
   "execution_count": null,
   "metadata": {},
   "outputs": [
    {
     "data": {
      "text/plain": [
       "[('kraliçe', 0.508816123008728),\n",
       " ('kralı', 0.4718089997768402),\n",
       " ('kralın', 0.44512391090393066),\n",
       " ('kraliçesi', 0.4190150797367096),\n",
       " ('prenses', 0.4071305990219116),\n",
       " ('hükümdar', 0.4056030511856079),\n",
       " ('prens', 0.3978962004184723),\n",
       " ('kraliçenin', 0.39632880687713623),\n",
       " ('veliaht', 0.38219931721687317),\n",
       " ('tahtı', 0.3773398697376251)]"
      ]
     },
     "metadata": {},
     "output_type": "display_data"
    }
   ],
   "source": [
    "word_vectors.most_similar(positive=[\"kral\",\"kadın\"],negative=[\"erkek\"])"
   ]
  },
  {
   "cell_type": "code",
   "execution_count": null,
   "metadata": {},
   "outputs": [
    {
     "data": {
      "text/plain": [
       "[('gidiyor', 0.5926218628883362),\n",
       " ('gidiyorum', 0.5690364837646484),\n",
       " ('gidelim', 0.5637924671173096),\n",
       " ('geldim', 0.5413458943367004),\n",
       " ('bakıyor', 0.5373592376708984),\n",
       " ('gittim', 0.5343413949012756),\n",
       " ('gideceğim', 0.5251941680908203),\n",
       " ('geldik', 0.5050601363182068),\n",
       " ('geliyoruz', 0.5047824382781982),\n",
       " ('gider', 0.504159688949585)]"
      ]
     },
     "metadata": {},
     "output_type": "display_data"
    }
   ],
   "source": [
    "word_vectors.most_similar(positive=[\"geliyor\",\"gitmek\"],negative=[\"gelmek\"])"
   ]
  },
  {
   "cell_type": "code",
   "execution_count": null,
   "metadata": {},
   "outputs": [
    {
     "data": {
      "text/plain": [
       "'ev'"
      ]
     },
     "metadata": {},
     "output_type": "display_data"
    }
   ],
   "source": [
    "word_vectors.doesnt_match([\"elma\",\"portakal\",\"çilek\",\"ev\"])"
   ]
  },
  {
   "cell_type": "code",
   "execution_count": null,
   "metadata": {},
   "outputs": [
    {
     "data": {
      "text/plain": [
       "[('işsizlik', 0.7403160929679871),\n",
       " ('enflasyonun', 0.7283582091331482),\n",
       " ('fiyatlar', 0.697136402130127),\n",
       " ('fiyat', 0.6906115412712097),\n",
       " ('büyüme', 0.6870940327644348),\n",
       " ('durgunluk', 0.6773027777671814),\n",
       " ('fiyatların', 0.6735026836395264),\n",
       " ('enflasyonu', 0.6506051421165466),\n",
       " ('faiz', 0.6441252827644348),\n",
       " ('likidite', 0.640408456325531)]"
      ]
     },
     "metadata": {},
     "output_type": "display_data"
    }
   ],
   "source": [
    "word_vectors.most_similar(\"enflasyon\")"
   ]
  }
 ],
 "metadata": {
  "language_info": {
   "name": "python"
  }
 },
 "nbformat": 4,
 "nbformat_minor": 2
}
